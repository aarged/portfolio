{
 "cells": [
  {
   "cell_type": "markdown",
   "metadata": {},
   "source": [
    "# ERP SALES INVOICE DATA SAMPLE INTERACTIVE DASHBOARD\n",
    "\n",
    "The purpose of this document is to demonstrate the interactive graphing capabilities of the Python programming language. The visualizations in this example are generated using a synthetic dataset which is stored in a secure online repository and shared via Jupyter notebooks. Find out more at https://jupyter.org/ "
   ]
  },
  {
   "cell_type": "code",
   "execution_count": 1,
   "metadata": {},
   "outputs": [
    {
     "data": {
      "text/html": [
       "        <script type=\"text/javascript\">\n",
       "        window.PlotlyConfig = {MathJaxConfig: 'local'};\n",
       "        if (window.MathJax) {MathJax.Hub.Config({SVG: {font: \"STIX-Web\"}});}\n",
       "        if (typeof require !== 'undefined') {\n",
       "        require.undef(\"plotly\");\n",
       "        requirejs.config({\n",
       "            paths: {\n",
       "                'plotly': ['https://cdn.plot.ly/plotly-latest.min']\n",
       "            }\n",
       "        });\n",
       "        require(['plotly'], function(Plotly) {\n",
       "            window._Plotly = Plotly;\n",
       "        });\n",
       "        }\n",
       "        </script>\n",
       "        "
      ]
     },
     "metadata": {},
     "output_type": "display_data"
    }
   ],
   "source": [
    "import numpy as np\n",
    "import pandas as pd\n",
    "import datetime\n",
    "import matplotlib.pyplot as plt\n",
    "import seaborn as sns\n",
    "import plotly.express as px\n",
    "import calendar\n",
    "import csv\n",
    "import random\n",
    "\n",
    "%matplotlib inline\n",
    "sns.set()\n",
    "\n",
    "pd.set_option('display.float_format', lambda x: '%.2f' % x)\n",
    "\n",
    "\n",
    "from plotly.offline import init_notebook_mode,iplot\n",
    "import plotly.graph_objects as go\n",
    "import cufflinks as cf\n",
    "init_notebook_mode(connected=True)\n",
    "import plotly.graph_objects as go\n",
    "\n",
    "from mlxtend.frequent_patterns import apriori, association_rules\n",
    "\n",
    "import requests\n",
    "import io"
   ]
  },
  {
   "cell_type": "code",
   "execution_count": 2,
   "metadata": {},
   "outputs": [
    {
     "data": {
      "text/html": [
       "<script>\n",
       "code_show=true; \n",
       "function code_toggle() {\n",
       " if (code_show){\n",
       " $('div.input').hide();\n",
       " } else {\n",
       " $('div.input').show();\n",
       " }\n",
       " code_show = !code_show\n",
       "} \n",
       "$( document ).ready(code_toggle);\n",
       "</script>\n",
       "The raw code for this IPython notebook is by default hidden for easier reading.\n",
       "To toggle on/off the raw code, click <a href=\"javascript:code_toggle()\">here</a>."
      ],
      "text/plain": [
       "<IPython.core.display.HTML object>"
      ]
     },
     "execution_count": 2,
     "metadata": {},
     "output_type": "execute_result"
    }
   ],
   "source": [
    "from IPython.display import HTML\n",
    "HTML('''<script>\n",
    "code_show=true; \n",
    "function code_toggle() {\n",
    " if (code_show){\n",
    " $('div.input').hide();\n",
    " } else {\n",
    " $('div.input').show();\n",
    " }\n",
    " code_show = !code_show\n",
    "} \n",
    "$( document ).ready(code_toggle);\n",
    "</script>\n",
    "The raw code for this IPython notebook is by default hidden for easier reading.\n",
    "To toggle on/off the raw code, click <a href=\"javascript:code_toggle()\">here</a>.''')"
   ]
  },
  {
   "cell_type": "code",
   "execution_count": 3,
   "metadata": {},
   "outputs": [],
   "source": [
    "username = 'azzaroonie'\n",
    "token = '01a4af5ad6aa740f02fa44dab39bd72d9e250134'\n",
    "\n",
    "github_session = requests.Session()\n",
    "github_session_auth = (username, token)\n",
    "\n",
    "url = 'https://raw.githubusercontent.com/azzaroonie/stashorama/master/synth_rev2.csv?token=APBK6OXCNFYERX32HVTMVP27YMYO4'\n",
    "download = github_session.get(url).content\n",
    "\n",
    "df = pd.read_csv(io.StringIO(download.decode('utf-8')))"
   ]
  },
  {
   "cell_type": "code",
   "execution_count": 4,
   "metadata": {},
   "outputs": [],
   "source": [
    "saleval = pd.pivot_table(df, index = ['year','pricing_structure'], values = ['cost_value','sale_value','margin'], aggfunc = {'cost_value':'sum','sale_value':'sum','margin':'sum'})\n",
    "saleval = saleval.reset_index(drop = False)"
   ]
  },
  {
   "cell_type": "code",
   "execution_count": 5,
   "metadata": {},
   "outputs": [
    {
     "data": {
      "application/vnd.plotly.v1+json": {
       "config": {
        "plotlyServerURL": "https://plot.ly"
       },
       "data": [
        {
         "alignmentgroup": "True",
         "hovertemplate": "pricing_structure=Premier<br>year=%{x}<br>sale_value=%{y}<extra></extra>",
         "legendgroup": "Premier",
         "marker": {
          "color": "#636efa"
         },
         "name": "Premier",
         "offsetgroup": "Premier",
         "orientation": "v",
         "showlegend": true,
         "textposition": "auto",
         "type": "bar",
         "x": [
          2017,
          2018,
          2019
         ],
         "xaxis": "x",
         "y": [
          2054868.714465602,
          1824138.7665407967,
          1985814.646857599
         ],
         "yaxis": "y"
        },
        {
         "alignmentgroup": "True",
         "hovertemplate": "pricing_structure=Rental<br>year=%{x}<br>sale_value=%{y}<extra></extra>",
         "legendgroup": "Rental",
         "marker": {
          "color": "#EF553B"
         },
         "name": "Rental",
         "offsetgroup": "Rental",
         "orientation": "v",
         "showlegend": true,
         "textposition": "auto",
         "type": "bar",
         "x": [
          2017,
          2018,
          2019
         ],
         "xaxis": "x",
         "y": [
          349554.0678687999,
          367307.01514279953,
          429673.4145504
         ],
         "yaxis": "y"
        },
        {
         "alignmentgroup": "True",
         "hovertemplate": "pricing_structure=Retail<br>year=%{x}<br>sale_value=%{y}<extra></extra>",
         "legendgroup": "Retail",
         "marker": {
          "color": "#00cc96"
         },
         "name": "Retail",
         "offsetgroup": "Retail",
         "orientation": "v",
         "showlegend": true,
         "textposition": "auto",
         "type": "bar",
         "x": [
          2017,
          2018,
          2019
         ],
         "xaxis": "x",
         "y": [
          144161.91868000006,
          160747.31018480004,
          191981.26696879993
         ],
         "yaxis": "y"
        }
       ],
       "layout": {
        "barmode": "relative",
        "legend": {
         "title": {
          "text": "pricing_structure"
         },
         "tracegroupgap": 0
        },
        "template": {
         "data": {
          "bar": [
           {
            "error_x": {
             "color": "#2a3f5f"
            },
            "error_y": {
             "color": "#2a3f5f"
            },
            "marker": {
             "line": {
              "color": "#E5ECF6",
              "width": 0.5
             }
            },
            "type": "bar"
           }
          ],
          "barpolar": [
           {
            "marker": {
             "line": {
              "color": "#E5ECF6",
              "width": 0.5
             }
            },
            "type": "barpolar"
           }
          ],
          "carpet": [
           {
            "aaxis": {
             "endlinecolor": "#2a3f5f",
             "gridcolor": "white",
             "linecolor": "white",
             "minorgridcolor": "white",
             "startlinecolor": "#2a3f5f"
            },
            "baxis": {
             "endlinecolor": "#2a3f5f",
             "gridcolor": "white",
             "linecolor": "white",
             "minorgridcolor": "white",
             "startlinecolor": "#2a3f5f"
            },
            "type": "carpet"
           }
          ],
          "choropleth": [
           {
            "colorbar": {
             "outlinewidth": 0,
             "ticks": ""
            },
            "type": "choropleth"
           }
          ],
          "contour": [
           {
            "colorbar": {
             "outlinewidth": 0,
             "ticks": ""
            },
            "colorscale": [
             [
              0,
              "#0d0887"
             ],
             [
              0.1111111111111111,
              "#46039f"
             ],
             [
              0.2222222222222222,
              "#7201a8"
             ],
             [
              0.3333333333333333,
              "#9c179e"
             ],
             [
              0.4444444444444444,
              "#bd3786"
             ],
             [
              0.5555555555555556,
              "#d8576b"
             ],
             [
              0.6666666666666666,
              "#ed7953"
             ],
             [
              0.7777777777777778,
              "#fb9f3a"
             ],
             [
              0.8888888888888888,
              "#fdca26"
             ],
             [
              1,
              "#f0f921"
             ]
            ],
            "type": "contour"
           }
          ],
          "contourcarpet": [
           {
            "colorbar": {
             "outlinewidth": 0,
             "ticks": ""
            },
            "type": "contourcarpet"
           }
          ],
          "heatmap": [
           {
            "colorbar": {
             "outlinewidth": 0,
             "ticks": ""
            },
            "colorscale": [
             [
              0,
              "#0d0887"
             ],
             [
              0.1111111111111111,
              "#46039f"
             ],
             [
              0.2222222222222222,
              "#7201a8"
             ],
             [
              0.3333333333333333,
              "#9c179e"
             ],
             [
              0.4444444444444444,
              "#bd3786"
             ],
             [
              0.5555555555555556,
              "#d8576b"
             ],
             [
              0.6666666666666666,
              "#ed7953"
             ],
             [
              0.7777777777777778,
              "#fb9f3a"
             ],
             [
              0.8888888888888888,
              "#fdca26"
             ],
             [
              1,
              "#f0f921"
             ]
            ],
            "type": "heatmap"
           }
          ],
          "heatmapgl": [
           {
            "colorbar": {
             "outlinewidth": 0,
             "ticks": ""
            },
            "colorscale": [
             [
              0,
              "#0d0887"
             ],
             [
              0.1111111111111111,
              "#46039f"
             ],
             [
              0.2222222222222222,
              "#7201a8"
             ],
             [
              0.3333333333333333,
              "#9c179e"
             ],
             [
              0.4444444444444444,
              "#bd3786"
             ],
             [
              0.5555555555555556,
              "#d8576b"
             ],
             [
              0.6666666666666666,
              "#ed7953"
             ],
             [
              0.7777777777777778,
              "#fb9f3a"
             ],
             [
              0.8888888888888888,
              "#fdca26"
             ],
             [
              1,
              "#f0f921"
             ]
            ],
            "type": "heatmapgl"
           }
          ],
          "histogram": [
           {
            "marker": {
             "colorbar": {
              "outlinewidth": 0,
              "ticks": ""
             }
            },
            "type": "histogram"
           }
          ],
          "histogram2d": [
           {
            "colorbar": {
             "outlinewidth": 0,
             "ticks": ""
            },
            "colorscale": [
             [
              0,
              "#0d0887"
             ],
             [
              0.1111111111111111,
              "#46039f"
             ],
             [
              0.2222222222222222,
              "#7201a8"
             ],
             [
              0.3333333333333333,
              "#9c179e"
             ],
             [
              0.4444444444444444,
              "#bd3786"
             ],
             [
              0.5555555555555556,
              "#d8576b"
             ],
             [
              0.6666666666666666,
              "#ed7953"
             ],
             [
              0.7777777777777778,
              "#fb9f3a"
             ],
             [
              0.8888888888888888,
              "#fdca26"
             ],
             [
              1,
              "#f0f921"
             ]
            ],
            "type": "histogram2d"
           }
          ],
          "histogram2dcontour": [
           {
            "colorbar": {
             "outlinewidth": 0,
             "ticks": ""
            },
            "colorscale": [
             [
              0,
              "#0d0887"
             ],
             [
              0.1111111111111111,
              "#46039f"
             ],
             [
              0.2222222222222222,
              "#7201a8"
             ],
             [
              0.3333333333333333,
              "#9c179e"
             ],
             [
              0.4444444444444444,
              "#bd3786"
             ],
             [
              0.5555555555555556,
              "#d8576b"
             ],
             [
              0.6666666666666666,
              "#ed7953"
             ],
             [
              0.7777777777777778,
              "#fb9f3a"
             ],
             [
              0.8888888888888888,
              "#fdca26"
             ],
             [
              1,
              "#f0f921"
             ]
            ],
            "type": "histogram2dcontour"
           }
          ],
          "mesh3d": [
           {
            "colorbar": {
             "outlinewidth": 0,
             "ticks": ""
            },
            "type": "mesh3d"
           }
          ],
          "parcoords": [
           {
            "line": {
             "colorbar": {
              "outlinewidth": 0,
              "ticks": ""
             }
            },
            "type": "parcoords"
           }
          ],
          "pie": [
           {
            "automargin": true,
            "type": "pie"
           }
          ],
          "scatter": [
           {
            "marker": {
             "colorbar": {
              "outlinewidth": 0,
              "ticks": ""
             }
            },
            "type": "scatter"
           }
          ],
          "scatter3d": [
           {
            "line": {
             "colorbar": {
              "outlinewidth": 0,
              "ticks": ""
             }
            },
            "marker": {
             "colorbar": {
              "outlinewidth": 0,
              "ticks": ""
             }
            },
            "type": "scatter3d"
           }
          ],
          "scattercarpet": [
           {
            "marker": {
             "colorbar": {
              "outlinewidth": 0,
              "ticks": ""
             }
            },
            "type": "scattercarpet"
           }
          ],
          "scattergeo": [
           {
            "marker": {
             "colorbar": {
              "outlinewidth": 0,
              "ticks": ""
             }
            },
            "type": "scattergeo"
           }
          ],
          "scattergl": [
           {
            "marker": {
             "colorbar": {
              "outlinewidth": 0,
              "ticks": ""
             }
            },
            "type": "scattergl"
           }
          ],
          "scattermapbox": [
           {
            "marker": {
             "colorbar": {
              "outlinewidth": 0,
              "ticks": ""
             }
            },
            "type": "scattermapbox"
           }
          ],
          "scatterpolar": [
           {
            "marker": {
             "colorbar": {
              "outlinewidth": 0,
              "ticks": ""
             }
            },
            "type": "scatterpolar"
           }
          ],
          "scatterpolargl": [
           {
            "marker": {
             "colorbar": {
              "outlinewidth": 0,
              "ticks": ""
             }
            },
            "type": "scatterpolargl"
           }
          ],
          "scatterternary": [
           {
            "marker": {
             "colorbar": {
              "outlinewidth": 0,
              "ticks": ""
             }
            },
            "type": "scatterternary"
           }
          ],
          "surface": [
           {
            "colorbar": {
             "outlinewidth": 0,
             "ticks": ""
            },
            "colorscale": [
             [
              0,
              "#0d0887"
             ],
             [
              0.1111111111111111,
              "#46039f"
             ],
             [
              0.2222222222222222,
              "#7201a8"
             ],
             [
              0.3333333333333333,
              "#9c179e"
             ],
             [
              0.4444444444444444,
              "#bd3786"
             ],
             [
              0.5555555555555556,
              "#d8576b"
             ],
             [
              0.6666666666666666,
              "#ed7953"
             ],
             [
              0.7777777777777778,
              "#fb9f3a"
             ],
             [
              0.8888888888888888,
              "#fdca26"
             ],
             [
              1,
              "#f0f921"
             ]
            ],
            "type": "surface"
           }
          ],
          "table": [
           {
            "cells": {
             "fill": {
              "color": "#EBF0F8"
             },
             "line": {
              "color": "white"
             }
            },
            "header": {
             "fill": {
              "color": "#C8D4E3"
             },
             "line": {
              "color": "white"
             }
            },
            "type": "table"
           }
          ]
         },
         "layout": {
          "annotationdefaults": {
           "arrowcolor": "#2a3f5f",
           "arrowhead": 0,
           "arrowwidth": 1
          },
          "coloraxis": {
           "colorbar": {
            "outlinewidth": 0,
            "ticks": ""
           }
          },
          "colorscale": {
           "diverging": [
            [
             0,
             "#8e0152"
            ],
            [
             0.1,
             "#c51b7d"
            ],
            [
             0.2,
             "#de77ae"
            ],
            [
             0.3,
             "#f1b6da"
            ],
            [
             0.4,
             "#fde0ef"
            ],
            [
             0.5,
             "#f7f7f7"
            ],
            [
             0.6,
             "#e6f5d0"
            ],
            [
             0.7,
             "#b8e186"
            ],
            [
             0.8,
             "#7fbc41"
            ],
            [
             0.9,
             "#4d9221"
            ],
            [
             1,
             "#276419"
            ]
           ],
           "sequential": [
            [
             0,
             "#0d0887"
            ],
            [
             0.1111111111111111,
             "#46039f"
            ],
            [
             0.2222222222222222,
             "#7201a8"
            ],
            [
             0.3333333333333333,
             "#9c179e"
            ],
            [
             0.4444444444444444,
             "#bd3786"
            ],
            [
             0.5555555555555556,
             "#d8576b"
            ],
            [
             0.6666666666666666,
             "#ed7953"
            ],
            [
             0.7777777777777778,
             "#fb9f3a"
            ],
            [
             0.8888888888888888,
             "#fdca26"
            ],
            [
             1,
             "#f0f921"
            ]
           ],
           "sequentialminus": [
            [
             0,
             "#0d0887"
            ],
            [
             0.1111111111111111,
             "#46039f"
            ],
            [
             0.2222222222222222,
             "#7201a8"
            ],
            [
             0.3333333333333333,
             "#9c179e"
            ],
            [
             0.4444444444444444,
             "#bd3786"
            ],
            [
             0.5555555555555556,
             "#d8576b"
            ],
            [
             0.6666666666666666,
             "#ed7953"
            ],
            [
             0.7777777777777778,
             "#fb9f3a"
            ],
            [
             0.8888888888888888,
             "#fdca26"
            ],
            [
             1,
             "#f0f921"
            ]
           ]
          },
          "colorway": [
           "#636efa",
           "#EF553B",
           "#00cc96",
           "#ab63fa",
           "#FFA15A",
           "#19d3f3",
           "#FF6692",
           "#B6E880",
           "#FF97FF",
           "#FECB52"
          ],
          "font": {
           "color": "#2a3f5f"
          },
          "geo": {
           "bgcolor": "white",
           "lakecolor": "white",
           "landcolor": "#E5ECF6",
           "showlakes": true,
           "showland": true,
           "subunitcolor": "white"
          },
          "hoverlabel": {
           "align": "left"
          },
          "hovermode": "closest",
          "mapbox": {
           "style": "light"
          },
          "paper_bgcolor": "white",
          "plot_bgcolor": "#E5ECF6",
          "polar": {
           "angularaxis": {
            "gridcolor": "white",
            "linecolor": "white",
            "ticks": ""
           },
           "bgcolor": "#E5ECF6",
           "radialaxis": {
            "gridcolor": "white",
            "linecolor": "white",
            "ticks": ""
           }
          },
          "scene": {
           "xaxis": {
            "backgroundcolor": "#E5ECF6",
            "gridcolor": "white",
            "gridwidth": 2,
            "linecolor": "white",
            "showbackground": true,
            "ticks": "",
            "zerolinecolor": "white"
           },
           "yaxis": {
            "backgroundcolor": "#E5ECF6",
            "gridcolor": "white",
            "gridwidth": 2,
            "linecolor": "white",
            "showbackground": true,
            "ticks": "",
            "zerolinecolor": "white"
           },
           "zaxis": {
            "backgroundcolor": "#E5ECF6",
            "gridcolor": "white",
            "gridwidth": 2,
            "linecolor": "white",
            "showbackground": true,
            "ticks": "",
            "zerolinecolor": "white"
           }
          },
          "shapedefaults": {
           "line": {
            "color": "#2a3f5f"
           }
          },
          "ternary": {
           "aaxis": {
            "gridcolor": "white",
            "linecolor": "white",
            "ticks": ""
           },
           "baxis": {
            "gridcolor": "white",
            "linecolor": "white",
            "ticks": ""
           },
           "bgcolor": "#E5ECF6",
           "caxis": {
            "gridcolor": "white",
            "linecolor": "white",
            "ticks": ""
           }
          },
          "title": {
           "x": 0.05
          },
          "xaxis": {
           "automargin": true,
           "gridcolor": "white",
           "linecolor": "white",
           "ticks": "",
           "title": {
            "standoff": 15
           },
           "zerolinecolor": "white",
           "zerolinewidth": 2
          },
          "yaxis": {
           "automargin": true,
           "gridcolor": "white",
           "linecolor": "white",
           "ticks": "",
           "title": {
            "standoff": 15
           },
           "zerolinecolor": "white",
           "zerolinewidth": 2
          }
         }
        },
        "title": {
         "text": "2017 - 2019 Parts Sales by Customer Discount Structure"
        },
        "xaxis": {
         "anchor": "y",
         "domain": [
          0,
          1
         ],
         "title": {
          "text": "year"
         },
         "type": "category"
        },
        "yaxis": {
         "anchor": "x",
         "domain": [
          0,
          1
         ],
         "title": {
          "text": "sale_value"
         }
        }
       }
      },
      "text/html": [
       "<div>                            <div id=\"ab6a7e3f-9a60-4967-b558-9f07432ec2ea\" class=\"plotly-graph-div\" style=\"height:525px; width:100%;\"></div>            <script type=\"text/javascript\">                require([\"plotly\"], function(Plotly) {                    window.PLOTLYENV=window.PLOTLYENV || {};                                    if (document.getElementById(\"ab6a7e3f-9a60-4967-b558-9f07432ec2ea\")) {                    Plotly.newPlot(                        \"ab6a7e3f-9a60-4967-b558-9f07432ec2ea\",                        [{\"alignmentgroup\": \"True\", \"hovertemplate\": \"pricing_structure=Premier<br>year=%{x}<br>sale_value=%{y}<extra></extra>\", \"legendgroup\": \"Premier\", \"marker\": {\"color\": \"#636efa\"}, \"name\": \"Premier\", \"offsetgroup\": \"Premier\", \"orientation\": \"v\", \"showlegend\": true, \"textposition\": \"auto\", \"type\": \"bar\", \"x\": [2017, 2018, 2019], \"xaxis\": \"x\", \"y\": [2054868.714465602, 1824138.7665407967, 1985814.646857599], \"yaxis\": \"y\"}, {\"alignmentgroup\": \"True\", \"hovertemplate\": \"pricing_structure=Rental<br>year=%{x}<br>sale_value=%{y}<extra></extra>\", \"legendgroup\": \"Rental\", \"marker\": {\"color\": \"#EF553B\"}, \"name\": \"Rental\", \"offsetgroup\": \"Rental\", \"orientation\": \"v\", \"showlegend\": true, \"textposition\": \"auto\", \"type\": \"bar\", \"x\": [2017, 2018, 2019], \"xaxis\": \"x\", \"y\": [349554.0678687999, 367307.01514279953, 429673.4145504], \"yaxis\": \"y\"}, {\"alignmentgroup\": \"True\", \"hovertemplate\": \"pricing_structure=Retail<br>year=%{x}<br>sale_value=%{y}<extra></extra>\", \"legendgroup\": \"Retail\", \"marker\": {\"color\": \"#00cc96\"}, \"name\": \"Retail\", \"offsetgroup\": \"Retail\", \"orientation\": \"v\", \"showlegend\": true, \"textposition\": \"auto\", \"type\": \"bar\", \"x\": [2017, 2018, 2019], \"xaxis\": \"x\", \"y\": [144161.91868000006, 160747.31018480004, 191981.26696879993], \"yaxis\": \"y\"}],                        {\"barmode\": \"relative\", \"legend\": {\"title\": {\"text\": \"pricing_structure\"}, \"tracegroupgap\": 0}, \"template\": {\"data\": {\"bar\": [{\"error_x\": {\"color\": \"#2a3f5f\"}, \"error_y\": {\"color\": \"#2a3f5f\"}, \"marker\": {\"line\": {\"color\": \"#E5ECF6\", \"width\": 0.5}}, \"type\": \"bar\"}], \"barpolar\": [{\"marker\": {\"line\": {\"color\": \"#E5ECF6\", \"width\": 0.5}}, \"type\": \"barpolar\"}], \"carpet\": [{\"aaxis\": {\"endlinecolor\": \"#2a3f5f\", \"gridcolor\": \"white\", \"linecolor\": \"white\", \"minorgridcolor\": \"white\", \"startlinecolor\": \"#2a3f5f\"}, \"baxis\": {\"endlinecolor\": \"#2a3f5f\", \"gridcolor\": \"white\", \"linecolor\": \"white\", \"minorgridcolor\": \"white\", \"startlinecolor\": \"#2a3f5f\"}, \"type\": \"carpet\"}], \"choropleth\": [{\"colorbar\": {\"outlinewidth\": 0, \"ticks\": \"\"}, \"type\": \"choropleth\"}], \"contour\": [{\"colorbar\": {\"outlinewidth\": 0, \"ticks\": \"\"}, \"colorscale\": [[0.0, \"#0d0887\"], [0.1111111111111111, \"#46039f\"], [0.2222222222222222, \"#7201a8\"], [0.3333333333333333, \"#9c179e\"], [0.4444444444444444, \"#bd3786\"], [0.5555555555555556, \"#d8576b\"], [0.6666666666666666, \"#ed7953\"], [0.7777777777777778, \"#fb9f3a\"], [0.8888888888888888, \"#fdca26\"], [1.0, \"#f0f921\"]], \"type\": \"contour\"}], \"contourcarpet\": [{\"colorbar\": {\"outlinewidth\": 0, \"ticks\": \"\"}, \"type\": \"contourcarpet\"}], \"heatmap\": [{\"colorbar\": {\"outlinewidth\": 0, \"ticks\": \"\"}, \"colorscale\": [[0.0, \"#0d0887\"], [0.1111111111111111, \"#46039f\"], [0.2222222222222222, \"#7201a8\"], [0.3333333333333333, \"#9c179e\"], [0.4444444444444444, \"#bd3786\"], [0.5555555555555556, \"#d8576b\"], [0.6666666666666666, \"#ed7953\"], [0.7777777777777778, \"#fb9f3a\"], [0.8888888888888888, \"#fdca26\"], [1.0, \"#f0f921\"]], \"type\": \"heatmap\"}], \"heatmapgl\": [{\"colorbar\": {\"outlinewidth\": 0, \"ticks\": \"\"}, \"colorscale\": [[0.0, \"#0d0887\"], [0.1111111111111111, \"#46039f\"], [0.2222222222222222, \"#7201a8\"], [0.3333333333333333, \"#9c179e\"], [0.4444444444444444, \"#bd3786\"], [0.5555555555555556, \"#d8576b\"], [0.6666666666666666, \"#ed7953\"], [0.7777777777777778, \"#fb9f3a\"], [0.8888888888888888, \"#fdca26\"], [1.0, \"#f0f921\"]], \"type\": \"heatmapgl\"}], \"histogram\": [{\"marker\": {\"colorbar\": {\"outlinewidth\": 0, \"ticks\": \"\"}}, \"type\": \"histogram\"}], \"histogram2d\": [{\"colorbar\": {\"outlinewidth\": 0, \"ticks\": \"\"}, \"colorscale\": [[0.0, \"#0d0887\"], [0.1111111111111111, \"#46039f\"], [0.2222222222222222, \"#7201a8\"], [0.3333333333333333, \"#9c179e\"], [0.4444444444444444, \"#bd3786\"], [0.5555555555555556, \"#d8576b\"], [0.6666666666666666, \"#ed7953\"], [0.7777777777777778, \"#fb9f3a\"], [0.8888888888888888, \"#fdca26\"], [1.0, \"#f0f921\"]], \"type\": \"histogram2d\"}], \"histogram2dcontour\": [{\"colorbar\": {\"outlinewidth\": 0, \"ticks\": \"\"}, \"colorscale\": [[0.0, \"#0d0887\"], [0.1111111111111111, \"#46039f\"], [0.2222222222222222, \"#7201a8\"], [0.3333333333333333, \"#9c179e\"], [0.4444444444444444, \"#bd3786\"], [0.5555555555555556, \"#d8576b\"], [0.6666666666666666, \"#ed7953\"], [0.7777777777777778, \"#fb9f3a\"], [0.8888888888888888, \"#fdca26\"], [1.0, \"#f0f921\"]], \"type\": \"histogram2dcontour\"}], \"mesh3d\": [{\"colorbar\": {\"outlinewidth\": 0, \"ticks\": \"\"}, \"type\": \"mesh3d\"}], \"parcoords\": [{\"line\": {\"colorbar\": {\"outlinewidth\": 0, \"ticks\": \"\"}}, \"type\": \"parcoords\"}], \"pie\": [{\"automargin\": true, \"type\": \"pie\"}], \"scatter\": [{\"marker\": {\"colorbar\": {\"outlinewidth\": 0, \"ticks\": \"\"}}, \"type\": \"scatter\"}], \"scatter3d\": [{\"line\": {\"colorbar\": {\"outlinewidth\": 0, \"ticks\": \"\"}}, \"marker\": {\"colorbar\": {\"outlinewidth\": 0, \"ticks\": \"\"}}, \"type\": \"scatter3d\"}], \"scattercarpet\": [{\"marker\": {\"colorbar\": {\"outlinewidth\": 0, \"ticks\": \"\"}}, \"type\": \"scattercarpet\"}], \"scattergeo\": [{\"marker\": {\"colorbar\": {\"outlinewidth\": 0, \"ticks\": \"\"}}, \"type\": \"scattergeo\"}], \"scattergl\": [{\"marker\": {\"colorbar\": {\"outlinewidth\": 0, \"ticks\": \"\"}}, \"type\": \"scattergl\"}], \"scattermapbox\": [{\"marker\": {\"colorbar\": {\"outlinewidth\": 0, \"ticks\": \"\"}}, \"type\": \"scattermapbox\"}], \"scatterpolar\": [{\"marker\": {\"colorbar\": {\"outlinewidth\": 0, \"ticks\": \"\"}}, \"type\": \"scatterpolar\"}], \"scatterpolargl\": [{\"marker\": {\"colorbar\": {\"outlinewidth\": 0, \"ticks\": \"\"}}, \"type\": \"scatterpolargl\"}], \"scatterternary\": [{\"marker\": {\"colorbar\": {\"outlinewidth\": 0, \"ticks\": \"\"}}, \"type\": \"scatterternary\"}], \"surface\": [{\"colorbar\": {\"outlinewidth\": 0, \"ticks\": \"\"}, \"colorscale\": [[0.0, \"#0d0887\"], [0.1111111111111111, \"#46039f\"], [0.2222222222222222, \"#7201a8\"], [0.3333333333333333, \"#9c179e\"], [0.4444444444444444, \"#bd3786\"], [0.5555555555555556, \"#d8576b\"], [0.6666666666666666, \"#ed7953\"], [0.7777777777777778, \"#fb9f3a\"], [0.8888888888888888, \"#fdca26\"], [1.0, \"#f0f921\"]], \"type\": \"surface\"}], \"table\": [{\"cells\": {\"fill\": {\"color\": \"#EBF0F8\"}, \"line\": {\"color\": \"white\"}}, \"header\": {\"fill\": {\"color\": \"#C8D4E3\"}, \"line\": {\"color\": \"white\"}}, \"type\": \"table\"}]}, \"layout\": {\"annotationdefaults\": {\"arrowcolor\": \"#2a3f5f\", \"arrowhead\": 0, \"arrowwidth\": 1}, \"coloraxis\": {\"colorbar\": {\"outlinewidth\": 0, \"ticks\": \"\"}}, \"colorscale\": {\"diverging\": [[0, \"#8e0152\"], [0.1, \"#c51b7d\"], [0.2, \"#de77ae\"], [0.3, \"#f1b6da\"], [0.4, \"#fde0ef\"], [0.5, \"#f7f7f7\"], [0.6, \"#e6f5d0\"], [0.7, \"#b8e186\"], [0.8, \"#7fbc41\"], [0.9, \"#4d9221\"], [1, \"#276419\"]], \"sequential\": [[0.0, \"#0d0887\"], [0.1111111111111111, \"#46039f\"], [0.2222222222222222, \"#7201a8\"], [0.3333333333333333, \"#9c179e\"], [0.4444444444444444, \"#bd3786\"], [0.5555555555555556, \"#d8576b\"], [0.6666666666666666, \"#ed7953\"], [0.7777777777777778, \"#fb9f3a\"], [0.8888888888888888, \"#fdca26\"], [1.0, \"#f0f921\"]], \"sequentialminus\": [[0.0, \"#0d0887\"], [0.1111111111111111, \"#46039f\"], [0.2222222222222222, \"#7201a8\"], [0.3333333333333333, \"#9c179e\"], [0.4444444444444444, \"#bd3786\"], [0.5555555555555556, \"#d8576b\"], [0.6666666666666666, \"#ed7953\"], [0.7777777777777778, \"#fb9f3a\"], [0.8888888888888888, \"#fdca26\"], [1.0, \"#f0f921\"]]}, \"colorway\": [\"#636efa\", \"#EF553B\", \"#00cc96\", \"#ab63fa\", \"#FFA15A\", \"#19d3f3\", \"#FF6692\", \"#B6E880\", \"#FF97FF\", \"#FECB52\"], \"font\": {\"color\": \"#2a3f5f\"}, \"geo\": {\"bgcolor\": \"white\", \"lakecolor\": \"white\", \"landcolor\": \"#E5ECF6\", \"showlakes\": true, \"showland\": true, \"subunitcolor\": \"white\"}, \"hoverlabel\": {\"align\": \"left\"}, \"hovermode\": \"closest\", \"mapbox\": {\"style\": \"light\"}, \"paper_bgcolor\": \"white\", \"plot_bgcolor\": \"#E5ECF6\", \"polar\": {\"angularaxis\": {\"gridcolor\": \"white\", \"linecolor\": \"white\", \"ticks\": \"\"}, \"bgcolor\": \"#E5ECF6\", \"radialaxis\": {\"gridcolor\": \"white\", \"linecolor\": \"white\", \"ticks\": \"\"}}, \"scene\": {\"xaxis\": {\"backgroundcolor\": \"#E5ECF6\", \"gridcolor\": \"white\", \"gridwidth\": 2, \"linecolor\": \"white\", \"showbackground\": true, \"ticks\": \"\", \"zerolinecolor\": \"white\"}, \"yaxis\": {\"backgroundcolor\": \"#E5ECF6\", \"gridcolor\": \"white\", \"gridwidth\": 2, \"linecolor\": \"white\", \"showbackground\": true, \"ticks\": \"\", \"zerolinecolor\": \"white\"}, \"zaxis\": {\"backgroundcolor\": \"#E5ECF6\", \"gridcolor\": \"white\", \"gridwidth\": 2, \"linecolor\": \"white\", \"showbackground\": true, \"ticks\": \"\", \"zerolinecolor\": \"white\"}}, \"shapedefaults\": {\"line\": {\"color\": \"#2a3f5f\"}}, \"ternary\": {\"aaxis\": {\"gridcolor\": \"white\", \"linecolor\": \"white\", \"ticks\": \"\"}, \"baxis\": {\"gridcolor\": \"white\", \"linecolor\": \"white\", \"ticks\": \"\"}, \"bgcolor\": \"#E5ECF6\", \"caxis\": {\"gridcolor\": \"white\", \"linecolor\": \"white\", \"ticks\": \"\"}}, \"title\": {\"x\": 0.05}, \"xaxis\": {\"automargin\": true, \"gridcolor\": \"white\", \"linecolor\": \"white\", \"ticks\": \"\", \"title\": {\"standoff\": 15}, \"zerolinecolor\": \"white\", \"zerolinewidth\": 2}, \"yaxis\": {\"automargin\": true, \"gridcolor\": \"white\", \"linecolor\": \"white\", \"ticks\": \"\", \"title\": {\"standoff\": 15}, \"zerolinecolor\": \"white\", \"zerolinewidth\": 2}}}, \"title\": {\"text\": \"2017 - 2019 Parts Sales by Customer Discount Structure\"}, \"xaxis\": {\"anchor\": \"y\", \"domain\": [0.0, 1.0], \"title\": {\"text\": \"year\"}, \"type\": \"category\"}, \"yaxis\": {\"anchor\": \"x\", \"domain\": [0.0, 1.0], \"title\": {\"text\": \"sale_value\"}}},                        {\"responsive\": true}                    ).then(function(){\n",
       "                            \n",
       "var gd = document.getElementById('ab6a7e3f-9a60-4967-b558-9f07432ec2ea');\n",
       "var x = new MutationObserver(function (mutations, observer) {{\n",
       "        var display = window.getComputedStyle(gd).display;\n",
       "        if (!display || display === 'none') {{\n",
       "            console.log([gd, 'removed!']);\n",
       "            Plotly.purge(gd);\n",
       "            observer.disconnect();\n",
       "        }}\n",
       "}});\n",
       "\n",
       "// Listen for the removal of the full notebook cells\n",
       "var notebookContainer = gd.closest('#notebook-container');\n",
       "if (notebookContainer) {{\n",
       "    x.observe(notebookContainer, {childList: true});\n",
       "}}\n",
       "\n",
       "// Listen for the clearing of the current output cell\n",
       "var outputEl = gd.closest('.output');\n",
       "if (outputEl) {{\n",
       "    x.observe(outputEl, {childList: true});\n",
       "}}\n",
       "\n",
       "                        })                };                });            </script>        </div>"
      ]
     },
     "metadata": {},
     "output_type": "display_data"
    }
   ],
   "source": [
    "fig = px.bar(saleval, x = 'year', y = 'sale_value', color = 'pricing_structure', title='2017 - 2019 Parts Sales by Customer Discount Structure')\n",
    "fig.update_xaxes(type='category') # fix x axis to make the years look nice\n",
    "fig.show()"
   ]
  },
  {
   "cell_type": "markdown",
   "metadata": {},
   "source": [
    "*hover over each bar segment for more information*"
   ]
  },
  {
   "cell_type": "code",
   "execution_count": 6,
   "metadata": {},
   "outputs": [],
   "source": [
    "saleval_2019 = df.drop(df[df.year != 2019].index)\n",
    "saleval_2019 = pd.pivot_table(saleval_2019, index = ['date','customer_name'], values = ['sale_value','margin'], aggfunc = {'sale_value':'sum','margin':'sum'})\n",
    "saleval_2019 = saleval_2019.reset_index(drop = False)\n",
    "saleval_2019 = saleval_2019.sort_values(by=['customer_name'], ascending = True)"
   ]
  },
  {
   "cell_type": "code",
   "execution_count": 7,
   "metadata": {},
   "outputs": [
    {
     "data": {
      "application/vnd.plotly.v1+json": {
       "config": {
        "plotlyServerURL": "https://plot.ly"
       },
       "data": [
        {
         "alignmentgroup": "True",
         "hovertemplate": "customer_name=BIG CUSTOMER 1<br>date=%{x}<br>sale_value=%{y}<extra></extra>",
         "legendgroup": "BIG CUSTOMER 1",
         "marker": {
          "color": "#636efa"
         },
         "name": "BIG CUSTOMER 1",
         "offsetgroup": "BIG CUSTOMER 1",
         "orientation": "v",
         "showlegend": true,
         "textposition": "auto",
         "type": "bar",
         "x": [
          "2019-01-02",
          "2019-05-29",
          "2019-05-30",
          "2019-10-07",
          "2019-05-31",
          "2019-10-04",
          "2019-06-02",
          "2019-10-03",
          "2019-10-02",
          "2019-06-03",
          "2019-06-04",
          "2019-06-05",
          "2019-10-01",
          "2019-06-06",
          "2019-06-07",
          "2019-09-30",
          "2019-06-10",
          "2019-09-27",
          "2019-06-11",
          "2019-06-12",
          "2019-06-13",
          "2019-09-26",
          "2019-06-14",
          "2019-06-17",
          "2019-06-18",
          "2019-09-25",
          "2019-06-19",
          "2019-09-24",
          "2019-06-20",
          "2019-06-21",
          "2019-05-28",
          "2019-10-08",
          "2019-05-27",
          "2019-05-24",
          "2019-05-01",
          "2019-10-24",
          "2019-05-02",
          "2019-10-23",
          "2019-10-22",
          "2019-05-03",
          "2019-10-21",
          "2019-05-04",
          "2019-10-18",
          "2019-05-06",
          "2019-05-07",
          "2019-10-17",
          "2019-05-08",
          "2019-10-16",
          "2019-06-24",
          "2019-10-15",
          "2019-10-14",
          "2019-05-10",
          "2019-05-13",
          "2019-08-16",
          "2019-05-15",
          "2019-05-16",
          "2019-10-11",
          "2019-05-17",
          "2019-05-20",
          "2019-05-21",
          "2019-05-22",
          "2019-10-10",
          "2019-10-09",
          "2019-05-23",
          "2019-05-09",
          "2019-09-23",
          "2019-06-25",
          "2019-09-20",
          "2019-09-02",
          "2019-07-25",
          "2019-09-01",
          "2019-07-26",
          "2019-07-29",
          "2019-08-30",
          "2019-07-30",
          "2019-07-31",
          "2019-08-29",
          "2019-08-01",
          "2019-08-28",
          "2019-08-02",
          "2019-08-27",
          "2019-08-26",
          "2019-09-03",
          "2019-08-03",
          "2019-08-23",
          "2019-08-05",
          "2019-08-06",
          "2019-08-07",
          "2019-08-08",
          "2019-08-09",
          "2019-08-12",
          "2019-08-22",
          "2019-08-13",
          "2019-08-21",
          "2019-08-14",
          "2019-08-20",
          "2019-08-15",
          "2019-08-19",
          "2019-08-04",
          "2019-10-25",
          "2019-07-24",
          "2019-07-23",
          "2019-06-26",
          "2019-06-27",
          "2019-09-19",
          "2019-06-28",
          "2019-07-01",
          "2019-09-18",
          "2019-07-02",
          "2019-07-03",
          "2019-09-17",
          "2019-07-04",
          "2019-09-16",
          "2019-07-05",
          "2019-07-08",
          "2019-09-13",
          "2019-09-04",
          "2019-07-09",
          "2019-07-10",
          "2019-09-11",
          "2019-07-11",
          "2019-09-10",
          "2019-07-12",
          "2019-07-15",
          "2019-07-16",
          "2019-09-09",
          "2019-07-17",
          "2019-09-06",
          "2019-07-18",
          "2019-07-19",
          "2019-07-22",
          "2019-09-05",
          "2019-09-12",
          "2019-04-30",
          "2019-05-14",
          "2019-03-25",
          "2019-03-15",
          "2019-11-19",
          "2019-03-18",
          "2019-03-19",
          "2019-03-20",
          "2019-11-05",
          "2019-02-04",
          "2019-11-04",
          "2019-03-21",
          "2019-03-14",
          "2019-02-01",
          "2019-11-20",
          "2019-01-30",
          "2019-03-22",
          "2019-01-29",
          "2019-01-25",
          "2019-03-26",
          "2019-11-21",
          "2019-11-03",
          "2019-03-27",
          "2019-01-31",
          "2019-01-24",
          "2019-02-13",
          "2019-03-13",
          "2019-11-13",
          "2019-02-21",
          "2019-02-25",
          "2019-11-14",
          "2019-11-12",
          "2019-02-26",
          "2019-11-11",
          "2019-02-20",
          "2019-02-27",
          "2019-02-14",
          "2019-11-08",
          "2019-02-28",
          "2019-11-07",
          "2019-03-01",
          "2019-02-19",
          "2019-02-18",
          "2019-02-15",
          "2019-11-18",
          "2019-03-04",
          "2019-11-06",
          "2019-11-15",
          "2019-11-22",
          "2019-02-22",
          "2019-04-17",
          "2019-04-23",
          "2019-01-18",
          "2019-10-28",
          "2019-04-15",
          "2019-11-28",
          "2019-01-04",
          "2019-04-24",
          "2019-01-14",
          "2019-10-30",
          "2019-04-16",
          "2019-03-28",
          "2019-01-17",
          "2019-11-29",
          "2019-04-18",
          "2019-10-29",
          "2019-01-15",
          "2019-01-16",
          "2019-01-21",
          "2019-04-26",
          "2019-11-27",
          "2019-01-22",
          "2019-03-29",
          "2019-11-02",
          "2019-12-04",
          "2019-04-01",
          "2019-01-23",
          "2019-04-29",
          "2019-04-02",
          "2019-12-02",
          "2019-11-25",
          "2019-11-01",
          "2019-11-26",
          "2019-01-03",
          "2019-10-31",
          "2019-04-04",
          "2019-12-03"
         ],
         "xaxis": "x",
         "y": [
          3844.9418832,
          7362.1686528,
          2631.6690892,
          866.8958112000003,
          22050.6962784,
          8165.624788799999,
          1543.6987631999996,
          659.8781663999998,
          8603.369856,
          11276.845175999995,
          720.2269008000001,
          11834.232268799997,
          19830.081479999997,
          1946.1241776000002,
          5150.0727888,
          1652.710968,
          4172.4685248,
          8396.8422384,
          11946.6369696,
          19861.857859200005,
          1830.3646752,
          4372.1357616,
          5642.8893744,
          21169.363512,
          10935.145439999998,
          5108.1943104,
          11923.4172192,
          1087.4080512,
          7804.1354928,
          21698.894443200003,
          6305.5569264000005,
          8756.220647999997,
          3329.9609903999994,
          5850.3216575999995,
          1636.1631263999996,
          10649.0826384,
          21165.1794336,
          23280.5891616,
          31613.501697600004,
          19419.325603200003,
          1247.0438352,
          2817.467928,
          1541.4747936,
          2508.9769584,
          15537.4055136,
          15407.962944,
          7156.7341728,
          7489.0480032,
          3626.4274464,
          1063.5851903999999,
          22399.2563952,
          15403.109789999995,
          5933.400115200001,
          1843.4069376,
          7037.5821743999995,
          2882.2646016,
          1478.2235903999997,
          4336.816108800001,
          6708.208507200002,
          11132.513318399999,
          7393.002671999999,
          4332.217392,
          13862.4171552,
          5963.103302399999,
          9211.078972800002,
          3221.137257599999,
          8762.704084799998,
          449.6188032,
          4554.237407999999,
          2741.9660448,
          11518.1270304,
          10181.5589952,
          4443.415872,
          644.2726848000001,
          23041.2297216,
          44331.177619199996,
          1776.6124608,
          3997.9434527999992,
          8086.918881599999,
          15496.3940064,
          2575.3191024,
          2772.6869808,
          5159.797944,
          22816.6841808,
          7545.325742400002,
          5590.343380800001,
          11527.324464,
          1992.337512,
          3493.9693248000003,
          9216.469271999997,
          1312.1043696000004,
          1320.7740816,
          12427.6175136,
          8534.3514096,
          11530.340015999996,
          16547.954683199998,
          4609.7235648,
          8088.690518400001,
          6212.640230399999,
          6800.5597872,
          6770.7812112,
          3268.7829792,
          7035.1697328,
          14972.064902399998,
          1335.3618144,
          2779.8489167999996,
          13202.727460800004,
          11340.850267200001,
          19481.9862608,
          31498.835332799994,
          4811.011660799999,
          9210.438167999999,
          1588.0273776,
          1239.768816,
          11418.048398399998,
          35378.90839680001,
          29906.7746544,
          3999.564312,
          1913.4431327999996,
          13379.1309704,
          2238.1426944,
          4146.685555200001,
          3367.806168,
          7264.2511664,
          1002.0679296000001,
          500.50624320000003,
          4170.0183888,
          2897.7193056,
          15093.553953599998,
          2005.8038364000001,
          9683.427499200005,
          4453.3671936,
          2552.3632128,
          25261.806825599993,
          5122.480488,
          25440.327503999997,
          11241.827078399998,
          18556.048454399992,
          3446.2482143999996,
          9941.9356944,
          3201.3100032,
          16062.186950400004,
          31061.542598400003,
          33231.1191792,
          2608.9425072,
          14241.321264,
          3554.1829875999993,
          6676.3190448000005,
          14927.924759999998,
          1661.4183744000002,
          2540.1879216,
          19842.369854400004,
          14842.688297999995,
          7063.4028383999985,
          5510.4312528,
          9641.096688,
          27998.1187104,
          1490.6627424,
          6970.863086399999,
          4645.570939199999,
          6067.064457599999,
          1551.3884208,
          4534.183987200001,
          19635.050654400005,
          3213.8999328,
          6339.745747200001,
          7667.794848,
          5595.582902399999,
          14983.787860799997,
          8270.2644432,
          18499.8084096,
          18831.2175744,
          6692.075303999999,
          4235.6820336,
          9392.0874816,
          6239.968670399999,
          10323.063772800002,
          7582.643198399999,
          6999.736996799999,
          9510.108648000001,
          21919.0674336,
          28999.508140799997,
          134.3051472,
          4966.614144,
          9449.609135999997,
          7471.105468799999,
          20.4680592,
          15240.109780799998,
          1403.5132896,
          10087.436078399998,
          2362.1572703999996,
          2845.9648943999996,
          3474.858264,
          4695.3275472,
          7174.073596800001,
          2702.0570988,
          27251.65650720001,
          6569.266948800001,
          665.7584928000001,
          15384.064694399993,
          10836.876139199998,
          1077.5698128,
          2733.4659576,
          13113.316343999999,
          16740.0453456,
          8496.7700928,
          5335.8276508,
          26823.184262400002,
          4052.1103056,
          11299.650287999997,
          8499.634867200002,
          6279.547790399999,
          8223.3349152,
          4187.4332016,
          12991.601126399999,
          6418.3008768,
          4464.6001248,
          15857.167108799998,
          11523.17808,
          7441.779225599999
         ],
         "yaxis": "y"
        },
        {
         "alignmentgroup": "True",
         "hovertemplate": "customer_name=MEDIUM CUSTOMER 1<br>date=%{x}<br>sale_value=%{y}<extra></extra>",
         "legendgroup": "MEDIUM CUSTOMER 1",
         "marker": {
          "color": "#EF553B"
         },
         "name": "MEDIUM CUSTOMER 1",
         "offsetgroup": "MEDIUM CUSTOMER 1",
         "orientation": "v",
         "showlegend": true,
         "textposition": "auto",
         "type": "bar",
         "x": [
          "2019-07-04",
          "2019-09-13",
          "2019-11-14",
          "2019-07-08",
          "2019-08-21",
          "2019-07-09",
          "2019-09-16",
          "2019-08-20",
          "2019-07-30",
          "2019-07-11",
          "2019-11-21",
          "2019-08-30",
          "2019-02-21",
          "2019-09-01",
          "2019-08-01",
          "2019-09-04",
          "2019-08-02",
          "2019-09-05",
          "2019-02-01",
          "2019-02-04",
          "2019-01-17",
          "2019-08-05",
          "2019-11-18",
          "2019-12-04",
          "2019-08-06",
          "2019-02-14",
          "2019-08-08",
          "2019-02-15",
          "2019-04-30",
          "2019-11-08",
          "2019-10-07",
          "2019-06-02",
          "2019-03-21",
          "2019-11-03",
          "2019-05-30",
          "2019-09-17",
          "2019-05-28",
          "2019-03-26",
          "2019-10-08",
          "2019-05-23",
          "2019-03-28",
          "2019-05-17",
          "2019-11-01",
          "2019-10-11",
          "2019-10-03",
          "2019-05-13",
          "2019-05-10",
          "2019-10-30",
          "2019-05-09",
          "2019-04-17",
          "2019-05-07",
          "2019-04-18",
          "2019-10-29",
          "2019-04-23",
          "2019-05-03",
          "2019-05-02",
          "2019-10-24",
          "2019-05-01",
          "2019-04-29",
          "2019-04-04",
          "2019-10-01",
          "2019-08-16",
          "2019-10-25",
          "2019-06-20",
          "2019-06-17",
          "2019-09-23",
          "2019-11-06",
          "2019-06-14",
          "2019-03-01",
          "2019-03-04",
          "2019-06-12",
          "2019-09-19",
          "2019-06-18",
          "2019-03-13",
          "2019-11-13",
          "2019-06-27",
          "2019-11-12",
          "2019-11-05"
         ],
         "xaxis": "x",
         "y": [
          655.4804864,
          716.0930816,
          293.262432,
          633.6177344,
          12239.5224576,
          335.6309376,
          12274.904934400003,
          11233.4840512,
          1048.2561344,
          325.78013439999995,
          4654.2029568,
          1572.2585536,
          6080.659571200001,
          659.1996672,
          21.36016,
          11233.4840512,
          305.2743808,
          18.6964224,
          164.6491392,
          1614.5265407999998,
          7.287584,
          466.05356159999997,
          2480.492556800001,
          1336.5429056,
          3276.648544000001,
          661.6121088,
          573.9600640000001,
          4117.484960000002,
          439.0643712,
          106.8008,
          11659.883104,
          1314.5796352,
          764.1408767999999,
          1820.9913344,
          371.3149696,
          11547.051200000002,
          402.2243776,
          58.80326400000001,
          679.001792,
          753.5864448000002,
          2305.138208,
          1343.2273792,
          250.69288959999997,
          975.0284800000002,
          147.30971519999997,
          637.5379519999999,
          417.5031744,
          4660.2340607999995,
          484.95102080000004,
          1700.3692544000005,
          1256.0779264,
          1837.0742784000004,
          2517.0812544,
          417.653952,
          900.9464192000003,
          934.82112,
          3149.6435456,
          748.4097472,
          25.280377599999998,
          1567.835744,
          101.7246208,
          1498.1262336,
          1899.6469824,
          461.0779008,
          371.91808,
          92.7784832,
          738.6092032000001,
          364.1781632,
          258.1312512,
          931.7050496000002,
          64206.47981440001,
          11437.6871808,
          114.1889024,
          31.613036800000003,
          11907.3594048,
          247.67733760000002,
          479.67380479999997,
          185.7580032
         ],
         "yaxis": "y"
        },
        {
         "alignmentgroup": "True",
         "hovertemplate": "customer_name=MEDIUM CUSTOMER 2<br>date=%{x}<br>sale_value=%{y}<extra></extra>",
         "legendgroup": "MEDIUM CUSTOMER 2",
         "marker": {
          "color": "#00cc96"
         },
         "name": "MEDIUM CUSTOMER 2",
         "offsetgroup": "MEDIUM CUSTOMER 2",
         "orientation": "v",
         "showlegend": true,
         "textposition": "auto",
         "type": "bar",
         "x": [
          "2019-10-28",
          "2019-10-14",
          "2019-09-23",
          "2019-09-12",
          "2019-10-29",
          "2019-11-28",
          "2019-11-07",
          "2019-10-22",
          "2019-11-12",
          "2019-10-24",
          "2019-08-22",
          "2019-08-20",
          "2019-12-02",
          "2019-11-14",
          "2019-10-01",
          "2019-08-27",
          "2019-11-15",
          "2019-11-04",
          "2019-11-19",
          "2019-09-30",
          "2019-11-05",
          "2019-11-03",
          "2019-10-04",
          "2019-09-06",
          "2019-11-20",
          "2019-09-26",
          "2019-08-30",
          "2019-09-09",
          "2019-11-02",
          "2019-11-01",
          "2019-11-22",
          "2019-09-10",
          "2019-10-10",
          "2019-08-28",
          "2019-11-06",
          "2019-10-11",
          "2019-09-05",
          "2019-11-26",
          "2019-08-23",
          "2019-09-17",
          "2019-07-15",
          "2019-12-04",
          "2019-06-24",
          "2019-03-21",
          "2019-06-27",
          "2019-03-20",
          "2019-07-02",
          "2019-03-19",
          "2019-07-03",
          "2019-03-14",
          "2019-03-04",
          "2019-05-07",
          "2019-07-09",
          "2019-07-10",
          "2019-07-11",
          "2019-02-27",
          "2019-02-26",
          "2019-07-12",
          "2019-07-16",
          "2019-03-22",
          "2019-02-25",
          "2019-06-20",
          "2019-03-29",
          "2019-05-09",
          "2019-05-03",
          "2019-05-13",
          "2019-05-16",
          "2019-05-22",
          "2019-05-02",
          "2019-08-16",
          "2019-05-01",
          "2019-05-30",
          "2019-05-31",
          "2019-04-30",
          "2019-06-02",
          "2019-06-07",
          "2019-04-15",
          "2019-04-03",
          "2019-06-11",
          "2019-06-13",
          "2019-03-26",
          "2019-07-18",
          "2019-07-08",
          "2019-02-19",
          "2019-07-22",
          "2019-01-16",
          "2019-01-23",
          "2019-08-12",
          "2019-08-02",
          "2019-01-24",
          "2019-01-25",
          "2019-08-01",
          "2019-01-31",
          "2019-02-04",
          "2019-02-14",
          "2019-01-15",
          "2019-07-25",
          "2019-08-13",
          "2019-01-21",
          "2019-07-24",
          "2019-01-04",
          "2019-01-02",
          "2019-07-23",
          "2019-02-20",
          "2019-02-22"
         ],
         "xaxis": "x",
         "y": [
          100.92675600000001,
          315.59636399999994,
          190.969254,
          203.54976000000002,
          167.080428,
          272.43627599999996,
          40.0503,
          268.007184,
          824.517882,
          46.835292,
          1175.923926,
          1215.361692,
          1627.5499560000005,
          355.599546,
          400.785708,
          1409.6763239999998,
          1200.896466,
          1395.4466879999998,
          122.224092,
          82.59785400000001,
          59.13309,
          350.1338579999999,
          2098.4943660000004,
          6.502284,
          122.224092,
          271.493916,
          99.042036,
          2000.5360440000002,
          115.250628,
          874.7456700000001,
          2008.6874579999999,
          464.206536,
          282.802236,
          1245.2345039999998,
          408.79576799999995,
          270.645792,
          7942.257198000001,
          211.70117399999998,
          545.437968,
          133.014114,
          492.85428,
          28.03521,
          589.91736,
          137.49032400000002,
          2448.7224600000004,
          1411.1841,
          164.58317399999999,
          341.46414599999997,
          17.43366,
          1289.3840699999998,
          954.987624,
          117.18246599999999,
          3120.7664940000004,
          1785.9135540000002,
          1452.035406,
          193.937688,
          25.726428,
          463.78247400000004,
          3932.421162000001,
          6591.902435999999,
          2223.828246,
          1194.959598,
          107.004978,
          44.997690000000006,
          787.8600780000002,
          44.997690000000006,
          443.568852,
          4738.42167,
          225.412512,
          140.17605,
          339.155364,
          1540.7586,
          5.795514,
          531.915102,
          1788.033864,
          246.75696599999998,
          1161.4587,
          423.35523,
          620.2613519999999,
          397.157622,
          0.3298260000000001,
          59.698506,
          2554.690842,
          30.673818,
          153.60468,
          86191.07268000001,
          769.90812,
          112.706256,
          3157.235826,
          154.876866,
          14.60658,
          1554.8939999999993,
          122.45968199999999,
          1522.5239339999996,
          126.653184,
          8.669711999999999,
          112.42354800000001,
          258.58358400000003,
          3754.7391840000005,
          30.532464,
          531.114096,
          379.488372,
          41.558076,
          137.58456,
          2556.245736
         ],
         "yaxis": "y"
        },
        {
         "alignmentgroup": "True",
         "hovertemplate": "customer_name=MEDIUM CUSTOMER 3<br>date=%{x}<br>sale_value=%{y}<extra></extra>",
         "legendgroup": "MEDIUM CUSTOMER 3",
         "marker": {
          "color": "#ab63fa"
         },
         "name": "MEDIUM CUSTOMER 3",
         "offsetgroup": "MEDIUM CUSTOMER 3",
         "orientation": "v",
         "showlegend": true,
         "textposition": "auto",
         "type": "bar",
         "x": [
          "2019-04-17",
          "2019-08-23",
          "2019-10-01",
          "2019-01-22",
          "2019-10-18",
          "2019-08-15",
          "2019-08-02",
          "2019-09-09",
          "2019-08-20",
          "2019-07-01",
          "2019-08-21",
          "2019-07-24",
          "2019-10-10",
          "2019-01-21",
          "2019-05-01",
          "2019-09-13",
          "2019-02-19",
          "2019-07-08",
          "2019-09-05"
         ],
         "xaxis": "x",
         "y": [
          3436.8497439999996,
          1411.2657711999998,
          240.3018,
          455.0782088,
          626.2264908,
          92.916696,
          578.3263320000001,
          775.2670072,
          44.6427344,
          349.9862216,
          1322.8347088,
          602.1429103999999,
          387.2063004,
          201.2127072,
          254.185904,
          341.6557591999999,
          500.57534960000004,
          1362.4578055999998,
          356.0738672
         ],
         "yaxis": "y"
        },
        {
         "alignmentgroup": "True",
         "hovertemplate": "customer_name=SMALL CUSTOMER 1<br>date=%{x}<br>sale_value=%{y}<extra></extra>",
         "legendgroup": "SMALL CUSTOMER 1",
         "marker": {
          "color": "#FFA15A"
         },
         "name": "SMALL CUSTOMER 1",
         "offsetgroup": "SMALL CUSTOMER 1",
         "orientation": "v",
         "showlegend": true,
         "textposition": "auto",
         "type": "bar",
         "x": [
          "2019-10-04",
          "2019-10-11",
          "2019-05-04",
          "2019-05-16",
          "2019-04-02",
          "2019-11-01",
          "2019-07-04",
          "2019-07-31",
          "2019-09-11",
          "2019-06-07",
          "2019-09-12",
          "2019-02-22",
          "2019-07-16"
         ],
         "xaxis": "x",
         "y": [
          111.8392848,
          296.73031679999997,
          326.9235312,
          648.3059856000001,
          526.2326712,
          72.82558080000003,
          2569.0241375999994,
          580.7387736000001,
          139.092336,
          11502.7665624,
          5980.009240800001,
          597.1923792000002,
          948.202632
         ],
         "yaxis": "y"
        },
        {
         "alignmentgroup": "True",
         "hovertemplate": "customer_name=SMALL CUSTOMER 2<br>date=%{x}<br>sale_value=%{y}<extra></extra>",
         "legendgroup": "SMALL CUSTOMER 2",
         "marker": {
          "color": "#19d3f3"
         },
         "name": "SMALL CUSTOMER 2",
         "offsetgroup": "SMALL CUSTOMER 2",
         "orientation": "v",
         "showlegend": true,
         "textposition": "auto",
         "type": "bar",
         "x": [
          "2019-12-03",
          "2019-05-02",
          "2019-01-02",
          "2019-11-06",
          "2019-11-12",
          "2019-02-19",
          "2019-02-22",
          "2019-11-07",
          "2019-04-15",
          "2019-03-01",
          "2019-02-15",
          "2019-03-20",
          "2019-03-27",
          "2019-10-24",
          "2019-04-24",
          "2019-11-28",
          "2019-10-28",
          "2019-04-23",
          "2019-11-25",
          "2019-04-18",
          "2019-04-03",
          "2019-05-01",
          "2019-10-16",
          "2019-08-16",
          "2019-05-24",
          "2019-09-25",
          "2019-08-03",
          "2019-09-04",
          "2019-08-23",
          "2019-08-02",
          "2019-06-21",
          "2019-08-26",
          "2019-06-26",
          "2019-09-17",
          "2019-06-10",
          "2019-07-03",
          "2019-08-01",
          "2019-09-11",
          "2019-05-08",
          "2019-08-28",
          "2019-09-10",
          "2019-07-29",
          "2019-07-26",
          "2019-08-30",
          "2019-09-01",
          "2019-09-13",
          "2019-09-27",
          "2019-06-18",
          "2019-06-05",
          "2019-08-14",
          "2019-10-11",
          "2019-08-13",
          "2019-08-12",
          "2019-10-09",
          "2019-05-22",
          "2019-05-27",
          "2019-08-04",
          "2019-05-31",
          "2019-05-29",
          "2019-06-02",
          "2019-06-03",
          "2019-08-22",
          "2019-10-03",
          "2019-09-02"
         ],
         "xaxis": "x",
         "y": [
          69.03729360000001,
          713.8942416,
          4092.4244664000003,
          239.17096800000002,
          1848.1187375999998,
          501.4109088000001,
          1835.2272528,
          4620.2968439999995,
          310.86571680000003,
          175.95745920000002,
          1321.0379424,
          4391.5295304,
          897.2021088,
          441.70297919999996,
          3389.6123784,
          37.9394136,
          352.1410848000001,
          1106.6321952,
          97.36463520000001,
          181.66816080000004,
          853.0996607999999,
          413.43217920000006,
          6377.1008975999985,
          10293.624446400001,
          7732.685757599999,
          516.3378912,
          1069.2581976,
          2919.1297248,
          472.4616096,
          516.6771408,
          14861.7333936,
          3581.4580272,
          148.81749119999998,
          903.3086016000001,
          933.1625664,
          7565.1529967999995,
          859.9411944000002,
          145.5380784,
          3097.2923064,
          1106.2929456000002,
          7220.927736,
          901.8385199999999,
          279.315504,
          3116.4033672,
          383.01279839999995,
          291.0761568,
          8720.8067592,
          748.7238672,
          1844.7827832,
          764.4989736,
          2775.5140608,
          928.69578,
          2138.120604,
          1402.797096,
          361.92278160000006,
          568.808496,
          265.8020616,
          1957.0178591999997,
          3412.1724768,
          546.8703552000002,
          253.6456176,
          1311.5389536,
          712.2545352,
          1932.7615127999998
         ],
         "yaxis": "y"
        },
        {
         "alignmentgroup": "True",
         "hovertemplate": "customer_name=SMALL CUSTOMER 3<br>date=%{x}<br>sale_value=%{y}<extra></extra>",
         "legendgroup": "SMALL CUSTOMER 3",
         "marker": {
          "color": "#FF6692"
         },
         "name": "SMALL CUSTOMER 3",
         "offsetgroup": "SMALL CUSTOMER 3",
         "orientation": "v",
         "showlegend": true,
         "textposition": "auto",
         "type": "bar",
         "x": [
          "2019-08-27",
          "2019-01-30",
          "2019-01-17",
          "2019-01-21",
          "2019-11-20",
          "2019-01-18",
          "2019-08-09",
          "2019-02-04",
          "2019-11-26",
          "2019-07-25",
          "2019-08-14",
          "2019-07-24",
          "2019-08-16",
          "2019-01-16",
          "2019-01-24",
          "2019-10-15",
          "2019-07-22",
          "2019-05-08",
          "2019-10-14",
          "2019-05-09",
          "2019-05-02",
          "2019-05-15",
          "2019-10-24",
          "2019-10-03",
          "2019-04-29",
          "2019-04-23",
          "2019-06-02",
          "2019-06-03",
          "2019-09-27",
          "2019-04-01",
          "2019-09-24",
          "2019-06-19",
          "2019-09-23",
          "2019-06-25",
          "2019-03-20",
          "2019-11-04",
          "2019-07-02",
          "2019-03-01",
          "2019-07-04",
          "2019-02-27",
          "2019-07-11",
          "2019-02-26",
          "2019-09-09",
          "2019-07-17",
          "2019-02-22",
          "2019-09-05",
          "2019-07-23",
          "2019-02-28"
         ],
         "xaxis": "x",
         "y": [
          733.281728,
          496.749368,
          2270.333712,
          313.868704,
          210.209104,
          646.4589599999999,
          451.327616,
          46.929528000000005,
          327.815632,
          831.852584,
          5398.591968000001,
          6.533696,
          634.459576,
          986.4624479999998,
          45.610223999999995,
          325.42832000000004,
          665.243336,
          1439.9260800000002,
          1119.4608560000001,
          77.21069600000001,
          58.300672,
          330.328592,
          1119.4608560000001,
          1403.111216,
          35.746856,
          8.041472,
          1467.505816,
          1297.1271279999999,
          932.9992239999999,
          646.4589599999999,
          231.50644,
          585.7081519999999,
          1039.6743760000004,
          207.63332,
          807.099928,
          46.80388,
          17.90484,
          323.22947999999997,
          1162.244,
          320.52804800000007,
          1348.2030399999999,
          176.598264,
          85.12652,
          510.69629599999996,
          17.527896000000002,
          53.337576,
          1406.7550079999999,
          1184.923464
         ],
         "yaxis": "y"
        }
       ],
       "layout": {
        "barmode": "relative",
        "legend": {
         "title": {
          "text": "customer_name"
         },
         "tracegroupgap": 0
        },
        "template": {
         "data": {
          "bar": [
           {
            "error_x": {
             "color": "#2a3f5f"
            },
            "error_y": {
             "color": "#2a3f5f"
            },
            "marker": {
             "line": {
              "color": "#E5ECF6",
              "width": 0.5
             }
            },
            "type": "bar"
           }
          ],
          "barpolar": [
           {
            "marker": {
             "line": {
              "color": "#E5ECF6",
              "width": 0.5
             }
            },
            "type": "barpolar"
           }
          ],
          "carpet": [
           {
            "aaxis": {
             "endlinecolor": "#2a3f5f",
             "gridcolor": "white",
             "linecolor": "white",
             "minorgridcolor": "white",
             "startlinecolor": "#2a3f5f"
            },
            "baxis": {
             "endlinecolor": "#2a3f5f",
             "gridcolor": "white",
             "linecolor": "white",
             "minorgridcolor": "white",
             "startlinecolor": "#2a3f5f"
            },
            "type": "carpet"
           }
          ],
          "choropleth": [
           {
            "colorbar": {
             "outlinewidth": 0,
             "ticks": ""
            },
            "type": "choropleth"
           }
          ],
          "contour": [
           {
            "colorbar": {
             "outlinewidth": 0,
             "ticks": ""
            },
            "colorscale": [
             [
              0,
              "#0d0887"
             ],
             [
              0.1111111111111111,
              "#46039f"
             ],
             [
              0.2222222222222222,
              "#7201a8"
             ],
             [
              0.3333333333333333,
              "#9c179e"
             ],
             [
              0.4444444444444444,
              "#bd3786"
             ],
             [
              0.5555555555555556,
              "#d8576b"
             ],
             [
              0.6666666666666666,
              "#ed7953"
             ],
             [
              0.7777777777777778,
              "#fb9f3a"
             ],
             [
              0.8888888888888888,
              "#fdca26"
             ],
             [
              1,
              "#f0f921"
             ]
            ],
            "type": "contour"
           }
          ],
          "contourcarpet": [
           {
            "colorbar": {
             "outlinewidth": 0,
             "ticks": ""
            },
            "type": "contourcarpet"
           }
          ],
          "heatmap": [
           {
            "colorbar": {
             "outlinewidth": 0,
             "ticks": ""
            },
            "colorscale": [
             [
              0,
              "#0d0887"
             ],
             [
              0.1111111111111111,
              "#46039f"
             ],
             [
              0.2222222222222222,
              "#7201a8"
             ],
             [
              0.3333333333333333,
              "#9c179e"
             ],
             [
              0.4444444444444444,
              "#bd3786"
             ],
             [
              0.5555555555555556,
              "#d8576b"
             ],
             [
              0.6666666666666666,
              "#ed7953"
             ],
             [
              0.7777777777777778,
              "#fb9f3a"
             ],
             [
              0.8888888888888888,
              "#fdca26"
             ],
             [
              1,
              "#f0f921"
             ]
            ],
            "type": "heatmap"
           }
          ],
          "heatmapgl": [
           {
            "colorbar": {
             "outlinewidth": 0,
             "ticks": ""
            },
            "colorscale": [
             [
              0,
              "#0d0887"
             ],
             [
              0.1111111111111111,
              "#46039f"
             ],
             [
              0.2222222222222222,
              "#7201a8"
             ],
             [
              0.3333333333333333,
              "#9c179e"
             ],
             [
              0.4444444444444444,
              "#bd3786"
             ],
             [
              0.5555555555555556,
              "#d8576b"
             ],
             [
              0.6666666666666666,
              "#ed7953"
             ],
             [
              0.7777777777777778,
              "#fb9f3a"
             ],
             [
              0.8888888888888888,
              "#fdca26"
             ],
             [
              1,
              "#f0f921"
             ]
            ],
            "type": "heatmapgl"
           }
          ],
          "histogram": [
           {
            "marker": {
             "colorbar": {
              "outlinewidth": 0,
              "ticks": ""
             }
            },
            "type": "histogram"
           }
          ],
          "histogram2d": [
           {
            "colorbar": {
             "outlinewidth": 0,
             "ticks": ""
            },
            "colorscale": [
             [
              0,
              "#0d0887"
             ],
             [
              0.1111111111111111,
              "#46039f"
             ],
             [
              0.2222222222222222,
              "#7201a8"
             ],
             [
              0.3333333333333333,
              "#9c179e"
             ],
             [
              0.4444444444444444,
              "#bd3786"
             ],
             [
              0.5555555555555556,
              "#d8576b"
             ],
             [
              0.6666666666666666,
              "#ed7953"
             ],
             [
              0.7777777777777778,
              "#fb9f3a"
             ],
             [
              0.8888888888888888,
              "#fdca26"
             ],
             [
              1,
              "#f0f921"
             ]
            ],
            "type": "histogram2d"
           }
          ],
          "histogram2dcontour": [
           {
            "colorbar": {
             "outlinewidth": 0,
             "ticks": ""
            },
            "colorscale": [
             [
              0,
              "#0d0887"
             ],
             [
              0.1111111111111111,
              "#46039f"
             ],
             [
              0.2222222222222222,
              "#7201a8"
             ],
             [
              0.3333333333333333,
              "#9c179e"
             ],
             [
              0.4444444444444444,
              "#bd3786"
             ],
             [
              0.5555555555555556,
              "#d8576b"
             ],
             [
              0.6666666666666666,
              "#ed7953"
             ],
             [
              0.7777777777777778,
              "#fb9f3a"
             ],
             [
              0.8888888888888888,
              "#fdca26"
             ],
             [
              1,
              "#f0f921"
             ]
            ],
            "type": "histogram2dcontour"
           }
          ],
          "mesh3d": [
           {
            "colorbar": {
             "outlinewidth": 0,
             "ticks": ""
            },
            "type": "mesh3d"
           }
          ],
          "parcoords": [
           {
            "line": {
             "colorbar": {
              "outlinewidth": 0,
              "ticks": ""
             }
            },
            "type": "parcoords"
           }
          ],
          "pie": [
           {
            "automargin": true,
            "type": "pie"
           }
          ],
          "scatter": [
           {
            "marker": {
             "colorbar": {
              "outlinewidth": 0,
              "ticks": ""
             }
            },
            "type": "scatter"
           }
          ],
          "scatter3d": [
           {
            "line": {
             "colorbar": {
              "outlinewidth": 0,
              "ticks": ""
             }
            },
            "marker": {
             "colorbar": {
              "outlinewidth": 0,
              "ticks": ""
             }
            },
            "type": "scatter3d"
           }
          ],
          "scattercarpet": [
           {
            "marker": {
             "colorbar": {
              "outlinewidth": 0,
              "ticks": ""
             }
            },
            "type": "scattercarpet"
           }
          ],
          "scattergeo": [
           {
            "marker": {
             "colorbar": {
              "outlinewidth": 0,
              "ticks": ""
             }
            },
            "type": "scattergeo"
           }
          ],
          "scattergl": [
           {
            "marker": {
             "colorbar": {
              "outlinewidth": 0,
              "ticks": ""
             }
            },
            "type": "scattergl"
           }
          ],
          "scattermapbox": [
           {
            "marker": {
             "colorbar": {
              "outlinewidth": 0,
              "ticks": ""
             }
            },
            "type": "scattermapbox"
           }
          ],
          "scatterpolar": [
           {
            "marker": {
             "colorbar": {
              "outlinewidth": 0,
              "ticks": ""
             }
            },
            "type": "scatterpolar"
           }
          ],
          "scatterpolargl": [
           {
            "marker": {
             "colorbar": {
              "outlinewidth": 0,
              "ticks": ""
             }
            },
            "type": "scatterpolargl"
           }
          ],
          "scatterternary": [
           {
            "marker": {
             "colorbar": {
              "outlinewidth": 0,
              "ticks": ""
             }
            },
            "type": "scatterternary"
           }
          ],
          "surface": [
           {
            "colorbar": {
             "outlinewidth": 0,
             "ticks": ""
            },
            "colorscale": [
             [
              0,
              "#0d0887"
             ],
             [
              0.1111111111111111,
              "#46039f"
             ],
             [
              0.2222222222222222,
              "#7201a8"
             ],
             [
              0.3333333333333333,
              "#9c179e"
             ],
             [
              0.4444444444444444,
              "#bd3786"
             ],
             [
              0.5555555555555556,
              "#d8576b"
             ],
             [
              0.6666666666666666,
              "#ed7953"
             ],
             [
              0.7777777777777778,
              "#fb9f3a"
             ],
             [
              0.8888888888888888,
              "#fdca26"
             ],
             [
              1,
              "#f0f921"
             ]
            ],
            "type": "surface"
           }
          ],
          "table": [
           {
            "cells": {
             "fill": {
              "color": "#EBF0F8"
             },
             "line": {
              "color": "white"
             }
            },
            "header": {
             "fill": {
              "color": "#C8D4E3"
             },
             "line": {
              "color": "white"
             }
            },
            "type": "table"
           }
          ]
         },
         "layout": {
          "annotationdefaults": {
           "arrowcolor": "#2a3f5f",
           "arrowhead": 0,
           "arrowwidth": 1
          },
          "coloraxis": {
           "colorbar": {
            "outlinewidth": 0,
            "ticks": ""
           }
          },
          "colorscale": {
           "diverging": [
            [
             0,
             "#8e0152"
            ],
            [
             0.1,
             "#c51b7d"
            ],
            [
             0.2,
             "#de77ae"
            ],
            [
             0.3,
             "#f1b6da"
            ],
            [
             0.4,
             "#fde0ef"
            ],
            [
             0.5,
             "#f7f7f7"
            ],
            [
             0.6,
             "#e6f5d0"
            ],
            [
             0.7,
             "#b8e186"
            ],
            [
             0.8,
             "#7fbc41"
            ],
            [
             0.9,
             "#4d9221"
            ],
            [
             1,
             "#276419"
            ]
           ],
           "sequential": [
            [
             0,
             "#0d0887"
            ],
            [
             0.1111111111111111,
             "#46039f"
            ],
            [
             0.2222222222222222,
             "#7201a8"
            ],
            [
             0.3333333333333333,
             "#9c179e"
            ],
            [
             0.4444444444444444,
             "#bd3786"
            ],
            [
             0.5555555555555556,
             "#d8576b"
            ],
            [
             0.6666666666666666,
             "#ed7953"
            ],
            [
             0.7777777777777778,
             "#fb9f3a"
            ],
            [
             0.8888888888888888,
             "#fdca26"
            ],
            [
             1,
             "#f0f921"
            ]
           ],
           "sequentialminus": [
            [
             0,
             "#0d0887"
            ],
            [
             0.1111111111111111,
             "#46039f"
            ],
            [
             0.2222222222222222,
             "#7201a8"
            ],
            [
             0.3333333333333333,
             "#9c179e"
            ],
            [
             0.4444444444444444,
             "#bd3786"
            ],
            [
             0.5555555555555556,
             "#d8576b"
            ],
            [
             0.6666666666666666,
             "#ed7953"
            ],
            [
             0.7777777777777778,
             "#fb9f3a"
            ],
            [
             0.8888888888888888,
             "#fdca26"
            ],
            [
             1,
             "#f0f921"
            ]
           ]
          },
          "colorway": [
           "#636efa",
           "#EF553B",
           "#00cc96",
           "#ab63fa",
           "#FFA15A",
           "#19d3f3",
           "#FF6692",
           "#B6E880",
           "#FF97FF",
           "#FECB52"
          ],
          "font": {
           "color": "#2a3f5f"
          },
          "geo": {
           "bgcolor": "white",
           "lakecolor": "white",
           "landcolor": "#E5ECF6",
           "showlakes": true,
           "showland": true,
           "subunitcolor": "white"
          },
          "hoverlabel": {
           "align": "left"
          },
          "hovermode": "closest",
          "mapbox": {
           "style": "light"
          },
          "paper_bgcolor": "white",
          "plot_bgcolor": "#E5ECF6",
          "polar": {
           "angularaxis": {
            "gridcolor": "white",
            "linecolor": "white",
            "ticks": ""
           },
           "bgcolor": "#E5ECF6",
           "radialaxis": {
            "gridcolor": "white",
            "linecolor": "white",
            "ticks": ""
           }
          },
          "scene": {
           "xaxis": {
            "backgroundcolor": "#E5ECF6",
            "gridcolor": "white",
            "gridwidth": 2,
            "linecolor": "white",
            "showbackground": true,
            "ticks": "",
            "zerolinecolor": "white"
           },
           "yaxis": {
            "backgroundcolor": "#E5ECF6",
            "gridcolor": "white",
            "gridwidth": 2,
            "linecolor": "white",
            "showbackground": true,
            "ticks": "",
            "zerolinecolor": "white"
           },
           "zaxis": {
            "backgroundcolor": "#E5ECF6",
            "gridcolor": "white",
            "gridwidth": 2,
            "linecolor": "white",
            "showbackground": true,
            "ticks": "",
            "zerolinecolor": "white"
           }
          },
          "shapedefaults": {
           "line": {
            "color": "#2a3f5f"
           }
          },
          "ternary": {
           "aaxis": {
            "gridcolor": "white",
            "linecolor": "white",
            "ticks": ""
           },
           "baxis": {
            "gridcolor": "white",
            "linecolor": "white",
            "ticks": ""
           },
           "bgcolor": "#E5ECF6",
           "caxis": {
            "gridcolor": "white",
            "linecolor": "white",
            "ticks": ""
           }
          },
          "title": {
           "x": 0.05
          },
          "xaxis": {
           "automargin": true,
           "gridcolor": "white",
           "linecolor": "white",
           "ticks": "",
           "title": {
            "standoff": 15
           },
           "zerolinecolor": "white",
           "zerolinewidth": 2
          },
          "yaxis": {
           "automargin": true,
           "gridcolor": "white",
           "linecolor": "white",
           "ticks": "",
           "title": {
            "standoff": 15
           },
           "zerolinecolor": "white",
           "zerolinewidth": 2
          }
         }
        },
        "title": {
         "text": "2019 Daily Parts Sales by Customer"
        },
        "xaxis": {
         "anchor": "y",
         "domain": [
          0,
          1
         ],
         "rangeslider": {
          "visible": true
         },
         "title": {
          "text": "date"
         }
        },
        "yaxis": {
         "anchor": "x",
         "domain": [
          0,
          1
         ],
         "title": {
          "text": "sale_value"
         }
        }
       }
      },
      "text/html": [
       "<div>                            <div id=\"b294cc3c-6ddd-41e7-9395-48d732098fc4\" class=\"plotly-graph-div\" style=\"height:525px; width:100%;\"></div>            <script type=\"text/javascript\">                require([\"plotly\"], function(Plotly) {                    window.PLOTLYENV=window.PLOTLYENV || {};                                    if (document.getElementById(\"b294cc3c-6ddd-41e7-9395-48d732098fc4\")) {                    Plotly.newPlot(                        \"b294cc3c-6ddd-41e7-9395-48d732098fc4\",                        [{\"alignmentgroup\": \"True\", \"hovertemplate\": \"customer_name=BIG CUSTOMER 1<br>date=%{x}<br>sale_value=%{y}<extra></extra>\", \"legendgroup\": \"BIG CUSTOMER 1\", \"marker\": {\"color\": \"#636efa\"}, \"name\": \"BIG CUSTOMER 1\", \"offsetgroup\": \"BIG CUSTOMER 1\", \"orientation\": \"v\", \"showlegend\": true, \"textposition\": \"auto\", \"type\": \"bar\", \"x\": [\"2019-01-02\", \"2019-05-29\", \"2019-05-30\", \"2019-10-07\", \"2019-05-31\", \"2019-10-04\", \"2019-06-02\", \"2019-10-03\", \"2019-10-02\", \"2019-06-03\", \"2019-06-04\", \"2019-06-05\", \"2019-10-01\", \"2019-06-06\", \"2019-06-07\", \"2019-09-30\", \"2019-06-10\", \"2019-09-27\", \"2019-06-11\", \"2019-06-12\", \"2019-06-13\", \"2019-09-26\", \"2019-06-14\", \"2019-06-17\", \"2019-06-18\", \"2019-09-25\", \"2019-06-19\", \"2019-09-24\", \"2019-06-20\", \"2019-06-21\", \"2019-05-28\", \"2019-10-08\", \"2019-05-27\", \"2019-05-24\", \"2019-05-01\", \"2019-10-24\", \"2019-05-02\", \"2019-10-23\", \"2019-10-22\", \"2019-05-03\", \"2019-10-21\", \"2019-05-04\", \"2019-10-18\", \"2019-05-06\", \"2019-05-07\", \"2019-10-17\", \"2019-05-08\", \"2019-10-16\", \"2019-06-24\", \"2019-10-15\", \"2019-10-14\", \"2019-05-10\", \"2019-05-13\", \"2019-08-16\", \"2019-05-15\", \"2019-05-16\", \"2019-10-11\", \"2019-05-17\", \"2019-05-20\", \"2019-05-21\", \"2019-05-22\", \"2019-10-10\", \"2019-10-09\", \"2019-05-23\", \"2019-05-09\", \"2019-09-23\", \"2019-06-25\", \"2019-09-20\", \"2019-09-02\", \"2019-07-25\", \"2019-09-01\", \"2019-07-26\", \"2019-07-29\", \"2019-08-30\", \"2019-07-30\", \"2019-07-31\", \"2019-08-29\", \"2019-08-01\", \"2019-08-28\", \"2019-08-02\", \"2019-08-27\", \"2019-08-26\", \"2019-09-03\", \"2019-08-03\", \"2019-08-23\", \"2019-08-05\", \"2019-08-06\", \"2019-08-07\", \"2019-08-08\", \"2019-08-09\", \"2019-08-12\", \"2019-08-22\", \"2019-08-13\", \"2019-08-21\", \"2019-08-14\", \"2019-08-20\", \"2019-08-15\", \"2019-08-19\", \"2019-08-04\", \"2019-10-25\", \"2019-07-24\", \"2019-07-23\", \"2019-06-26\", \"2019-06-27\", \"2019-09-19\", \"2019-06-28\", \"2019-07-01\", \"2019-09-18\", \"2019-07-02\", \"2019-07-03\", \"2019-09-17\", \"2019-07-04\", \"2019-09-16\", \"2019-07-05\", \"2019-07-08\", \"2019-09-13\", \"2019-09-04\", \"2019-07-09\", \"2019-07-10\", \"2019-09-11\", \"2019-07-11\", \"2019-09-10\", \"2019-07-12\", \"2019-07-15\", \"2019-07-16\", \"2019-09-09\", \"2019-07-17\", \"2019-09-06\", \"2019-07-18\", \"2019-07-19\", \"2019-07-22\", \"2019-09-05\", \"2019-09-12\", \"2019-04-30\", \"2019-05-14\", \"2019-03-25\", \"2019-03-15\", \"2019-11-19\", \"2019-03-18\", \"2019-03-19\", \"2019-03-20\", \"2019-11-05\", \"2019-02-04\", \"2019-11-04\", \"2019-03-21\", \"2019-03-14\", \"2019-02-01\", \"2019-11-20\", \"2019-01-30\", \"2019-03-22\", \"2019-01-29\", \"2019-01-25\", \"2019-03-26\", \"2019-11-21\", \"2019-11-03\", \"2019-03-27\", \"2019-01-31\", \"2019-01-24\", \"2019-02-13\", \"2019-03-13\", \"2019-11-13\", \"2019-02-21\", \"2019-02-25\", \"2019-11-14\", \"2019-11-12\", \"2019-02-26\", \"2019-11-11\", \"2019-02-20\", \"2019-02-27\", \"2019-02-14\", \"2019-11-08\", \"2019-02-28\", \"2019-11-07\", \"2019-03-01\", \"2019-02-19\", \"2019-02-18\", \"2019-02-15\", \"2019-11-18\", \"2019-03-04\", \"2019-11-06\", \"2019-11-15\", \"2019-11-22\", \"2019-02-22\", \"2019-04-17\", \"2019-04-23\", \"2019-01-18\", \"2019-10-28\", \"2019-04-15\", \"2019-11-28\", \"2019-01-04\", \"2019-04-24\", \"2019-01-14\", \"2019-10-30\", \"2019-04-16\", \"2019-03-28\", \"2019-01-17\", \"2019-11-29\", \"2019-04-18\", \"2019-10-29\", \"2019-01-15\", \"2019-01-16\", \"2019-01-21\", \"2019-04-26\", \"2019-11-27\", \"2019-01-22\", \"2019-03-29\", \"2019-11-02\", \"2019-12-04\", \"2019-04-01\", \"2019-01-23\", \"2019-04-29\", \"2019-04-02\", \"2019-12-02\", \"2019-11-25\", \"2019-11-01\", \"2019-11-26\", \"2019-01-03\", \"2019-10-31\", \"2019-04-04\", \"2019-12-03\"], \"xaxis\": \"x\", \"y\": [3844.9418832, 7362.1686528, 2631.6690892, 866.8958112000003, 22050.6962784, 8165.624788799999, 1543.6987631999996, 659.8781663999998, 8603.369856, 11276.845175999995, 720.2269008000001, 11834.232268799997, 19830.081479999997, 1946.1241776000002, 5150.0727888, 1652.710968, 4172.4685248, 8396.8422384, 11946.6369696, 19861.857859200005, 1830.3646752, 4372.1357616, 5642.8893744, 21169.363512, 10935.145439999998, 5108.1943104, 11923.4172192, 1087.4080512, 7804.1354928, 21698.894443200003, 6305.5569264000005, 8756.220647999997, 3329.9609903999994, 5850.3216575999995, 1636.1631263999996, 10649.0826384, 21165.1794336, 23280.5891616, 31613.501697600004, 19419.325603200003, 1247.0438352, 2817.467928, 1541.4747936, 2508.9769584, 15537.4055136, 15407.962944, 7156.7341728, 7489.0480032, 3626.4274464, 1063.5851903999999, 22399.2563952, 15403.109789999995, 5933.400115200001, 1843.4069376, 7037.5821743999995, 2882.2646016, 1478.2235903999997, 4336.816108800001, 6708.208507200002, 11132.513318399999, 7393.002671999999, 4332.217392, 13862.4171552, 5963.103302399999, 9211.078972800002, 3221.137257599999, 8762.704084799998, 449.6188032, 4554.237407999999, 2741.9660448, 11518.1270304, 10181.5589952, 4443.415872, 644.2726848000001, 23041.2297216, 44331.177619199996, 1776.6124608, 3997.9434527999992, 8086.918881599999, 15496.3940064, 2575.3191024, 2772.6869808, 5159.797944, 22816.6841808, 7545.325742400002, 5590.343380800001, 11527.324464, 1992.337512, 3493.9693248000003, 9216.469271999997, 1312.1043696000004, 1320.7740816, 12427.6175136, 8534.3514096, 11530.340015999996, 16547.954683199998, 4609.7235648, 8088.690518400001, 6212.640230399999, 6800.5597872, 6770.7812112, 3268.7829792, 7035.1697328, 14972.064902399998, 1335.3618144, 2779.8489167999996, 13202.727460800004, 11340.850267200001, 19481.9862608, 31498.835332799994, 4811.011660799999, 9210.438167999999, 1588.0273776, 1239.768816, 11418.048398399998, 35378.90839680001, 29906.7746544, 3999.564312, 1913.4431327999996, 13379.1309704, 2238.1426944, 4146.685555200001, 3367.806168, 7264.2511664, 1002.0679296000001, 500.50624320000003, 4170.0183888, 2897.7193056, 15093.553953599998, 2005.8038364000001, 9683.427499200005, 4453.3671936, 2552.3632128, 25261.806825599993, 5122.480488, 25440.327503999997, 11241.827078399998, 18556.048454399992, 3446.2482143999996, 9941.9356944, 3201.3100032, 16062.186950400004, 31061.542598400003, 33231.1191792, 2608.9425072, 14241.321264, 3554.1829875999993, 6676.3190448000005, 14927.924759999998, 1661.4183744000002, 2540.1879216, 19842.369854400004, 14842.688297999995, 7063.4028383999985, 5510.4312528, 9641.096688, 27998.1187104, 1490.6627424, 6970.863086399999, 4645.570939199999, 6067.064457599999, 1551.3884208, 4534.183987200001, 19635.050654400005, 3213.8999328, 6339.745747200001, 7667.794848, 5595.582902399999, 14983.787860799997, 8270.2644432, 18499.8084096, 18831.2175744, 6692.075303999999, 4235.6820336, 9392.0874816, 6239.968670399999, 10323.063772800002, 7582.643198399999, 6999.736996799999, 9510.108648000001, 21919.0674336, 28999.508140799997, 134.3051472, 4966.614144, 9449.609135999997, 7471.105468799999, 20.4680592, 15240.109780799998, 1403.5132896, 10087.436078399998, 2362.1572703999996, 2845.9648943999996, 3474.858264, 4695.3275472, 7174.073596800001, 2702.0570988, 27251.65650720001, 6569.266948800001, 665.7584928000001, 15384.064694399993, 10836.876139199998, 1077.5698128, 2733.4659576, 13113.316343999999, 16740.0453456, 8496.7700928, 5335.8276508, 26823.184262400002, 4052.1103056, 11299.650287999997, 8499.634867200002, 6279.547790399999, 8223.3349152, 4187.4332016, 12991.601126399999, 6418.3008768, 4464.6001248, 15857.167108799998, 11523.17808, 7441.779225599999], \"yaxis\": \"y\"}, {\"alignmentgroup\": \"True\", \"hovertemplate\": \"customer_name=MEDIUM CUSTOMER 1<br>date=%{x}<br>sale_value=%{y}<extra></extra>\", \"legendgroup\": \"MEDIUM CUSTOMER 1\", \"marker\": {\"color\": \"#EF553B\"}, \"name\": \"MEDIUM CUSTOMER 1\", \"offsetgroup\": \"MEDIUM CUSTOMER 1\", \"orientation\": \"v\", \"showlegend\": true, \"textposition\": \"auto\", \"type\": \"bar\", \"x\": [\"2019-07-04\", \"2019-09-13\", \"2019-11-14\", \"2019-07-08\", \"2019-08-21\", \"2019-07-09\", \"2019-09-16\", \"2019-08-20\", \"2019-07-30\", \"2019-07-11\", \"2019-11-21\", \"2019-08-30\", \"2019-02-21\", \"2019-09-01\", \"2019-08-01\", \"2019-09-04\", \"2019-08-02\", \"2019-09-05\", \"2019-02-01\", \"2019-02-04\", \"2019-01-17\", \"2019-08-05\", \"2019-11-18\", \"2019-12-04\", \"2019-08-06\", \"2019-02-14\", \"2019-08-08\", \"2019-02-15\", \"2019-04-30\", \"2019-11-08\", \"2019-10-07\", \"2019-06-02\", \"2019-03-21\", \"2019-11-03\", \"2019-05-30\", \"2019-09-17\", \"2019-05-28\", \"2019-03-26\", \"2019-10-08\", \"2019-05-23\", \"2019-03-28\", \"2019-05-17\", \"2019-11-01\", \"2019-10-11\", \"2019-10-03\", \"2019-05-13\", \"2019-05-10\", \"2019-10-30\", \"2019-05-09\", \"2019-04-17\", \"2019-05-07\", \"2019-04-18\", \"2019-10-29\", \"2019-04-23\", \"2019-05-03\", \"2019-05-02\", \"2019-10-24\", \"2019-05-01\", \"2019-04-29\", \"2019-04-04\", \"2019-10-01\", \"2019-08-16\", \"2019-10-25\", \"2019-06-20\", \"2019-06-17\", \"2019-09-23\", \"2019-11-06\", \"2019-06-14\", \"2019-03-01\", \"2019-03-04\", \"2019-06-12\", \"2019-09-19\", \"2019-06-18\", \"2019-03-13\", \"2019-11-13\", \"2019-06-27\", \"2019-11-12\", \"2019-11-05\"], \"xaxis\": \"x\", \"y\": [655.4804864, 716.0930816, 293.262432, 633.6177344, 12239.5224576, 335.6309376, 12274.904934400003, 11233.4840512, 1048.2561344, 325.78013439999995, 4654.2029568, 1572.2585536, 6080.659571200001, 659.1996672, 21.36016, 11233.4840512, 305.2743808, 18.6964224, 164.6491392, 1614.5265407999998, 7.287584, 466.05356159999997, 2480.492556800001, 1336.5429056, 3276.648544000001, 661.6121088, 573.9600640000001, 4117.484960000002, 439.0643712, 106.8008, 11659.883104, 1314.5796352, 764.1408767999999, 1820.9913344, 371.3149696, 11547.051200000002, 402.2243776, 58.80326400000001, 679.001792, 753.5864448000002, 2305.138208, 1343.2273792, 250.69288959999997, 975.0284800000002, 147.30971519999997, 637.5379519999999, 417.5031744, 4660.2340607999995, 484.95102080000004, 1700.3692544000005, 1256.0779264, 1837.0742784000004, 2517.0812544, 417.653952, 900.9464192000003, 934.82112, 3149.6435456, 748.4097472, 25.280377599999998, 1567.835744, 101.7246208, 1498.1262336, 1899.6469824, 461.0779008, 371.91808, 92.7784832, 738.6092032000001, 364.1781632, 258.1312512, 931.7050496000002, 64206.47981440001, 11437.6871808, 114.1889024, 31.613036800000003, 11907.3594048, 247.67733760000002, 479.67380479999997, 185.7580032], \"yaxis\": \"y\"}, {\"alignmentgroup\": \"True\", \"hovertemplate\": \"customer_name=MEDIUM CUSTOMER 2<br>date=%{x}<br>sale_value=%{y}<extra></extra>\", \"legendgroup\": \"MEDIUM CUSTOMER 2\", \"marker\": {\"color\": \"#00cc96\"}, \"name\": \"MEDIUM CUSTOMER 2\", \"offsetgroup\": \"MEDIUM CUSTOMER 2\", \"orientation\": \"v\", \"showlegend\": true, \"textposition\": \"auto\", \"type\": \"bar\", \"x\": [\"2019-10-28\", \"2019-10-14\", \"2019-09-23\", \"2019-09-12\", \"2019-10-29\", \"2019-11-28\", \"2019-11-07\", \"2019-10-22\", \"2019-11-12\", \"2019-10-24\", \"2019-08-22\", \"2019-08-20\", \"2019-12-02\", \"2019-11-14\", \"2019-10-01\", \"2019-08-27\", \"2019-11-15\", \"2019-11-04\", \"2019-11-19\", \"2019-09-30\", \"2019-11-05\", \"2019-11-03\", \"2019-10-04\", \"2019-09-06\", \"2019-11-20\", \"2019-09-26\", \"2019-08-30\", \"2019-09-09\", \"2019-11-02\", \"2019-11-01\", \"2019-11-22\", \"2019-09-10\", \"2019-10-10\", \"2019-08-28\", \"2019-11-06\", \"2019-10-11\", \"2019-09-05\", \"2019-11-26\", \"2019-08-23\", \"2019-09-17\", \"2019-07-15\", \"2019-12-04\", \"2019-06-24\", \"2019-03-21\", \"2019-06-27\", \"2019-03-20\", \"2019-07-02\", \"2019-03-19\", \"2019-07-03\", \"2019-03-14\", \"2019-03-04\", \"2019-05-07\", \"2019-07-09\", \"2019-07-10\", \"2019-07-11\", \"2019-02-27\", \"2019-02-26\", \"2019-07-12\", \"2019-07-16\", \"2019-03-22\", \"2019-02-25\", \"2019-06-20\", \"2019-03-29\", \"2019-05-09\", \"2019-05-03\", \"2019-05-13\", \"2019-05-16\", \"2019-05-22\", \"2019-05-02\", \"2019-08-16\", \"2019-05-01\", \"2019-05-30\", \"2019-05-31\", \"2019-04-30\", \"2019-06-02\", \"2019-06-07\", \"2019-04-15\", \"2019-04-03\", \"2019-06-11\", \"2019-06-13\", \"2019-03-26\", \"2019-07-18\", \"2019-07-08\", \"2019-02-19\", \"2019-07-22\", \"2019-01-16\", \"2019-01-23\", \"2019-08-12\", \"2019-08-02\", \"2019-01-24\", \"2019-01-25\", \"2019-08-01\", \"2019-01-31\", \"2019-02-04\", \"2019-02-14\", \"2019-01-15\", \"2019-07-25\", \"2019-08-13\", \"2019-01-21\", \"2019-07-24\", \"2019-01-04\", \"2019-01-02\", \"2019-07-23\", \"2019-02-20\", \"2019-02-22\"], \"xaxis\": \"x\", \"y\": [100.92675600000001, 315.59636399999994, 190.969254, 203.54976000000002, 167.080428, 272.43627599999996, 40.0503, 268.007184, 824.517882, 46.835292, 1175.923926, 1215.361692, 1627.5499560000005, 355.599546, 400.785708, 1409.6763239999998, 1200.896466, 1395.4466879999998, 122.224092, 82.59785400000001, 59.13309, 350.1338579999999, 2098.4943660000004, 6.502284, 122.224092, 271.493916, 99.042036, 2000.5360440000002, 115.250628, 874.7456700000001, 2008.6874579999999, 464.206536, 282.802236, 1245.2345039999998, 408.79576799999995, 270.645792, 7942.257198000001, 211.70117399999998, 545.437968, 133.014114, 492.85428, 28.03521, 589.91736, 137.49032400000002, 2448.7224600000004, 1411.1841, 164.58317399999999, 341.46414599999997, 17.43366, 1289.3840699999998, 954.987624, 117.18246599999999, 3120.7664940000004, 1785.9135540000002, 1452.035406, 193.937688, 25.726428, 463.78247400000004, 3932.421162000001, 6591.902435999999, 2223.828246, 1194.959598, 107.004978, 44.997690000000006, 787.8600780000002, 44.997690000000006, 443.568852, 4738.42167, 225.412512, 140.17605, 339.155364, 1540.7586, 5.795514, 531.915102, 1788.033864, 246.75696599999998, 1161.4587, 423.35523, 620.2613519999999, 397.157622, 0.3298260000000001, 59.698506, 2554.690842, 30.673818, 153.60468, 86191.07268000001, 769.90812, 112.706256, 3157.235826, 154.876866, 14.60658, 1554.8939999999993, 122.45968199999999, 1522.5239339999996, 126.653184, 8.669711999999999, 112.42354800000001, 258.58358400000003, 3754.7391840000005, 30.532464, 531.114096, 379.488372, 41.558076, 137.58456, 2556.245736], \"yaxis\": \"y\"}, {\"alignmentgroup\": \"True\", \"hovertemplate\": \"customer_name=MEDIUM CUSTOMER 3<br>date=%{x}<br>sale_value=%{y}<extra></extra>\", \"legendgroup\": \"MEDIUM CUSTOMER 3\", \"marker\": {\"color\": \"#ab63fa\"}, \"name\": \"MEDIUM CUSTOMER 3\", \"offsetgroup\": \"MEDIUM CUSTOMER 3\", \"orientation\": \"v\", \"showlegend\": true, \"textposition\": \"auto\", \"type\": \"bar\", \"x\": [\"2019-04-17\", \"2019-08-23\", \"2019-10-01\", \"2019-01-22\", \"2019-10-18\", \"2019-08-15\", \"2019-08-02\", \"2019-09-09\", \"2019-08-20\", \"2019-07-01\", \"2019-08-21\", \"2019-07-24\", \"2019-10-10\", \"2019-01-21\", \"2019-05-01\", \"2019-09-13\", \"2019-02-19\", \"2019-07-08\", \"2019-09-05\"], \"xaxis\": \"x\", \"y\": [3436.8497439999996, 1411.2657711999998, 240.3018, 455.0782088, 626.2264908, 92.916696, 578.3263320000001, 775.2670072, 44.6427344, 349.9862216, 1322.8347088, 602.1429103999999, 387.2063004, 201.2127072, 254.185904, 341.6557591999999, 500.57534960000004, 1362.4578055999998, 356.0738672], \"yaxis\": \"y\"}, {\"alignmentgroup\": \"True\", \"hovertemplate\": \"customer_name=SMALL CUSTOMER 1<br>date=%{x}<br>sale_value=%{y}<extra></extra>\", \"legendgroup\": \"SMALL CUSTOMER 1\", \"marker\": {\"color\": \"#FFA15A\"}, \"name\": \"SMALL CUSTOMER 1\", \"offsetgroup\": \"SMALL CUSTOMER 1\", \"orientation\": \"v\", \"showlegend\": true, \"textposition\": \"auto\", \"type\": \"bar\", \"x\": [\"2019-10-04\", \"2019-10-11\", \"2019-05-04\", \"2019-05-16\", \"2019-04-02\", \"2019-11-01\", \"2019-07-04\", \"2019-07-31\", \"2019-09-11\", \"2019-06-07\", \"2019-09-12\", \"2019-02-22\", \"2019-07-16\"], \"xaxis\": \"x\", \"y\": [111.8392848, 296.73031679999997, 326.9235312, 648.3059856000001, 526.2326712, 72.82558080000003, 2569.0241375999994, 580.7387736000001, 139.092336, 11502.7665624, 5980.009240800001, 597.1923792000002, 948.202632], \"yaxis\": \"y\"}, {\"alignmentgroup\": \"True\", \"hovertemplate\": \"customer_name=SMALL CUSTOMER 2<br>date=%{x}<br>sale_value=%{y}<extra></extra>\", \"legendgroup\": \"SMALL CUSTOMER 2\", \"marker\": {\"color\": \"#19d3f3\"}, \"name\": \"SMALL CUSTOMER 2\", \"offsetgroup\": \"SMALL CUSTOMER 2\", \"orientation\": \"v\", \"showlegend\": true, \"textposition\": \"auto\", \"type\": \"bar\", \"x\": [\"2019-12-03\", \"2019-05-02\", \"2019-01-02\", \"2019-11-06\", \"2019-11-12\", \"2019-02-19\", \"2019-02-22\", \"2019-11-07\", \"2019-04-15\", \"2019-03-01\", \"2019-02-15\", \"2019-03-20\", \"2019-03-27\", \"2019-10-24\", \"2019-04-24\", \"2019-11-28\", \"2019-10-28\", \"2019-04-23\", \"2019-11-25\", \"2019-04-18\", \"2019-04-03\", \"2019-05-01\", \"2019-10-16\", \"2019-08-16\", \"2019-05-24\", \"2019-09-25\", \"2019-08-03\", \"2019-09-04\", \"2019-08-23\", \"2019-08-02\", \"2019-06-21\", \"2019-08-26\", \"2019-06-26\", \"2019-09-17\", \"2019-06-10\", \"2019-07-03\", \"2019-08-01\", \"2019-09-11\", \"2019-05-08\", \"2019-08-28\", \"2019-09-10\", \"2019-07-29\", \"2019-07-26\", \"2019-08-30\", \"2019-09-01\", \"2019-09-13\", \"2019-09-27\", \"2019-06-18\", \"2019-06-05\", \"2019-08-14\", \"2019-10-11\", \"2019-08-13\", \"2019-08-12\", \"2019-10-09\", \"2019-05-22\", \"2019-05-27\", \"2019-08-04\", \"2019-05-31\", \"2019-05-29\", \"2019-06-02\", \"2019-06-03\", \"2019-08-22\", \"2019-10-03\", \"2019-09-02\"], \"xaxis\": \"x\", \"y\": [69.03729360000001, 713.8942416, 4092.4244664000003, 239.17096800000002, 1848.1187375999998, 501.4109088000001, 1835.2272528, 4620.2968439999995, 310.86571680000003, 175.95745920000002, 1321.0379424, 4391.5295304, 897.2021088, 441.70297919999996, 3389.6123784, 37.9394136, 352.1410848000001, 1106.6321952, 97.36463520000001, 181.66816080000004, 853.0996607999999, 413.43217920000006, 6377.1008975999985, 10293.624446400001, 7732.685757599999, 516.3378912, 1069.2581976, 2919.1297248, 472.4616096, 516.6771408, 14861.7333936, 3581.4580272, 148.81749119999998, 903.3086016000001, 933.1625664, 7565.1529967999995, 859.9411944000002, 145.5380784, 3097.2923064, 1106.2929456000002, 7220.927736, 901.8385199999999, 279.315504, 3116.4033672, 383.01279839999995, 291.0761568, 8720.8067592, 748.7238672, 1844.7827832, 764.4989736, 2775.5140608, 928.69578, 2138.120604, 1402.797096, 361.92278160000006, 568.808496, 265.8020616, 1957.0178591999997, 3412.1724768, 546.8703552000002, 253.6456176, 1311.5389536, 712.2545352, 1932.7615127999998], \"yaxis\": \"y\"}, {\"alignmentgroup\": \"True\", \"hovertemplate\": \"customer_name=SMALL CUSTOMER 3<br>date=%{x}<br>sale_value=%{y}<extra></extra>\", \"legendgroup\": \"SMALL CUSTOMER 3\", \"marker\": {\"color\": \"#FF6692\"}, \"name\": \"SMALL CUSTOMER 3\", \"offsetgroup\": \"SMALL CUSTOMER 3\", \"orientation\": \"v\", \"showlegend\": true, \"textposition\": \"auto\", \"type\": \"bar\", \"x\": [\"2019-08-27\", \"2019-01-30\", \"2019-01-17\", \"2019-01-21\", \"2019-11-20\", \"2019-01-18\", \"2019-08-09\", \"2019-02-04\", \"2019-11-26\", \"2019-07-25\", \"2019-08-14\", \"2019-07-24\", \"2019-08-16\", \"2019-01-16\", \"2019-01-24\", \"2019-10-15\", \"2019-07-22\", \"2019-05-08\", \"2019-10-14\", \"2019-05-09\", \"2019-05-02\", \"2019-05-15\", \"2019-10-24\", \"2019-10-03\", \"2019-04-29\", \"2019-04-23\", \"2019-06-02\", \"2019-06-03\", \"2019-09-27\", \"2019-04-01\", \"2019-09-24\", \"2019-06-19\", \"2019-09-23\", \"2019-06-25\", \"2019-03-20\", \"2019-11-04\", \"2019-07-02\", \"2019-03-01\", \"2019-07-04\", \"2019-02-27\", \"2019-07-11\", \"2019-02-26\", \"2019-09-09\", \"2019-07-17\", \"2019-02-22\", \"2019-09-05\", \"2019-07-23\", \"2019-02-28\"], \"xaxis\": \"x\", \"y\": [733.281728, 496.749368, 2270.333712, 313.868704, 210.209104, 646.4589599999999, 451.327616, 46.929528000000005, 327.815632, 831.852584, 5398.591968000001, 6.533696, 634.459576, 986.4624479999998, 45.610223999999995, 325.42832000000004, 665.243336, 1439.9260800000002, 1119.4608560000001, 77.21069600000001, 58.300672, 330.328592, 1119.4608560000001, 1403.111216, 35.746856, 8.041472, 1467.505816, 1297.1271279999999, 932.9992239999999, 646.4589599999999, 231.50644, 585.7081519999999, 1039.6743760000004, 207.63332, 807.099928, 46.80388, 17.90484, 323.22947999999997, 1162.244, 320.52804800000007, 1348.2030399999999, 176.598264, 85.12652, 510.69629599999996, 17.527896000000002, 53.337576, 1406.7550079999999, 1184.923464], \"yaxis\": \"y\"}],                        {\"barmode\": \"relative\", \"legend\": {\"title\": {\"text\": \"customer_name\"}, \"tracegroupgap\": 0}, \"template\": {\"data\": {\"bar\": [{\"error_x\": {\"color\": \"#2a3f5f\"}, \"error_y\": {\"color\": \"#2a3f5f\"}, \"marker\": {\"line\": {\"color\": \"#E5ECF6\", \"width\": 0.5}}, \"type\": \"bar\"}], \"barpolar\": [{\"marker\": {\"line\": {\"color\": \"#E5ECF6\", \"width\": 0.5}}, \"type\": \"barpolar\"}], \"carpet\": [{\"aaxis\": {\"endlinecolor\": \"#2a3f5f\", \"gridcolor\": \"white\", \"linecolor\": \"white\", \"minorgridcolor\": \"white\", \"startlinecolor\": \"#2a3f5f\"}, \"baxis\": {\"endlinecolor\": \"#2a3f5f\", \"gridcolor\": \"white\", \"linecolor\": \"white\", \"minorgridcolor\": \"white\", \"startlinecolor\": \"#2a3f5f\"}, \"type\": \"carpet\"}], \"choropleth\": [{\"colorbar\": {\"outlinewidth\": 0, \"ticks\": \"\"}, \"type\": \"choropleth\"}], \"contour\": [{\"colorbar\": {\"outlinewidth\": 0, \"ticks\": \"\"}, \"colorscale\": [[0.0, \"#0d0887\"], [0.1111111111111111, \"#46039f\"], [0.2222222222222222, \"#7201a8\"], [0.3333333333333333, \"#9c179e\"], [0.4444444444444444, \"#bd3786\"], [0.5555555555555556, \"#d8576b\"], [0.6666666666666666, \"#ed7953\"], [0.7777777777777778, \"#fb9f3a\"], [0.8888888888888888, \"#fdca26\"], [1.0, \"#f0f921\"]], \"type\": \"contour\"}], \"contourcarpet\": [{\"colorbar\": {\"outlinewidth\": 0, \"ticks\": \"\"}, \"type\": \"contourcarpet\"}], \"heatmap\": [{\"colorbar\": {\"outlinewidth\": 0, \"ticks\": \"\"}, \"colorscale\": [[0.0, \"#0d0887\"], [0.1111111111111111, \"#46039f\"], [0.2222222222222222, \"#7201a8\"], [0.3333333333333333, \"#9c179e\"], [0.4444444444444444, \"#bd3786\"], [0.5555555555555556, \"#d8576b\"], [0.6666666666666666, \"#ed7953\"], [0.7777777777777778, \"#fb9f3a\"], [0.8888888888888888, \"#fdca26\"], [1.0, \"#f0f921\"]], \"type\": \"heatmap\"}], \"heatmapgl\": [{\"colorbar\": {\"outlinewidth\": 0, \"ticks\": \"\"}, \"colorscale\": [[0.0, \"#0d0887\"], [0.1111111111111111, \"#46039f\"], [0.2222222222222222, \"#7201a8\"], [0.3333333333333333, \"#9c179e\"], [0.4444444444444444, \"#bd3786\"], [0.5555555555555556, \"#d8576b\"], [0.6666666666666666, \"#ed7953\"], [0.7777777777777778, \"#fb9f3a\"], [0.8888888888888888, \"#fdca26\"], [1.0, \"#f0f921\"]], \"type\": \"heatmapgl\"}], \"histogram\": [{\"marker\": {\"colorbar\": {\"outlinewidth\": 0, \"ticks\": \"\"}}, \"type\": \"histogram\"}], \"histogram2d\": [{\"colorbar\": {\"outlinewidth\": 0, \"ticks\": \"\"}, \"colorscale\": [[0.0, \"#0d0887\"], [0.1111111111111111, \"#46039f\"], [0.2222222222222222, \"#7201a8\"], [0.3333333333333333, \"#9c179e\"], [0.4444444444444444, \"#bd3786\"], [0.5555555555555556, \"#d8576b\"], [0.6666666666666666, \"#ed7953\"], [0.7777777777777778, \"#fb9f3a\"], [0.8888888888888888, \"#fdca26\"], [1.0, \"#f0f921\"]], \"type\": \"histogram2d\"}], \"histogram2dcontour\": [{\"colorbar\": {\"outlinewidth\": 0, \"ticks\": \"\"}, \"colorscale\": [[0.0, \"#0d0887\"], [0.1111111111111111, \"#46039f\"], [0.2222222222222222, \"#7201a8\"], [0.3333333333333333, \"#9c179e\"], [0.4444444444444444, \"#bd3786\"], [0.5555555555555556, \"#d8576b\"], [0.6666666666666666, \"#ed7953\"], [0.7777777777777778, \"#fb9f3a\"], [0.8888888888888888, \"#fdca26\"], [1.0, \"#f0f921\"]], \"type\": \"histogram2dcontour\"}], \"mesh3d\": [{\"colorbar\": {\"outlinewidth\": 0, \"ticks\": \"\"}, \"type\": \"mesh3d\"}], \"parcoords\": [{\"line\": {\"colorbar\": {\"outlinewidth\": 0, \"ticks\": \"\"}}, \"type\": \"parcoords\"}], \"pie\": [{\"automargin\": true, \"type\": \"pie\"}], \"scatter\": [{\"marker\": {\"colorbar\": {\"outlinewidth\": 0, \"ticks\": \"\"}}, \"type\": \"scatter\"}], \"scatter3d\": [{\"line\": {\"colorbar\": {\"outlinewidth\": 0, \"ticks\": \"\"}}, \"marker\": {\"colorbar\": {\"outlinewidth\": 0, \"ticks\": \"\"}}, \"type\": \"scatter3d\"}], \"scattercarpet\": [{\"marker\": {\"colorbar\": {\"outlinewidth\": 0, \"ticks\": \"\"}}, \"type\": \"scattercarpet\"}], \"scattergeo\": [{\"marker\": {\"colorbar\": {\"outlinewidth\": 0, \"ticks\": \"\"}}, \"type\": \"scattergeo\"}], \"scattergl\": [{\"marker\": {\"colorbar\": {\"outlinewidth\": 0, \"ticks\": \"\"}}, \"type\": \"scattergl\"}], \"scattermapbox\": [{\"marker\": {\"colorbar\": {\"outlinewidth\": 0, \"ticks\": \"\"}}, \"type\": \"scattermapbox\"}], \"scatterpolar\": [{\"marker\": {\"colorbar\": {\"outlinewidth\": 0, \"ticks\": \"\"}}, \"type\": \"scatterpolar\"}], \"scatterpolargl\": [{\"marker\": {\"colorbar\": {\"outlinewidth\": 0, \"ticks\": \"\"}}, \"type\": \"scatterpolargl\"}], \"scatterternary\": [{\"marker\": {\"colorbar\": {\"outlinewidth\": 0, \"ticks\": \"\"}}, \"type\": \"scatterternary\"}], \"surface\": [{\"colorbar\": {\"outlinewidth\": 0, \"ticks\": \"\"}, \"colorscale\": [[0.0, \"#0d0887\"], [0.1111111111111111, \"#46039f\"], [0.2222222222222222, \"#7201a8\"], [0.3333333333333333, \"#9c179e\"], [0.4444444444444444, \"#bd3786\"], [0.5555555555555556, \"#d8576b\"], [0.6666666666666666, \"#ed7953\"], [0.7777777777777778, \"#fb9f3a\"], [0.8888888888888888, \"#fdca26\"], [1.0, \"#f0f921\"]], \"type\": \"surface\"}], \"table\": [{\"cells\": {\"fill\": {\"color\": \"#EBF0F8\"}, \"line\": {\"color\": \"white\"}}, \"header\": {\"fill\": {\"color\": \"#C8D4E3\"}, \"line\": {\"color\": \"white\"}}, \"type\": \"table\"}]}, \"layout\": {\"annotationdefaults\": {\"arrowcolor\": \"#2a3f5f\", \"arrowhead\": 0, \"arrowwidth\": 1}, \"coloraxis\": {\"colorbar\": {\"outlinewidth\": 0, \"ticks\": \"\"}}, \"colorscale\": {\"diverging\": [[0, \"#8e0152\"], [0.1, \"#c51b7d\"], [0.2, \"#de77ae\"], [0.3, \"#f1b6da\"], [0.4, \"#fde0ef\"], [0.5, \"#f7f7f7\"], [0.6, \"#e6f5d0\"], [0.7, \"#b8e186\"], [0.8, \"#7fbc41\"], [0.9, \"#4d9221\"], [1, \"#276419\"]], \"sequential\": [[0.0, \"#0d0887\"], [0.1111111111111111, \"#46039f\"], [0.2222222222222222, \"#7201a8\"], [0.3333333333333333, \"#9c179e\"], [0.4444444444444444, \"#bd3786\"], [0.5555555555555556, \"#d8576b\"], [0.6666666666666666, \"#ed7953\"], [0.7777777777777778, \"#fb9f3a\"], [0.8888888888888888, \"#fdca26\"], [1.0, \"#f0f921\"]], \"sequentialminus\": [[0.0, \"#0d0887\"], [0.1111111111111111, \"#46039f\"], [0.2222222222222222, \"#7201a8\"], [0.3333333333333333, \"#9c179e\"], [0.4444444444444444, \"#bd3786\"], [0.5555555555555556, \"#d8576b\"], [0.6666666666666666, \"#ed7953\"], [0.7777777777777778, \"#fb9f3a\"], [0.8888888888888888, \"#fdca26\"], [1.0, \"#f0f921\"]]}, \"colorway\": [\"#636efa\", \"#EF553B\", \"#00cc96\", \"#ab63fa\", \"#FFA15A\", \"#19d3f3\", \"#FF6692\", \"#B6E880\", \"#FF97FF\", \"#FECB52\"], \"font\": {\"color\": \"#2a3f5f\"}, \"geo\": {\"bgcolor\": \"white\", \"lakecolor\": \"white\", \"landcolor\": \"#E5ECF6\", \"showlakes\": true, \"showland\": true, \"subunitcolor\": \"white\"}, \"hoverlabel\": {\"align\": \"left\"}, \"hovermode\": \"closest\", \"mapbox\": {\"style\": \"light\"}, \"paper_bgcolor\": \"white\", \"plot_bgcolor\": \"#E5ECF6\", \"polar\": {\"angularaxis\": {\"gridcolor\": \"white\", \"linecolor\": \"white\", \"ticks\": \"\"}, \"bgcolor\": \"#E5ECF6\", \"radialaxis\": {\"gridcolor\": \"white\", \"linecolor\": \"white\", \"ticks\": \"\"}}, \"scene\": {\"xaxis\": {\"backgroundcolor\": \"#E5ECF6\", \"gridcolor\": \"white\", \"gridwidth\": 2, \"linecolor\": \"white\", \"showbackground\": true, \"ticks\": \"\", \"zerolinecolor\": \"white\"}, \"yaxis\": {\"backgroundcolor\": \"#E5ECF6\", \"gridcolor\": \"white\", \"gridwidth\": 2, \"linecolor\": \"white\", \"showbackground\": true, \"ticks\": \"\", \"zerolinecolor\": \"white\"}, \"zaxis\": {\"backgroundcolor\": \"#E5ECF6\", \"gridcolor\": \"white\", \"gridwidth\": 2, \"linecolor\": \"white\", \"showbackground\": true, \"ticks\": \"\", \"zerolinecolor\": \"white\"}}, \"shapedefaults\": {\"line\": {\"color\": \"#2a3f5f\"}}, \"ternary\": {\"aaxis\": {\"gridcolor\": \"white\", \"linecolor\": \"white\", \"ticks\": \"\"}, \"baxis\": {\"gridcolor\": \"white\", \"linecolor\": \"white\", \"ticks\": \"\"}, \"bgcolor\": \"#E5ECF6\", \"caxis\": {\"gridcolor\": \"white\", \"linecolor\": \"white\", \"ticks\": \"\"}}, \"title\": {\"x\": 0.05}, \"xaxis\": {\"automargin\": true, \"gridcolor\": \"white\", \"linecolor\": \"white\", \"ticks\": \"\", \"title\": {\"standoff\": 15}, \"zerolinecolor\": \"white\", \"zerolinewidth\": 2}, \"yaxis\": {\"automargin\": true, \"gridcolor\": \"white\", \"linecolor\": \"white\", \"ticks\": \"\", \"title\": {\"standoff\": 15}, \"zerolinecolor\": \"white\", \"zerolinewidth\": 2}}}, \"title\": {\"text\": \"2019 Daily Parts Sales by Customer\"}, \"xaxis\": {\"anchor\": \"y\", \"domain\": [0.0, 1.0], \"rangeslider\": {\"visible\": true}, \"title\": {\"text\": \"date\"}}, \"yaxis\": {\"anchor\": \"x\", \"domain\": [0.0, 1.0], \"title\": {\"text\": \"sale_value\"}}},                        {\"responsive\": true}                    ).then(function(){\n",
       "                            \n",
       "var gd = document.getElementById('b294cc3c-6ddd-41e7-9395-48d732098fc4');\n",
       "var x = new MutationObserver(function (mutations, observer) {{\n",
       "        var display = window.getComputedStyle(gd).display;\n",
       "        if (!display || display === 'none') {{\n",
       "            console.log([gd, 'removed!']);\n",
       "            Plotly.purge(gd);\n",
       "            observer.disconnect();\n",
       "        }}\n",
       "}});\n",
       "\n",
       "// Listen for the removal of the full notebook cells\n",
       "var notebookContainer = gd.closest('#notebook-container');\n",
       "if (notebookContainer) {{\n",
       "    x.observe(notebookContainer, {childList: true});\n",
       "}}\n",
       "\n",
       "// Listen for the clearing of the current output cell\n",
       "var outputEl = gd.closest('.output');\n",
       "if (outputEl) {{\n",
       "    x.observe(outputEl, {childList: true});\n",
       "}}\n",
       "\n",
       "                        })                };                });            </script>        </div>"
      ]
     },
     "metadata": {},
     "output_type": "display_data"
    }
   ],
   "source": [
    "fig = px.bar(saleval_2019, x='date', y='sale_value', color = 'customer_name', title='2019 Daily Parts Sales by Customer')\n",
    "\n",
    "\n",
    "fig.update_xaxes(rangeslider_visible=True)\n",
    "fig.show()"
   ]
  },
  {
   "cell_type": "markdown",
   "metadata": {},
   "source": [
    "*use the range finder to zoom in to a specific trading day*"
   ]
  },
  {
   "cell_type": "code",
   "execution_count": 8,
   "metadata": {},
   "outputs": [],
   "source": [
    "saleval_2019_bymonth = df.copy()\n",
    "saleval_2019_bymonth = saleval_2019_bymonth.drop(saleval_2019_bymonth[saleval_2019_bymonth.year != 2019].index)\n",
    "saleval_2019_bymonth = pd.pivot_table(saleval_2019_bymonth, index = ['date','month'], values = ['sale_value','margin'], aggfunc = {'sale_value':'sum','margin':'sum'})\n",
    "saleval_2019_bymonth = saleval_2019_bymonth.reset_index(drop = False)"
   ]
  },
  {
   "cell_type": "code",
   "execution_count": 9,
   "metadata": {},
   "outputs": [
    {
     "data": {
      "application/vnd.plotly.v1+json": {
       "config": {
        "plotlyServerURL": "https://plot.ly"
       },
       "data": [
        {
         "alignmentgroup": "True",
         "hovertemplate": "<b>%{hovertext}</b><br><br>month=%{x}<br>sale_value=%{y}<extra></extra>",
         "hovertext": [
          "2019-01-02",
          "2019-01-03",
          "2019-01-04",
          "2019-01-14",
          "2019-01-15",
          "2019-01-16",
          "2019-01-17",
          "2019-01-18",
          "2019-01-21",
          "2019-01-22",
          "2019-01-23",
          "2019-01-24",
          "2019-01-25",
          "2019-01-29",
          "2019-01-30",
          "2019-01-31",
          "2019-02-01",
          "2019-02-04",
          "2019-02-13",
          "2019-02-14",
          "2019-02-15",
          "2019-02-18",
          "2019-02-19",
          "2019-02-20",
          "2019-02-21",
          "2019-02-22",
          "2019-02-25",
          "2019-02-26",
          "2019-02-27",
          "2019-02-28",
          "2019-03-01",
          "2019-03-04",
          "2019-03-13",
          "2019-03-14",
          "2019-03-15",
          "2019-03-18",
          "2019-03-19",
          "2019-03-20",
          "2019-03-21",
          "2019-03-22",
          "2019-03-25",
          "2019-03-26",
          "2019-03-27",
          "2019-03-28",
          "2019-03-29",
          "2019-04-01",
          "2019-04-02",
          "2019-04-03",
          "2019-04-04",
          "2019-04-15",
          "2019-04-16",
          "2019-04-17",
          "2019-04-18",
          "2019-04-23",
          "2019-04-24",
          "2019-04-26",
          "2019-04-29",
          "2019-04-30",
          "2019-05-01",
          "2019-05-02",
          "2019-05-03",
          "2019-05-04",
          "2019-05-06",
          "2019-05-07",
          "2019-05-08",
          "2019-05-09",
          "2019-05-10",
          "2019-05-13",
          "2019-05-14",
          "2019-05-15",
          "2019-05-16",
          "2019-05-17",
          "2019-05-20",
          "2019-05-21",
          "2019-05-22",
          "2019-05-23",
          "2019-05-24",
          "2019-05-27",
          "2019-05-28",
          "2019-05-29",
          "2019-05-30",
          "2019-05-31",
          "2019-06-02",
          "2019-06-03",
          "2019-06-04",
          "2019-06-05",
          "2019-06-06",
          "2019-06-07",
          "2019-06-10",
          "2019-06-11",
          "2019-06-12",
          "2019-06-13",
          "2019-06-14",
          "2019-06-17",
          "2019-06-18",
          "2019-06-19",
          "2019-06-20",
          "2019-06-21",
          "2019-06-24",
          "2019-06-25",
          "2019-06-26",
          "2019-06-27",
          "2019-06-28",
          "2019-07-01",
          "2019-07-02",
          "2019-07-03",
          "2019-07-04",
          "2019-07-05",
          "2019-07-08",
          "2019-07-09",
          "2019-07-10",
          "2019-07-11",
          "2019-07-12",
          "2019-07-15",
          "2019-07-16",
          "2019-07-17",
          "2019-07-18",
          "2019-07-19",
          "2019-07-22",
          "2019-07-23",
          "2019-07-24",
          "2019-07-25",
          "2019-07-26",
          "2019-07-29",
          "2019-07-30",
          "2019-07-31",
          "2019-08-01",
          "2019-08-02",
          "2019-08-03",
          "2019-08-04",
          "2019-08-05",
          "2019-08-06",
          "2019-08-07",
          "2019-08-08",
          "2019-08-09",
          "2019-08-12",
          "2019-08-13",
          "2019-08-14",
          "2019-08-15",
          "2019-08-16",
          "2019-08-19",
          "2019-08-20",
          "2019-08-21",
          "2019-08-22",
          "2019-08-23",
          "2019-08-26",
          "2019-08-27",
          "2019-08-28",
          "2019-08-29",
          "2019-08-30",
          "2019-09-01",
          "2019-09-02",
          "2019-09-03",
          "2019-09-04",
          "2019-09-05",
          "2019-09-06",
          "2019-09-09",
          "2019-09-10",
          "2019-09-11",
          "2019-09-12",
          "2019-09-13",
          "2019-09-16",
          "2019-09-17",
          "2019-09-18",
          "2019-09-19",
          "2019-09-20",
          "2019-09-23",
          "2019-09-24",
          "2019-09-25",
          "2019-09-26",
          "2019-09-27",
          "2019-09-30",
          "2019-10-01",
          "2019-10-02",
          "2019-10-03",
          "2019-10-04",
          "2019-10-07",
          "2019-10-08",
          "2019-10-09",
          "2019-10-10",
          "2019-10-11",
          "2019-10-14",
          "2019-10-15",
          "2019-10-16",
          "2019-10-17",
          "2019-10-18",
          "2019-10-21",
          "2019-10-22",
          "2019-10-23",
          "2019-10-24",
          "2019-10-25",
          "2019-10-28",
          "2019-10-29",
          "2019-10-30",
          "2019-10-31",
          "2019-11-01",
          "2019-11-02",
          "2019-11-03",
          "2019-11-04",
          "2019-11-05",
          "2019-11-06",
          "2019-11-07",
          "2019-11-08",
          "2019-11-11",
          "2019-11-12",
          "2019-11-13",
          "2019-11-14",
          "2019-11-15",
          "2019-11-18",
          "2019-11-19",
          "2019-11-20",
          "2019-11-21",
          "2019-11-22",
          "2019-11-25",
          "2019-11-26",
          "2019-11-27",
          "2019-11-28",
          "2019-11-29",
          "2019-12-02",
          "2019-12-03",
          "2019-12-04"
         ],
         "legendgroup": "",
         "marker": {
          "color": "#636efa"
         },
         "name": "",
         "notched": false,
         "offsetgroup": "",
         "orientation": "v",
         "showlegend": false,
         "type": "box",
         "x": [
          "Jan",
          "Jan",
          "Jan",
          "Jan",
          "Jan",
          "Jan",
          "Jan",
          "Jan",
          "Jan",
          "Jan",
          "Jan",
          "Jan",
          "Jan",
          "Jan",
          "Jan",
          "Jan",
          "Feb",
          "Feb",
          "Feb",
          "Feb",
          "Feb",
          "Feb",
          "Feb",
          "Feb",
          "Feb",
          "Feb",
          "Feb",
          "Feb",
          "Feb",
          "Feb",
          "Mar",
          "Mar",
          "Mar",
          "Mar",
          "Mar",
          "Mar",
          "Mar",
          "Mar",
          "Mar",
          "Mar",
          "Mar",
          "Mar",
          "Mar",
          "Mar",
          "Mar",
          "Apr",
          "Apr",
          "Apr",
          "Apr",
          "Apr",
          "Apr",
          "Apr",
          "Apr",
          "Apr",
          "Apr",
          "Apr",
          "Apr",
          "Apr",
          "May",
          "May",
          "May",
          "May",
          "May",
          "May",
          "May",
          "May",
          "May",
          "May",
          "May",
          "May",
          "May",
          "May",
          "May",
          "May",
          "May",
          "May",
          "May",
          "May",
          "May",
          "May",
          "May",
          "May",
          "Jun",
          "Jun",
          "Jun",
          "Jun",
          "Jun",
          "Jun",
          "Jun",
          "Jun",
          "Jun",
          "Jun",
          "Jun",
          "Jun",
          "Jun",
          "Jun",
          "Jun",
          "Jun",
          "Jun",
          "Jun",
          "Jun",
          "Jun",
          "Jun",
          "Jul",
          "Jul",
          "Jul",
          "Jul",
          "Jul",
          "Jul",
          "Jul",
          "Jul",
          "Jul",
          "Jul",
          "Jul",
          "Jul",
          "Jul",
          "Jul",
          "Jul",
          "Jul",
          "Jul",
          "Jul",
          "Jul",
          "Jul",
          "Jul",
          "Jul",
          "Jul",
          "Aug",
          "Aug",
          "Aug",
          "Aug",
          "Aug",
          "Aug",
          "Aug",
          "Aug",
          "Aug",
          "Aug",
          "Aug",
          "Aug",
          "Aug",
          "Aug",
          "Aug",
          "Aug",
          "Aug",
          "Aug",
          "Aug",
          "Aug",
          "Aug",
          "Aug",
          "Aug",
          "Aug",
          "Sep",
          "Sep",
          "Sep",
          "Sep",
          "Sep",
          "Sep",
          "Sep",
          "Sep",
          "Sep",
          "Sep",
          "Sep",
          "Sep",
          "Sep",
          "Sep",
          "Sep",
          "Sep",
          "Sep",
          "Sep",
          "Sep",
          "Sep",
          "Sep",
          "Sep",
          "Oct",
          "Oct",
          "Oct",
          "Oct",
          "Oct",
          "Oct",
          "Oct",
          "Oct",
          "Oct",
          "Oct",
          "Oct",
          "Oct",
          "Oct",
          "Oct",
          "Oct",
          "Oct",
          "Oct",
          "Oct",
          "Oct",
          "Oct",
          "Oct",
          "Oct",
          "Oct",
          "Nov",
          "Nov",
          "Nov",
          "Nov",
          "Nov",
          "Nov",
          "Nov",
          "Nov",
          "Nov",
          "Nov",
          "Nov",
          "Nov",
          "Nov",
          "Nov",
          "Nov",
          "Nov",
          "Nov",
          "Nov",
          "Nov",
          "Nov",
          "Nov",
          "Nov",
          "Nov",
          "Dec",
          "Dec",
          "Dec"
         ],
         "x0": " ",
         "xaxis": "x",
         "y": [
          8316.8547216,
          4464.6001248,
          10618.550174400003,
          2845.9648943999996,
          15392.734406399994,
          98014.4112672,
          4979.6783948,
          8117.5644288,
          5347.390408000003,
          17195.1235544,
          12069.558407999997,
          1691.1498324,
          19856.976434400003,
          2540.1879216,
          15424.674127999999,
          28120.5783924,
          3718.8321267999995,
          34245.52260120001,
          6970.863086399999,
          9058.529735999999,
          15761.586675200004,
          6239.968670399999,
          10424.747558,
          5733.1674624,
          7632.047992,
          5140.498411199998,
          6758.012233200001,
          6542.0704392,
          15498.253596799996,
          20016.1410384,
          4993.000223999999,
          8886.429670399999,
          4677.183975999998,
          15530.705334,
          11241.827078399998,
          3446.2482143999996,
          10283.3998404,
          9811.1235616,
          3510.5737080000004,
          8253.320810399999,
          25440.327503999997,
          14901.821387999997,
          10538.2987968,
          9479.211804799997,
          8603.7750708,
          4698.569265599999,
          6805.780461599999,
          1276.4548908,
          13091.013824,
          16712.434197599996,
          4695.3275472,
          10103.833142399999,
          8588.009388,
          10981.936755199999,
          5751.769648799999,
          2733.4659576,
          8560.662100800002,
          26232.786298799994,
          3391.3463208,
          23097.607979200002,
          21108.1321004,
          3144.391459199999,
          2508.9769584,
          16910.665906,
          11693.952559200003,
          9818.2383796,
          15820.612964399996,
          6615.9357572,
          5122.480488,
          7367.910766399999,
          3974.1394391999997,
          5680.043488000001,
          6708.208507200002,
          11132.513318399999,
          12493.347123599999,
          6716.6897472,
          13583.007415199998,
          3898.7694863999996,
          6707.781304000001,
          10774.341129600001,
          4543.742658800001,
          24013.509651599998,
          6660.688433599998,
          12827.617921599996,
          720.2269008000001,
          13679.015051999997,
          1946.1241776000002,
          16899.5963172,
          5105.6310912,
          12566.898321600002,
          84068.3376736,
          2227.5222972000006,
          6007.0675376,
          21541.281592,
          11798.058209599998,
          12509.1253712,
          9460.1729916,
          36560.6278368,
          4216.3448064,
          8970.337404799995,
          7183.9872239999995,
          17668.4647,
          2779.8489167999996,
          13552.713682400003,
          19664.4742748,
          39081.4219896,
          13597.186791999999,
          1239.768816,
          15968.814780399996,
          7455.961743600001,
          3699.3566867999994,
          5364.161274800001,
          3831.5886419999997,
          7757.1054464,
          5882.691723600002,
          4680.714684800001,
          15153.252459599998,
          2005.8038364000001,
          10502.275515200003,
          4717.0960632,
          7409.9902816,
          3686.2421768,
          10460.874499200001,
          5345.254392,
          24089.485856,
          44911.9163928,
          6434.1388072,
          20053.907686,
          23885.9423784,
          6478.442291999999,
          6056.3969424000015,
          14803.973007999999,
          1992.337512,
          4067.9293888,
          9667.796887999997,
          3562.9312295999994,
          13614.8968776,
          17693.430957599998,
          4702.6402608,
          14409.7932436,
          8088.690518400001,
          29041.443160799994,
          22096.708576,
          3808.2369611999998,
          9974.491091199998,
          6354.145008,
          4718.277154399999,
          10438.446331199999,
          1776.6124608,
          5431.9766416,
          12560.339496,
          6486.998920799999,
          5159.797944,
          44059.3884304,
          12823.7322572,
          2904.2215896000002,
          3361.4358144000007,
          11831.819827199997,
          13663.7613848,
          8735.922213600003,
          36727.73339440001,
          13862.932312000003,
          17394.3855764,
          11340.850267200001,
          12773.0489952,
          449.6188032,
          4544.5593708,
          1318.9144912000002,
          5624.5322016,
          4643.629677600001,
          18050.6482216,
          1735.3088220000002,
          20572.893608799994,
          8603.369856,
          2922.5536328,
          10375.958439600001,
          12526.7789152,
          9435.222439999998,
          15265.214251200001,
          5002.225928399999,
          5796.142240000001,
          23834.313615199997,
          1389.0135103999999,
          13866.1489008,
          15407.962944,
          2167.7012843999996,
          1247.0438352,
          31881.5088816,
          23280.5891616,
          15406.7253112,
          8700.2067696,
          473.5359000000001,
          3349.9201752,
          8135.092324799999,
          15857.167108799998,
          14189.8652668,
          5451.0782788,
          7681.556445199999,
          34673.3697472,
          16307.078043600004,
          10896.684587200003,
          11352.422448,
          18606.6092096,
          7667.794848,
          6366.2103572,
          17974.4238624,
          20283.912632400003,
          23119.9638996,
          10063.135755199997,
          18678.272546399992,
          7008.7522407999995,
          11717.605795199997,
          31008.195598799997,
          4284.7978367999995,
          6957.8176828,
          13113.316343999999,
          1713.8889792,
          27251.65650720001,
          9850.8848712,
          7510.8165192,
          28187.762378000003
         ],
         "y0": " ",
         "yaxis": "y"
        }
       ],
       "layout": {
        "boxmode": "group",
        "legend": {
         "tracegroupgap": 0
        },
        "template": {
         "data": {
          "bar": [
           {
            "error_x": {
             "color": "#2a3f5f"
            },
            "error_y": {
             "color": "#2a3f5f"
            },
            "marker": {
             "line": {
              "color": "#E5ECF6",
              "width": 0.5
             }
            },
            "type": "bar"
           }
          ],
          "barpolar": [
           {
            "marker": {
             "line": {
              "color": "#E5ECF6",
              "width": 0.5
             }
            },
            "type": "barpolar"
           }
          ],
          "carpet": [
           {
            "aaxis": {
             "endlinecolor": "#2a3f5f",
             "gridcolor": "white",
             "linecolor": "white",
             "minorgridcolor": "white",
             "startlinecolor": "#2a3f5f"
            },
            "baxis": {
             "endlinecolor": "#2a3f5f",
             "gridcolor": "white",
             "linecolor": "white",
             "minorgridcolor": "white",
             "startlinecolor": "#2a3f5f"
            },
            "type": "carpet"
           }
          ],
          "choropleth": [
           {
            "colorbar": {
             "outlinewidth": 0,
             "ticks": ""
            },
            "type": "choropleth"
           }
          ],
          "contour": [
           {
            "colorbar": {
             "outlinewidth": 0,
             "ticks": ""
            },
            "colorscale": [
             [
              0,
              "#0d0887"
             ],
             [
              0.1111111111111111,
              "#46039f"
             ],
             [
              0.2222222222222222,
              "#7201a8"
             ],
             [
              0.3333333333333333,
              "#9c179e"
             ],
             [
              0.4444444444444444,
              "#bd3786"
             ],
             [
              0.5555555555555556,
              "#d8576b"
             ],
             [
              0.6666666666666666,
              "#ed7953"
             ],
             [
              0.7777777777777778,
              "#fb9f3a"
             ],
             [
              0.8888888888888888,
              "#fdca26"
             ],
             [
              1,
              "#f0f921"
             ]
            ],
            "type": "contour"
           }
          ],
          "contourcarpet": [
           {
            "colorbar": {
             "outlinewidth": 0,
             "ticks": ""
            },
            "type": "contourcarpet"
           }
          ],
          "heatmap": [
           {
            "colorbar": {
             "outlinewidth": 0,
             "ticks": ""
            },
            "colorscale": [
             [
              0,
              "#0d0887"
             ],
             [
              0.1111111111111111,
              "#46039f"
             ],
             [
              0.2222222222222222,
              "#7201a8"
             ],
             [
              0.3333333333333333,
              "#9c179e"
             ],
             [
              0.4444444444444444,
              "#bd3786"
             ],
             [
              0.5555555555555556,
              "#d8576b"
             ],
             [
              0.6666666666666666,
              "#ed7953"
             ],
             [
              0.7777777777777778,
              "#fb9f3a"
             ],
             [
              0.8888888888888888,
              "#fdca26"
             ],
             [
              1,
              "#f0f921"
             ]
            ],
            "type": "heatmap"
           }
          ],
          "heatmapgl": [
           {
            "colorbar": {
             "outlinewidth": 0,
             "ticks": ""
            },
            "colorscale": [
             [
              0,
              "#0d0887"
             ],
             [
              0.1111111111111111,
              "#46039f"
             ],
             [
              0.2222222222222222,
              "#7201a8"
             ],
             [
              0.3333333333333333,
              "#9c179e"
             ],
             [
              0.4444444444444444,
              "#bd3786"
             ],
             [
              0.5555555555555556,
              "#d8576b"
             ],
             [
              0.6666666666666666,
              "#ed7953"
             ],
             [
              0.7777777777777778,
              "#fb9f3a"
             ],
             [
              0.8888888888888888,
              "#fdca26"
             ],
             [
              1,
              "#f0f921"
             ]
            ],
            "type": "heatmapgl"
           }
          ],
          "histogram": [
           {
            "marker": {
             "colorbar": {
              "outlinewidth": 0,
              "ticks": ""
             }
            },
            "type": "histogram"
           }
          ],
          "histogram2d": [
           {
            "colorbar": {
             "outlinewidth": 0,
             "ticks": ""
            },
            "colorscale": [
             [
              0,
              "#0d0887"
             ],
             [
              0.1111111111111111,
              "#46039f"
             ],
             [
              0.2222222222222222,
              "#7201a8"
             ],
             [
              0.3333333333333333,
              "#9c179e"
             ],
             [
              0.4444444444444444,
              "#bd3786"
             ],
             [
              0.5555555555555556,
              "#d8576b"
             ],
             [
              0.6666666666666666,
              "#ed7953"
             ],
             [
              0.7777777777777778,
              "#fb9f3a"
             ],
             [
              0.8888888888888888,
              "#fdca26"
             ],
             [
              1,
              "#f0f921"
             ]
            ],
            "type": "histogram2d"
           }
          ],
          "histogram2dcontour": [
           {
            "colorbar": {
             "outlinewidth": 0,
             "ticks": ""
            },
            "colorscale": [
             [
              0,
              "#0d0887"
             ],
             [
              0.1111111111111111,
              "#46039f"
             ],
             [
              0.2222222222222222,
              "#7201a8"
             ],
             [
              0.3333333333333333,
              "#9c179e"
             ],
             [
              0.4444444444444444,
              "#bd3786"
             ],
             [
              0.5555555555555556,
              "#d8576b"
             ],
             [
              0.6666666666666666,
              "#ed7953"
             ],
             [
              0.7777777777777778,
              "#fb9f3a"
             ],
             [
              0.8888888888888888,
              "#fdca26"
             ],
             [
              1,
              "#f0f921"
             ]
            ],
            "type": "histogram2dcontour"
           }
          ],
          "mesh3d": [
           {
            "colorbar": {
             "outlinewidth": 0,
             "ticks": ""
            },
            "type": "mesh3d"
           }
          ],
          "parcoords": [
           {
            "line": {
             "colorbar": {
              "outlinewidth": 0,
              "ticks": ""
             }
            },
            "type": "parcoords"
           }
          ],
          "pie": [
           {
            "automargin": true,
            "type": "pie"
           }
          ],
          "scatter": [
           {
            "marker": {
             "colorbar": {
              "outlinewidth": 0,
              "ticks": ""
             }
            },
            "type": "scatter"
           }
          ],
          "scatter3d": [
           {
            "line": {
             "colorbar": {
              "outlinewidth": 0,
              "ticks": ""
             }
            },
            "marker": {
             "colorbar": {
              "outlinewidth": 0,
              "ticks": ""
             }
            },
            "type": "scatter3d"
           }
          ],
          "scattercarpet": [
           {
            "marker": {
             "colorbar": {
              "outlinewidth": 0,
              "ticks": ""
             }
            },
            "type": "scattercarpet"
           }
          ],
          "scattergeo": [
           {
            "marker": {
             "colorbar": {
              "outlinewidth": 0,
              "ticks": ""
             }
            },
            "type": "scattergeo"
           }
          ],
          "scattergl": [
           {
            "marker": {
             "colorbar": {
              "outlinewidth": 0,
              "ticks": ""
             }
            },
            "type": "scattergl"
           }
          ],
          "scattermapbox": [
           {
            "marker": {
             "colorbar": {
              "outlinewidth": 0,
              "ticks": ""
             }
            },
            "type": "scattermapbox"
           }
          ],
          "scatterpolar": [
           {
            "marker": {
             "colorbar": {
              "outlinewidth": 0,
              "ticks": ""
             }
            },
            "type": "scatterpolar"
           }
          ],
          "scatterpolargl": [
           {
            "marker": {
             "colorbar": {
              "outlinewidth": 0,
              "ticks": ""
             }
            },
            "type": "scatterpolargl"
           }
          ],
          "scatterternary": [
           {
            "marker": {
             "colorbar": {
              "outlinewidth": 0,
              "ticks": ""
             }
            },
            "type": "scatterternary"
           }
          ],
          "surface": [
           {
            "colorbar": {
             "outlinewidth": 0,
             "ticks": ""
            },
            "colorscale": [
             [
              0,
              "#0d0887"
             ],
             [
              0.1111111111111111,
              "#46039f"
             ],
             [
              0.2222222222222222,
              "#7201a8"
             ],
             [
              0.3333333333333333,
              "#9c179e"
             ],
             [
              0.4444444444444444,
              "#bd3786"
             ],
             [
              0.5555555555555556,
              "#d8576b"
             ],
             [
              0.6666666666666666,
              "#ed7953"
             ],
             [
              0.7777777777777778,
              "#fb9f3a"
             ],
             [
              0.8888888888888888,
              "#fdca26"
             ],
             [
              1,
              "#f0f921"
             ]
            ],
            "type": "surface"
           }
          ],
          "table": [
           {
            "cells": {
             "fill": {
              "color": "#EBF0F8"
             },
             "line": {
              "color": "white"
             }
            },
            "header": {
             "fill": {
              "color": "#C8D4E3"
             },
             "line": {
              "color": "white"
             }
            },
            "type": "table"
           }
          ]
         },
         "layout": {
          "annotationdefaults": {
           "arrowcolor": "#2a3f5f",
           "arrowhead": 0,
           "arrowwidth": 1
          },
          "coloraxis": {
           "colorbar": {
            "outlinewidth": 0,
            "ticks": ""
           }
          },
          "colorscale": {
           "diverging": [
            [
             0,
             "#8e0152"
            ],
            [
             0.1,
             "#c51b7d"
            ],
            [
             0.2,
             "#de77ae"
            ],
            [
             0.3,
             "#f1b6da"
            ],
            [
             0.4,
             "#fde0ef"
            ],
            [
             0.5,
             "#f7f7f7"
            ],
            [
             0.6,
             "#e6f5d0"
            ],
            [
             0.7,
             "#b8e186"
            ],
            [
             0.8,
             "#7fbc41"
            ],
            [
             0.9,
             "#4d9221"
            ],
            [
             1,
             "#276419"
            ]
           ],
           "sequential": [
            [
             0,
             "#0d0887"
            ],
            [
             0.1111111111111111,
             "#46039f"
            ],
            [
             0.2222222222222222,
             "#7201a8"
            ],
            [
             0.3333333333333333,
             "#9c179e"
            ],
            [
             0.4444444444444444,
             "#bd3786"
            ],
            [
             0.5555555555555556,
             "#d8576b"
            ],
            [
             0.6666666666666666,
             "#ed7953"
            ],
            [
             0.7777777777777778,
             "#fb9f3a"
            ],
            [
             0.8888888888888888,
             "#fdca26"
            ],
            [
             1,
             "#f0f921"
            ]
           ],
           "sequentialminus": [
            [
             0,
             "#0d0887"
            ],
            [
             0.1111111111111111,
             "#46039f"
            ],
            [
             0.2222222222222222,
             "#7201a8"
            ],
            [
             0.3333333333333333,
             "#9c179e"
            ],
            [
             0.4444444444444444,
             "#bd3786"
            ],
            [
             0.5555555555555556,
             "#d8576b"
            ],
            [
             0.6666666666666666,
             "#ed7953"
            ],
            [
             0.7777777777777778,
             "#fb9f3a"
            ],
            [
             0.8888888888888888,
             "#fdca26"
            ],
            [
             1,
             "#f0f921"
            ]
           ]
          },
          "colorway": [
           "#636efa",
           "#EF553B",
           "#00cc96",
           "#ab63fa",
           "#FFA15A",
           "#19d3f3",
           "#FF6692",
           "#B6E880",
           "#FF97FF",
           "#FECB52"
          ],
          "font": {
           "color": "#2a3f5f"
          },
          "geo": {
           "bgcolor": "white",
           "lakecolor": "white",
           "landcolor": "#E5ECF6",
           "showlakes": true,
           "showland": true,
           "subunitcolor": "white"
          },
          "hoverlabel": {
           "align": "left"
          },
          "hovermode": "closest",
          "mapbox": {
           "style": "light"
          },
          "paper_bgcolor": "white",
          "plot_bgcolor": "#E5ECF6",
          "polar": {
           "angularaxis": {
            "gridcolor": "white",
            "linecolor": "white",
            "ticks": ""
           },
           "bgcolor": "#E5ECF6",
           "radialaxis": {
            "gridcolor": "white",
            "linecolor": "white",
            "ticks": ""
           }
          },
          "scene": {
           "xaxis": {
            "backgroundcolor": "#E5ECF6",
            "gridcolor": "white",
            "gridwidth": 2,
            "linecolor": "white",
            "showbackground": true,
            "ticks": "",
            "zerolinecolor": "white"
           },
           "yaxis": {
            "backgroundcolor": "#E5ECF6",
            "gridcolor": "white",
            "gridwidth": 2,
            "linecolor": "white",
            "showbackground": true,
            "ticks": "",
            "zerolinecolor": "white"
           },
           "zaxis": {
            "backgroundcolor": "#E5ECF6",
            "gridcolor": "white",
            "gridwidth": 2,
            "linecolor": "white",
            "showbackground": true,
            "ticks": "",
            "zerolinecolor": "white"
           }
          },
          "shapedefaults": {
           "line": {
            "color": "#2a3f5f"
           }
          },
          "ternary": {
           "aaxis": {
            "gridcolor": "white",
            "linecolor": "white",
            "ticks": ""
           },
           "baxis": {
            "gridcolor": "white",
            "linecolor": "white",
            "ticks": ""
           },
           "bgcolor": "#E5ECF6",
           "caxis": {
            "gridcolor": "white",
            "linecolor": "white",
            "ticks": ""
           }
          },
          "title": {
           "x": 0.05
          },
          "xaxis": {
           "automargin": true,
           "gridcolor": "white",
           "linecolor": "white",
           "ticks": "",
           "title": {
            "standoff": 15
           },
           "zerolinecolor": "white",
           "zerolinewidth": 2
          },
          "yaxis": {
           "automargin": true,
           "gridcolor": "white",
           "linecolor": "white",
           "ticks": "",
           "title": {
            "standoff": 15
           },
           "zerolinecolor": "white",
           "zerolinewidth": 2
          }
         }
        },
        "title": {
         "text": "2019 Parts Sales Daily Average by Month"
        },
        "xaxis": {
         "anchor": "y",
         "domain": [
          0,
          1
         ],
         "title": {
          "text": "month"
         }
        },
        "yaxis": {
         "anchor": "x",
         "domain": [
          0,
          1
         ],
         "title": {
          "text": "sale_value"
         }
        }
       }
      },
      "text/html": [
       "<div>                            <div id=\"0dc017b2-4e6d-49b7-b369-dfefd8eaf76b\" class=\"plotly-graph-div\" style=\"height:525px; width:100%;\"></div>            <script type=\"text/javascript\">                require([\"plotly\"], function(Plotly) {                    window.PLOTLYENV=window.PLOTLYENV || {};                                    if (document.getElementById(\"0dc017b2-4e6d-49b7-b369-dfefd8eaf76b\")) {                    Plotly.newPlot(                        \"0dc017b2-4e6d-49b7-b369-dfefd8eaf76b\",                        [{\"alignmentgroup\": \"True\", \"hovertemplate\": \"<b>%{hovertext}</b><br><br>month=%{x}<br>sale_value=%{y}<extra></extra>\", \"hovertext\": [\"2019-01-02\", \"2019-01-03\", \"2019-01-04\", \"2019-01-14\", \"2019-01-15\", \"2019-01-16\", \"2019-01-17\", \"2019-01-18\", \"2019-01-21\", \"2019-01-22\", \"2019-01-23\", \"2019-01-24\", \"2019-01-25\", \"2019-01-29\", \"2019-01-30\", \"2019-01-31\", \"2019-02-01\", \"2019-02-04\", \"2019-02-13\", \"2019-02-14\", \"2019-02-15\", \"2019-02-18\", \"2019-02-19\", \"2019-02-20\", \"2019-02-21\", \"2019-02-22\", \"2019-02-25\", \"2019-02-26\", \"2019-02-27\", \"2019-02-28\", \"2019-03-01\", \"2019-03-04\", \"2019-03-13\", \"2019-03-14\", \"2019-03-15\", \"2019-03-18\", \"2019-03-19\", \"2019-03-20\", \"2019-03-21\", \"2019-03-22\", \"2019-03-25\", \"2019-03-26\", \"2019-03-27\", \"2019-03-28\", \"2019-03-29\", \"2019-04-01\", \"2019-04-02\", \"2019-04-03\", \"2019-04-04\", \"2019-04-15\", \"2019-04-16\", \"2019-04-17\", \"2019-04-18\", \"2019-04-23\", \"2019-04-24\", \"2019-04-26\", \"2019-04-29\", \"2019-04-30\", \"2019-05-01\", \"2019-05-02\", \"2019-05-03\", \"2019-05-04\", \"2019-05-06\", \"2019-05-07\", \"2019-05-08\", \"2019-05-09\", \"2019-05-10\", \"2019-05-13\", \"2019-05-14\", \"2019-05-15\", \"2019-05-16\", \"2019-05-17\", \"2019-05-20\", \"2019-05-21\", \"2019-05-22\", \"2019-05-23\", \"2019-05-24\", \"2019-05-27\", \"2019-05-28\", \"2019-05-29\", \"2019-05-30\", \"2019-05-31\", \"2019-06-02\", \"2019-06-03\", \"2019-06-04\", \"2019-06-05\", \"2019-06-06\", \"2019-06-07\", \"2019-06-10\", \"2019-06-11\", \"2019-06-12\", \"2019-06-13\", \"2019-06-14\", \"2019-06-17\", \"2019-06-18\", \"2019-06-19\", \"2019-06-20\", \"2019-06-21\", \"2019-06-24\", \"2019-06-25\", \"2019-06-26\", \"2019-06-27\", \"2019-06-28\", \"2019-07-01\", \"2019-07-02\", \"2019-07-03\", \"2019-07-04\", \"2019-07-05\", \"2019-07-08\", \"2019-07-09\", \"2019-07-10\", \"2019-07-11\", \"2019-07-12\", \"2019-07-15\", \"2019-07-16\", \"2019-07-17\", \"2019-07-18\", \"2019-07-19\", \"2019-07-22\", \"2019-07-23\", \"2019-07-24\", \"2019-07-25\", \"2019-07-26\", \"2019-07-29\", \"2019-07-30\", \"2019-07-31\", \"2019-08-01\", \"2019-08-02\", \"2019-08-03\", \"2019-08-04\", \"2019-08-05\", \"2019-08-06\", \"2019-08-07\", \"2019-08-08\", \"2019-08-09\", \"2019-08-12\", \"2019-08-13\", \"2019-08-14\", \"2019-08-15\", \"2019-08-16\", \"2019-08-19\", \"2019-08-20\", \"2019-08-21\", \"2019-08-22\", \"2019-08-23\", \"2019-08-26\", \"2019-08-27\", \"2019-08-28\", \"2019-08-29\", \"2019-08-30\", \"2019-09-01\", \"2019-09-02\", \"2019-09-03\", \"2019-09-04\", \"2019-09-05\", \"2019-09-06\", \"2019-09-09\", \"2019-09-10\", \"2019-09-11\", \"2019-09-12\", \"2019-09-13\", \"2019-09-16\", \"2019-09-17\", \"2019-09-18\", \"2019-09-19\", \"2019-09-20\", \"2019-09-23\", \"2019-09-24\", \"2019-09-25\", \"2019-09-26\", \"2019-09-27\", \"2019-09-30\", \"2019-10-01\", \"2019-10-02\", \"2019-10-03\", \"2019-10-04\", \"2019-10-07\", \"2019-10-08\", \"2019-10-09\", \"2019-10-10\", \"2019-10-11\", \"2019-10-14\", \"2019-10-15\", \"2019-10-16\", \"2019-10-17\", \"2019-10-18\", \"2019-10-21\", \"2019-10-22\", \"2019-10-23\", \"2019-10-24\", \"2019-10-25\", \"2019-10-28\", \"2019-10-29\", \"2019-10-30\", \"2019-10-31\", \"2019-11-01\", \"2019-11-02\", \"2019-11-03\", \"2019-11-04\", \"2019-11-05\", \"2019-11-06\", \"2019-11-07\", \"2019-11-08\", \"2019-11-11\", \"2019-11-12\", \"2019-11-13\", \"2019-11-14\", \"2019-11-15\", \"2019-11-18\", \"2019-11-19\", \"2019-11-20\", \"2019-11-21\", \"2019-11-22\", \"2019-11-25\", \"2019-11-26\", \"2019-11-27\", \"2019-11-28\", \"2019-11-29\", \"2019-12-02\", \"2019-12-03\", \"2019-12-04\"], \"legendgroup\": \"\", \"marker\": {\"color\": \"#636efa\"}, \"name\": \"\", \"notched\": false, \"offsetgroup\": \"\", \"orientation\": \"v\", \"showlegend\": false, \"type\": \"box\", \"x\": [\"Jan\", \"Jan\", \"Jan\", \"Jan\", \"Jan\", \"Jan\", \"Jan\", \"Jan\", \"Jan\", \"Jan\", \"Jan\", \"Jan\", \"Jan\", \"Jan\", \"Jan\", \"Jan\", \"Feb\", \"Feb\", \"Feb\", \"Feb\", \"Feb\", \"Feb\", \"Feb\", \"Feb\", \"Feb\", \"Feb\", \"Feb\", \"Feb\", \"Feb\", \"Feb\", \"Mar\", \"Mar\", \"Mar\", \"Mar\", \"Mar\", \"Mar\", \"Mar\", \"Mar\", \"Mar\", \"Mar\", \"Mar\", \"Mar\", \"Mar\", \"Mar\", \"Mar\", \"Apr\", \"Apr\", \"Apr\", \"Apr\", \"Apr\", \"Apr\", \"Apr\", \"Apr\", \"Apr\", \"Apr\", \"Apr\", \"Apr\", \"Apr\", \"May\", \"May\", \"May\", \"May\", \"May\", \"May\", \"May\", \"May\", \"May\", \"May\", \"May\", \"May\", \"May\", \"May\", \"May\", \"May\", \"May\", \"May\", \"May\", \"May\", \"May\", \"May\", \"May\", \"May\", \"Jun\", \"Jun\", \"Jun\", \"Jun\", \"Jun\", \"Jun\", \"Jun\", \"Jun\", \"Jun\", \"Jun\", \"Jun\", \"Jun\", \"Jun\", \"Jun\", \"Jun\", \"Jun\", \"Jun\", \"Jun\", \"Jun\", \"Jun\", \"Jun\", \"Jul\", \"Jul\", \"Jul\", \"Jul\", \"Jul\", \"Jul\", \"Jul\", \"Jul\", \"Jul\", \"Jul\", \"Jul\", \"Jul\", \"Jul\", \"Jul\", \"Jul\", \"Jul\", \"Jul\", \"Jul\", \"Jul\", \"Jul\", \"Jul\", \"Jul\", \"Jul\", \"Aug\", \"Aug\", \"Aug\", \"Aug\", \"Aug\", \"Aug\", \"Aug\", \"Aug\", \"Aug\", \"Aug\", \"Aug\", \"Aug\", \"Aug\", \"Aug\", \"Aug\", \"Aug\", \"Aug\", \"Aug\", \"Aug\", \"Aug\", \"Aug\", \"Aug\", \"Aug\", \"Aug\", \"Sep\", \"Sep\", \"Sep\", \"Sep\", \"Sep\", \"Sep\", \"Sep\", \"Sep\", \"Sep\", \"Sep\", \"Sep\", \"Sep\", \"Sep\", \"Sep\", \"Sep\", \"Sep\", \"Sep\", \"Sep\", \"Sep\", \"Sep\", \"Sep\", \"Sep\", \"Oct\", \"Oct\", \"Oct\", \"Oct\", \"Oct\", \"Oct\", \"Oct\", \"Oct\", \"Oct\", \"Oct\", \"Oct\", \"Oct\", \"Oct\", \"Oct\", \"Oct\", \"Oct\", \"Oct\", \"Oct\", \"Oct\", \"Oct\", \"Oct\", \"Oct\", \"Oct\", \"Nov\", \"Nov\", \"Nov\", \"Nov\", \"Nov\", \"Nov\", \"Nov\", \"Nov\", \"Nov\", \"Nov\", \"Nov\", \"Nov\", \"Nov\", \"Nov\", \"Nov\", \"Nov\", \"Nov\", \"Nov\", \"Nov\", \"Nov\", \"Nov\", \"Nov\", \"Nov\", \"Dec\", \"Dec\", \"Dec\"], \"x0\": \" \", \"xaxis\": \"x\", \"y\": [8316.8547216, 4464.6001248, 10618.550174400003, 2845.9648943999996, 15392.734406399994, 98014.4112672, 4979.6783948, 8117.5644288, 5347.390408000003, 17195.1235544, 12069.558407999997, 1691.1498324, 19856.976434400003, 2540.1879216, 15424.674127999999, 28120.5783924, 3718.8321267999995, 34245.52260120001, 6970.863086399999, 9058.529735999999, 15761.586675200004, 6239.968670399999, 10424.747558, 5733.1674624, 7632.047992, 5140.498411199998, 6758.012233200001, 6542.0704392, 15498.253596799996, 20016.1410384, 4993.000223999999, 8886.429670399999, 4677.183975999998, 15530.705334, 11241.827078399998, 3446.2482143999996, 10283.3998404, 9811.1235616, 3510.5737080000004, 8253.320810399999, 25440.327503999997, 14901.821387999997, 10538.2987968, 9479.211804799997, 8603.7750708, 4698.569265599999, 6805.780461599999, 1276.4548908, 13091.013824, 16712.434197599996, 4695.3275472, 10103.833142399999, 8588.009388, 10981.936755199999, 5751.769648799999, 2733.4659576, 8560.662100800002, 26232.786298799994, 3391.3463208, 23097.607979200002, 21108.1321004, 3144.391459199999, 2508.9769584, 16910.665906, 11693.952559200003, 9818.2383796, 15820.612964399996, 6615.9357572, 5122.480488, 7367.910766399999, 3974.1394391999997, 5680.043488000001, 6708.208507200002, 11132.513318399999, 12493.347123599999, 6716.6897472, 13583.007415199998, 3898.7694863999996, 6707.781304000001, 10774.341129600001, 4543.742658800001, 24013.509651599998, 6660.688433599998, 12827.617921599996, 720.2269008000001, 13679.015051999997, 1946.1241776000002, 16899.5963172, 5105.6310912, 12566.898321600002, 84068.3376736, 2227.5222972000006, 6007.0675376, 21541.281592, 11798.058209599998, 12509.1253712, 9460.1729916, 36560.6278368, 4216.3448064, 8970.337404799995, 7183.9872239999995, 17668.4647, 2779.8489167999996, 13552.713682400003, 19664.4742748, 39081.4219896, 13597.186791999999, 1239.768816, 15968.814780399996, 7455.961743600001, 3699.3566867999994, 5364.161274800001, 3831.5886419999997, 7757.1054464, 5882.691723600002, 4680.714684800001, 15153.252459599998, 2005.8038364000001, 10502.275515200003, 4717.0960632, 7409.9902816, 3686.2421768, 10460.874499200001, 5345.254392, 24089.485856, 44911.9163928, 6434.1388072, 20053.907686, 23885.9423784, 6478.442291999999, 6056.3969424000015, 14803.973007999999, 1992.337512, 4067.9293888, 9667.796887999997, 3562.9312295999994, 13614.8968776, 17693.430957599998, 4702.6402608, 14409.7932436, 8088.690518400001, 29041.443160799994, 22096.708576, 3808.2369611999998, 9974.491091199998, 6354.145008, 4718.277154399999, 10438.446331199999, 1776.6124608, 5431.9766416, 12560.339496, 6486.998920799999, 5159.797944, 44059.3884304, 12823.7322572, 2904.2215896000002, 3361.4358144000007, 11831.819827199997, 13663.7613848, 8735.922213600003, 36727.73339440001, 13862.932312000003, 17394.3855764, 11340.850267200001, 12773.0489952, 449.6188032, 4544.5593708, 1318.9144912000002, 5624.5322016, 4643.629677600001, 18050.6482216, 1735.3088220000002, 20572.893608799994, 8603.369856, 2922.5536328, 10375.958439600001, 12526.7789152, 9435.222439999998, 15265.214251200001, 5002.225928399999, 5796.142240000001, 23834.313615199997, 1389.0135103999999, 13866.1489008, 15407.962944, 2167.7012843999996, 1247.0438352, 31881.5088816, 23280.5891616, 15406.7253112, 8700.2067696, 473.5359000000001, 3349.9201752, 8135.092324799999, 15857.167108799998, 14189.8652668, 5451.0782788, 7681.556445199999, 34673.3697472, 16307.078043600004, 10896.684587200003, 11352.422448, 18606.6092096, 7667.794848, 6366.2103572, 17974.4238624, 20283.912632400003, 23119.9638996, 10063.135755199997, 18678.272546399992, 7008.7522407999995, 11717.605795199997, 31008.195598799997, 4284.7978367999995, 6957.8176828, 13113.316343999999, 1713.8889792, 27251.65650720001, 9850.8848712, 7510.8165192, 28187.762378000003], \"y0\": \" \", \"yaxis\": \"y\"}],                        {\"boxmode\": \"group\", \"legend\": {\"tracegroupgap\": 0}, \"template\": {\"data\": {\"bar\": [{\"error_x\": {\"color\": \"#2a3f5f\"}, \"error_y\": {\"color\": \"#2a3f5f\"}, \"marker\": {\"line\": {\"color\": \"#E5ECF6\", \"width\": 0.5}}, \"type\": \"bar\"}], \"barpolar\": [{\"marker\": {\"line\": {\"color\": \"#E5ECF6\", \"width\": 0.5}}, \"type\": \"barpolar\"}], \"carpet\": [{\"aaxis\": {\"endlinecolor\": \"#2a3f5f\", \"gridcolor\": \"white\", \"linecolor\": \"white\", \"minorgridcolor\": \"white\", \"startlinecolor\": \"#2a3f5f\"}, \"baxis\": {\"endlinecolor\": \"#2a3f5f\", \"gridcolor\": \"white\", \"linecolor\": \"white\", \"minorgridcolor\": \"white\", \"startlinecolor\": \"#2a3f5f\"}, \"type\": \"carpet\"}], \"choropleth\": [{\"colorbar\": {\"outlinewidth\": 0, \"ticks\": \"\"}, \"type\": \"choropleth\"}], \"contour\": [{\"colorbar\": {\"outlinewidth\": 0, \"ticks\": \"\"}, \"colorscale\": [[0.0, \"#0d0887\"], [0.1111111111111111, \"#46039f\"], [0.2222222222222222, \"#7201a8\"], [0.3333333333333333, \"#9c179e\"], [0.4444444444444444, \"#bd3786\"], [0.5555555555555556, \"#d8576b\"], [0.6666666666666666, \"#ed7953\"], [0.7777777777777778, \"#fb9f3a\"], [0.8888888888888888, \"#fdca26\"], [1.0, \"#f0f921\"]], \"type\": \"contour\"}], \"contourcarpet\": [{\"colorbar\": {\"outlinewidth\": 0, \"ticks\": \"\"}, \"type\": \"contourcarpet\"}], \"heatmap\": [{\"colorbar\": {\"outlinewidth\": 0, \"ticks\": \"\"}, \"colorscale\": [[0.0, \"#0d0887\"], [0.1111111111111111, \"#46039f\"], [0.2222222222222222, \"#7201a8\"], [0.3333333333333333, \"#9c179e\"], [0.4444444444444444, \"#bd3786\"], [0.5555555555555556, \"#d8576b\"], [0.6666666666666666, \"#ed7953\"], [0.7777777777777778, \"#fb9f3a\"], [0.8888888888888888, \"#fdca26\"], [1.0, \"#f0f921\"]], \"type\": \"heatmap\"}], \"heatmapgl\": [{\"colorbar\": {\"outlinewidth\": 0, \"ticks\": \"\"}, \"colorscale\": [[0.0, \"#0d0887\"], [0.1111111111111111, \"#46039f\"], [0.2222222222222222, \"#7201a8\"], [0.3333333333333333, \"#9c179e\"], [0.4444444444444444, \"#bd3786\"], [0.5555555555555556, \"#d8576b\"], [0.6666666666666666, \"#ed7953\"], [0.7777777777777778, \"#fb9f3a\"], [0.8888888888888888, \"#fdca26\"], [1.0, \"#f0f921\"]], \"type\": \"heatmapgl\"}], \"histogram\": [{\"marker\": {\"colorbar\": {\"outlinewidth\": 0, \"ticks\": \"\"}}, \"type\": \"histogram\"}], \"histogram2d\": [{\"colorbar\": {\"outlinewidth\": 0, \"ticks\": \"\"}, \"colorscale\": [[0.0, \"#0d0887\"], [0.1111111111111111, \"#46039f\"], [0.2222222222222222, \"#7201a8\"], [0.3333333333333333, \"#9c179e\"], [0.4444444444444444, \"#bd3786\"], [0.5555555555555556, \"#d8576b\"], [0.6666666666666666, \"#ed7953\"], [0.7777777777777778, \"#fb9f3a\"], [0.8888888888888888, \"#fdca26\"], [1.0, \"#f0f921\"]], \"type\": \"histogram2d\"}], \"histogram2dcontour\": [{\"colorbar\": {\"outlinewidth\": 0, \"ticks\": \"\"}, \"colorscale\": [[0.0, \"#0d0887\"], [0.1111111111111111, \"#46039f\"], [0.2222222222222222, \"#7201a8\"], [0.3333333333333333, \"#9c179e\"], [0.4444444444444444, \"#bd3786\"], [0.5555555555555556, \"#d8576b\"], [0.6666666666666666, \"#ed7953\"], [0.7777777777777778, \"#fb9f3a\"], [0.8888888888888888, \"#fdca26\"], [1.0, \"#f0f921\"]], \"type\": \"histogram2dcontour\"}], \"mesh3d\": [{\"colorbar\": {\"outlinewidth\": 0, \"ticks\": \"\"}, \"type\": \"mesh3d\"}], \"parcoords\": [{\"line\": {\"colorbar\": {\"outlinewidth\": 0, \"ticks\": \"\"}}, \"type\": \"parcoords\"}], \"pie\": [{\"automargin\": true, \"type\": \"pie\"}], \"scatter\": [{\"marker\": {\"colorbar\": {\"outlinewidth\": 0, \"ticks\": \"\"}}, \"type\": \"scatter\"}], \"scatter3d\": [{\"line\": {\"colorbar\": {\"outlinewidth\": 0, \"ticks\": \"\"}}, \"marker\": {\"colorbar\": {\"outlinewidth\": 0, \"ticks\": \"\"}}, \"type\": \"scatter3d\"}], \"scattercarpet\": [{\"marker\": {\"colorbar\": {\"outlinewidth\": 0, \"ticks\": \"\"}}, \"type\": \"scattercarpet\"}], \"scattergeo\": [{\"marker\": {\"colorbar\": {\"outlinewidth\": 0, \"ticks\": \"\"}}, \"type\": \"scattergeo\"}], \"scattergl\": [{\"marker\": {\"colorbar\": {\"outlinewidth\": 0, \"ticks\": \"\"}}, \"type\": \"scattergl\"}], \"scattermapbox\": [{\"marker\": {\"colorbar\": {\"outlinewidth\": 0, \"ticks\": \"\"}}, \"type\": \"scattermapbox\"}], \"scatterpolar\": [{\"marker\": {\"colorbar\": {\"outlinewidth\": 0, \"ticks\": \"\"}}, \"type\": \"scatterpolar\"}], \"scatterpolargl\": [{\"marker\": {\"colorbar\": {\"outlinewidth\": 0, \"ticks\": \"\"}}, \"type\": \"scatterpolargl\"}], \"scatterternary\": [{\"marker\": {\"colorbar\": {\"outlinewidth\": 0, \"ticks\": \"\"}}, \"type\": \"scatterternary\"}], \"surface\": [{\"colorbar\": {\"outlinewidth\": 0, \"ticks\": \"\"}, \"colorscale\": [[0.0, \"#0d0887\"], [0.1111111111111111, \"#46039f\"], [0.2222222222222222, \"#7201a8\"], [0.3333333333333333, \"#9c179e\"], [0.4444444444444444, \"#bd3786\"], [0.5555555555555556, \"#d8576b\"], [0.6666666666666666, \"#ed7953\"], [0.7777777777777778, \"#fb9f3a\"], [0.8888888888888888, \"#fdca26\"], [1.0, \"#f0f921\"]], \"type\": \"surface\"}], \"table\": [{\"cells\": {\"fill\": {\"color\": \"#EBF0F8\"}, \"line\": {\"color\": \"white\"}}, \"header\": {\"fill\": {\"color\": \"#C8D4E3\"}, \"line\": {\"color\": \"white\"}}, \"type\": \"table\"}]}, \"layout\": {\"annotationdefaults\": {\"arrowcolor\": \"#2a3f5f\", \"arrowhead\": 0, \"arrowwidth\": 1}, \"coloraxis\": {\"colorbar\": {\"outlinewidth\": 0, \"ticks\": \"\"}}, \"colorscale\": {\"diverging\": [[0, \"#8e0152\"], [0.1, \"#c51b7d\"], [0.2, \"#de77ae\"], [0.3, \"#f1b6da\"], [0.4, \"#fde0ef\"], [0.5, \"#f7f7f7\"], [0.6, \"#e6f5d0\"], [0.7, \"#b8e186\"], [0.8, \"#7fbc41\"], [0.9, \"#4d9221\"], [1, \"#276419\"]], \"sequential\": [[0.0, \"#0d0887\"], [0.1111111111111111, \"#46039f\"], [0.2222222222222222, \"#7201a8\"], [0.3333333333333333, \"#9c179e\"], [0.4444444444444444, \"#bd3786\"], [0.5555555555555556, \"#d8576b\"], [0.6666666666666666, \"#ed7953\"], [0.7777777777777778, \"#fb9f3a\"], [0.8888888888888888, \"#fdca26\"], [1.0, \"#f0f921\"]], \"sequentialminus\": [[0.0, \"#0d0887\"], [0.1111111111111111, \"#46039f\"], [0.2222222222222222, \"#7201a8\"], [0.3333333333333333, \"#9c179e\"], [0.4444444444444444, \"#bd3786\"], [0.5555555555555556, \"#d8576b\"], [0.6666666666666666, \"#ed7953\"], [0.7777777777777778, \"#fb9f3a\"], [0.8888888888888888, \"#fdca26\"], [1.0, \"#f0f921\"]]}, \"colorway\": [\"#636efa\", \"#EF553B\", \"#00cc96\", \"#ab63fa\", \"#FFA15A\", \"#19d3f3\", \"#FF6692\", \"#B6E880\", \"#FF97FF\", \"#FECB52\"], \"font\": {\"color\": \"#2a3f5f\"}, \"geo\": {\"bgcolor\": \"white\", \"lakecolor\": \"white\", \"landcolor\": \"#E5ECF6\", \"showlakes\": true, \"showland\": true, \"subunitcolor\": \"white\"}, \"hoverlabel\": {\"align\": \"left\"}, \"hovermode\": \"closest\", \"mapbox\": {\"style\": \"light\"}, \"paper_bgcolor\": \"white\", \"plot_bgcolor\": \"#E5ECF6\", \"polar\": {\"angularaxis\": {\"gridcolor\": \"white\", \"linecolor\": \"white\", \"ticks\": \"\"}, \"bgcolor\": \"#E5ECF6\", \"radialaxis\": {\"gridcolor\": \"white\", \"linecolor\": \"white\", \"ticks\": \"\"}}, \"scene\": {\"xaxis\": {\"backgroundcolor\": \"#E5ECF6\", \"gridcolor\": \"white\", \"gridwidth\": 2, \"linecolor\": \"white\", \"showbackground\": true, \"ticks\": \"\", \"zerolinecolor\": \"white\"}, \"yaxis\": {\"backgroundcolor\": \"#E5ECF6\", \"gridcolor\": \"white\", \"gridwidth\": 2, \"linecolor\": \"white\", \"showbackground\": true, \"ticks\": \"\", \"zerolinecolor\": \"white\"}, \"zaxis\": {\"backgroundcolor\": \"#E5ECF6\", \"gridcolor\": \"white\", \"gridwidth\": 2, \"linecolor\": \"white\", \"showbackground\": true, \"ticks\": \"\", \"zerolinecolor\": \"white\"}}, \"shapedefaults\": {\"line\": {\"color\": \"#2a3f5f\"}}, \"ternary\": {\"aaxis\": {\"gridcolor\": \"white\", \"linecolor\": \"white\", \"ticks\": \"\"}, \"baxis\": {\"gridcolor\": \"white\", \"linecolor\": \"white\", \"ticks\": \"\"}, \"bgcolor\": \"#E5ECF6\", \"caxis\": {\"gridcolor\": \"white\", \"linecolor\": \"white\", \"ticks\": \"\"}}, \"title\": {\"x\": 0.05}, \"xaxis\": {\"automargin\": true, \"gridcolor\": \"white\", \"linecolor\": \"white\", \"ticks\": \"\", \"title\": {\"standoff\": 15}, \"zerolinecolor\": \"white\", \"zerolinewidth\": 2}, \"yaxis\": {\"automargin\": true, \"gridcolor\": \"white\", \"linecolor\": \"white\", \"ticks\": \"\", \"title\": {\"standoff\": 15}, \"zerolinecolor\": \"white\", \"zerolinewidth\": 2}}}, \"title\": {\"text\": \"2019 Parts Sales Daily Average by Month\"}, \"xaxis\": {\"anchor\": \"y\", \"domain\": [0.0, 1.0], \"title\": {\"text\": \"month\"}}, \"yaxis\": {\"anchor\": \"x\", \"domain\": [0.0, 1.0], \"title\": {\"text\": \"sale_value\"}}},                        {\"responsive\": true}                    ).then(function(){\n",
       "                            \n",
       "var gd = document.getElementById('0dc017b2-4e6d-49b7-b369-dfefd8eaf76b');\n",
       "var x = new MutationObserver(function (mutations, observer) {{\n",
       "        var display = window.getComputedStyle(gd).display;\n",
       "        if (!display || display === 'none') {{\n",
       "            console.log([gd, 'removed!']);\n",
       "            Plotly.purge(gd);\n",
       "            observer.disconnect();\n",
       "        }}\n",
       "}});\n",
       "\n",
       "// Listen for the removal of the full notebook cells\n",
       "var notebookContainer = gd.closest('#notebook-container');\n",
       "if (notebookContainer) {{\n",
       "    x.observe(notebookContainer, {childList: true});\n",
       "}}\n",
       "\n",
       "// Listen for the clearing of the current output cell\n",
       "var outputEl = gd.closest('.output');\n",
       "if (outputEl) {{\n",
       "    x.observe(outputEl, {childList: true});\n",
       "}}\n",
       "\n",
       "                        })                };                });            </script>        </div>"
      ]
     },
     "metadata": {},
     "output_type": "display_data"
    }
   ],
   "source": [
    "fig = px.box(saleval_2019_bymonth, x = 'month', y = 'sale_value', hover_name = 'date', title='2019 Parts Sales Daily Average by Month')\n",
    "fig.show()"
   ]
  },
  {
   "cell_type": "markdown",
   "metadata": {},
   "source": [
    "*hover over the outliers to discover which date they represent*"
   ]
  },
  {
   "cell_type": "code",
   "execution_count": 10,
   "metadata": {},
   "outputs": [],
   "source": [
    "customers = pd.pivot_table(df, index = ['customer_name'], values = ['inv_number','part_number','sale_value','margin','pricing_structure'], aggfunc = {'inv_number':'count','part_number':'count','sale_value':'sum','margin':'sum','pricing_structure':'first'})\n",
    "customers = customers.rename(columns = {'inv_number':'total_invoices', 'part_number':'transaction_lines'})\n",
    "customers = customers[['total_invoices','transaction_lines','sale_value','margin','pricing_structure']]\n",
    "customers = customers.reset_index(drop=False)"
   ]
  },
  {
   "cell_type": "code",
   "execution_count": 11,
   "metadata": {},
   "outputs": [
    {
     "data": {
      "application/vnd.plotly.v1+json": {
       "config": {
        "plotlyServerURL": "https://plot.ly"
       },
       "data": [
        {
         "hovertemplate": "<b>%{hovertext}</b><br><br>pricing_structure=Premier<br>transaction_lines=%{x}<br>margin=%{y}<extra></extra>",
         "hovertext": [
          "BIG CUSTOMER 1"
         ],
         "legendgroup": "Premier",
         "marker": {
          "color": "#636efa",
          "symbol": "circle"
         },
         "mode": "markers",
         "name": "Premier",
         "orientation": "v",
         "showlegend": true,
         "type": "scatter",
         "x": [
          15041
         ],
         "xaxis": "x",
         "y": [
          991218.1619759953
         ],
         "yaxis": "y"
        },
        {
         "hovertemplate": "<b>%{hovertext}</b><br><br>pricing_structure=Rental<br>transaction_lines=%{x}<br>margin=%{y}<extra></extra>",
         "hovertext": [
          "MEDIUM CUSTOMER 1",
          "MEDIUM CUSTOMER 2",
          "MEDIUM CUSTOMER 3"
         ],
         "legendgroup": "Rental",
         "marker": {
          "color": "#EF553B",
          "symbol": "circle"
         },
         "mode": "markers",
         "name": "Rental",
         "orientation": "v",
         "showlegend": true,
         "type": "scatter",
         "x": [
          306,
          2143,
          111
         ],
         "xaxis": "x",
         "y": [
          159860.2164576,
          207247.29793200013,
          26810.478108400002
         ],
         "yaxis": "y"
        },
        {
         "hovertemplate": "<b>%{hovertext}</b><br><br>pricing_structure=Retail<br>transaction_lines=%{x}<br>margin=%{y}<extra></extra>",
         "hovertext": [
          "SMALL CUSTOMER 1",
          "SMALL CUSTOMER 2",
          "SMALL CUSTOMER 3"
         ],
         "legendgroup": "Retail",
         "marker": {
          "color": "#00cc96",
          "symbol": "circle"
         },
         "mode": "markers",
         "name": "Retail",
         "orientation": "v",
         "showlegend": true,
         "type": "scatter",
         "x": [
          54,
          337,
          232
         ],
         "xaxis": "x",
         "y": [
          12604.529897600001,
          138050.33713600016,
          78958.52250400004
         ],
         "yaxis": "y"
        }
       ],
       "layout": {
        "legend": {
         "title": {
          "text": "pricing_structure"
         },
         "tracegroupgap": 0
        },
        "template": {
         "data": {
          "bar": [
           {
            "error_x": {
             "color": "#2a3f5f"
            },
            "error_y": {
             "color": "#2a3f5f"
            },
            "marker": {
             "line": {
              "color": "#E5ECF6",
              "width": 0.5
             }
            },
            "type": "bar"
           }
          ],
          "barpolar": [
           {
            "marker": {
             "line": {
              "color": "#E5ECF6",
              "width": 0.5
             }
            },
            "type": "barpolar"
           }
          ],
          "carpet": [
           {
            "aaxis": {
             "endlinecolor": "#2a3f5f",
             "gridcolor": "white",
             "linecolor": "white",
             "minorgridcolor": "white",
             "startlinecolor": "#2a3f5f"
            },
            "baxis": {
             "endlinecolor": "#2a3f5f",
             "gridcolor": "white",
             "linecolor": "white",
             "minorgridcolor": "white",
             "startlinecolor": "#2a3f5f"
            },
            "type": "carpet"
           }
          ],
          "choropleth": [
           {
            "colorbar": {
             "outlinewidth": 0,
             "ticks": ""
            },
            "type": "choropleth"
           }
          ],
          "contour": [
           {
            "colorbar": {
             "outlinewidth": 0,
             "ticks": ""
            },
            "colorscale": [
             [
              0,
              "#0d0887"
             ],
             [
              0.1111111111111111,
              "#46039f"
             ],
             [
              0.2222222222222222,
              "#7201a8"
             ],
             [
              0.3333333333333333,
              "#9c179e"
             ],
             [
              0.4444444444444444,
              "#bd3786"
             ],
             [
              0.5555555555555556,
              "#d8576b"
             ],
             [
              0.6666666666666666,
              "#ed7953"
             ],
             [
              0.7777777777777778,
              "#fb9f3a"
             ],
             [
              0.8888888888888888,
              "#fdca26"
             ],
             [
              1,
              "#f0f921"
             ]
            ],
            "type": "contour"
           }
          ],
          "contourcarpet": [
           {
            "colorbar": {
             "outlinewidth": 0,
             "ticks": ""
            },
            "type": "contourcarpet"
           }
          ],
          "heatmap": [
           {
            "colorbar": {
             "outlinewidth": 0,
             "ticks": ""
            },
            "colorscale": [
             [
              0,
              "#0d0887"
             ],
             [
              0.1111111111111111,
              "#46039f"
             ],
             [
              0.2222222222222222,
              "#7201a8"
             ],
             [
              0.3333333333333333,
              "#9c179e"
             ],
             [
              0.4444444444444444,
              "#bd3786"
             ],
             [
              0.5555555555555556,
              "#d8576b"
             ],
             [
              0.6666666666666666,
              "#ed7953"
             ],
             [
              0.7777777777777778,
              "#fb9f3a"
             ],
             [
              0.8888888888888888,
              "#fdca26"
             ],
             [
              1,
              "#f0f921"
             ]
            ],
            "type": "heatmap"
           }
          ],
          "heatmapgl": [
           {
            "colorbar": {
             "outlinewidth": 0,
             "ticks": ""
            },
            "colorscale": [
             [
              0,
              "#0d0887"
             ],
             [
              0.1111111111111111,
              "#46039f"
             ],
             [
              0.2222222222222222,
              "#7201a8"
             ],
             [
              0.3333333333333333,
              "#9c179e"
             ],
             [
              0.4444444444444444,
              "#bd3786"
             ],
             [
              0.5555555555555556,
              "#d8576b"
             ],
             [
              0.6666666666666666,
              "#ed7953"
             ],
             [
              0.7777777777777778,
              "#fb9f3a"
             ],
             [
              0.8888888888888888,
              "#fdca26"
             ],
             [
              1,
              "#f0f921"
             ]
            ],
            "type": "heatmapgl"
           }
          ],
          "histogram": [
           {
            "marker": {
             "colorbar": {
              "outlinewidth": 0,
              "ticks": ""
             }
            },
            "type": "histogram"
           }
          ],
          "histogram2d": [
           {
            "colorbar": {
             "outlinewidth": 0,
             "ticks": ""
            },
            "colorscale": [
             [
              0,
              "#0d0887"
             ],
             [
              0.1111111111111111,
              "#46039f"
             ],
             [
              0.2222222222222222,
              "#7201a8"
             ],
             [
              0.3333333333333333,
              "#9c179e"
             ],
             [
              0.4444444444444444,
              "#bd3786"
             ],
             [
              0.5555555555555556,
              "#d8576b"
             ],
             [
              0.6666666666666666,
              "#ed7953"
             ],
             [
              0.7777777777777778,
              "#fb9f3a"
             ],
             [
              0.8888888888888888,
              "#fdca26"
             ],
             [
              1,
              "#f0f921"
             ]
            ],
            "type": "histogram2d"
           }
          ],
          "histogram2dcontour": [
           {
            "colorbar": {
             "outlinewidth": 0,
             "ticks": ""
            },
            "colorscale": [
             [
              0,
              "#0d0887"
             ],
             [
              0.1111111111111111,
              "#46039f"
             ],
             [
              0.2222222222222222,
              "#7201a8"
             ],
             [
              0.3333333333333333,
              "#9c179e"
             ],
             [
              0.4444444444444444,
              "#bd3786"
             ],
             [
              0.5555555555555556,
              "#d8576b"
             ],
             [
              0.6666666666666666,
              "#ed7953"
             ],
             [
              0.7777777777777778,
              "#fb9f3a"
             ],
             [
              0.8888888888888888,
              "#fdca26"
             ],
             [
              1,
              "#f0f921"
             ]
            ],
            "type": "histogram2dcontour"
           }
          ],
          "mesh3d": [
           {
            "colorbar": {
             "outlinewidth": 0,
             "ticks": ""
            },
            "type": "mesh3d"
           }
          ],
          "parcoords": [
           {
            "line": {
             "colorbar": {
              "outlinewidth": 0,
              "ticks": ""
             }
            },
            "type": "parcoords"
           }
          ],
          "pie": [
           {
            "automargin": true,
            "type": "pie"
           }
          ],
          "scatter": [
           {
            "marker": {
             "colorbar": {
              "outlinewidth": 0,
              "ticks": ""
             }
            },
            "type": "scatter"
           }
          ],
          "scatter3d": [
           {
            "line": {
             "colorbar": {
              "outlinewidth": 0,
              "ticks": ""
             }
            },
            "marker": {
             "colorbar": {
              "outlinewidth": 0,
              "ticks": ""
             }
            },
            "type": "scatter3d"
           }
          ],
          "scattercarpet": [
           {
            "marker": {
             "colorbar": {
              "outlinewidth": 0,
              "ticks": ""
             }
            },
            "type": "scattercarpet"
           }
          ],
          "scattergeo": [
           {
            "marker": {
             "colorbar": {
              "outlinewidth": 0,
              "ticks": ""
             }
            },
            "type": "scattergeo"
           }
          ],
          "scattergl": [
           {
            "marker": {
             "colorbar": {
              "outlinewidth": 0,
              "ticks": ""
             }
            },
            "type": "scattergl"
           }
          ],
          "scattermapbox": [
           {
            "marker": {
             "colorbar": {
              "outlinewidth": 0,
              "ticks": ""
             }
            },
            "type": "scattermapbox"
           }
          ],
          "scatterpolar": [
           {
            "marker": {
             "colorbar": {
              "outlinewidth": 0,
              "ticks": ""
             }
            },
            "type": "scatterpolar"
           }
          ],
          "scatterpolargl": [
           {
            "marker": {
             "colorbar": {
              "outlinewidth": 0,
              "ticks": ""
             }
            },
            "type": "scatterpolargl"
           }
          ],
          "scatterternary": [
           {
            "marker": {
             "colorbar": {
              "outlinewidth": 0,
              "ticks": ""
             }
            },
            "type": "scatterternary"
           }
          ],
          "surface": [
           {
            "colorbar": {
             "outlinewidth": 0,
             "ticks": ""
            },
            "colorscale": [
             [
              0,
              "#0d0887"
             ],
             [
              0.1111111111111111,
              "#46039f"
             ],
             [
              0.2222222222222222,
              "#7201a8"
             ],
             [
              0.3333333333333333,
              "#9c179e"
             ],
             [
              0.4444444444444444,
              "#bd3786"
             ],
             [
              0.5555555555555556,
              "#d8576b"
             ],
             [
              0.6666666666666666,
              "#ed7953"
             ],
             [
              0.7777777777777778,
              "#fb9f3a"
             ],
             [
              0.8888888888888888,
              "#fdca26"
             ],
             [
              1,
              "#f0f921"
             ]
            ],
            "type": "surface"
           }
          ],
          "table": [
           {
            "cells": {
             "fill": {
              "color": "#EBF0F8"
             },
             "line": {
              "color": "white"
             }
            },
            "header": {
             "fill": {
              "color": "#C8D4E3"
             },
             "line": {
              "color": "white"
             }
            },
            "type": "table"
           }
          ]
         },
         "layout": {
          "annotationdefaults": {
           "arrowcolor": "#2a3f5f",
           "arrowhead": 0,
           "arrowwidth": 1
          },
          "coloraxis": {
           "colorbar": {
            "outlinewidth": 0,
            "ticks": ""
           }
          },
          "colorscale": {
           "diverging": [
            [
             0,
             "#8e0152"
            ],
            [
             0.1,
             "#c51b7d"
            ],
            [
             0.2,
             "#de77ae"
            ],
            [
             0.3,
             "#f1b6da"
            ],
            [
             0.4,
             "#fde0ef"
            ],
            [
             0.5,
             "#f7f7f7"
            ],
            [
             0.6,
             "#e6f5d0"
            ],
            [
             0.7,
             "#b8e186"
            ],
            [
             0.8,
             "#7fbc41"
            ],
            [
             0.9,
             "#4d9221"
            ],
            [
             1,
             "#276419"
            ]
           ],
           "sequential": [
            [
             0,
             "#0d0887"
            ],
            [
             0.1111111111111111,
             "#46039f"
            ],
            [
             0.2222222222222222,
             "#7201a8"
            ],
            [
             0.3333333333333333,
             "#9c179e"
            ],
            [
             0.4444444444444444,
             "#bd3786"
            ],
            [
             0.5555555555555556,
             "#d8576b"
            ],
            [
             0.6666666666666666,
             "#ed7953"
            ],
            [
             0.7777777777777778,
             "#fb9f3a"
            ],
            [
             0.8888888888888888,
             "#fdca26"
            ],
            [
             1,
             "#f0f921"
            ]
           ],
           "sequentialminus": [
            [
             0,
             "#0d0887"
            ],
            [
             0.1111111111111111,
             "#46039f"
            ],
            [
             0.2222222222222222,
             "#7201a8"
            ],
            [
             0.3333333333333333,
             "#9c179e"
            ],
            [
             0.4444444444444444,
             "#bd3786"
            ],
            [
             0.5555555555555556,
             "#d8576b"
            ],
            [
             0.6666666666666666,
             "#ed7953"
            ],
            [
             0.7777777777777778,
             "#fb9f3a"
            ],
            [
             0.8888888888888888,
             "#fdca26"
            ],
            [
             1,
             "#f0f921"
            ]
           ]
          },
          "colorway": [
           "#636efa",
           "#EF553B",
           "#00cc96",
           "#ab63fa",
           "#FFA15A",
           "#19d3f3",
           "#FF6692",
           "#B6E880",
           "#FF97FF",
           "#FECB52"
          ],
          "font": {
           "color": "#2a3f5f"
          },
          "geo": {
           "bgcolor": "white",
           "lakecolor": "white",
           "landcolor": "#E5ECF6",
           "showlakes": true,
           "showland": true,
           "subunitcolor": "white"
          },
          "hoverlabel": {
           "align": "left"
          },
          "hovermode": "closest",
          "mapbox": {
           "style": "light"
          },
          "paper_bgcolor": "white",
          "plot_bgcolor": "#E5ECF6",
          "polar": {
           "angularaxis": {
            "gridcolor": "white",
            "linecolor": "white",
            "ticks": ""
           },
           "bgcolor": "#E5ECF6",
           "radialaxis": {
            "gridcolor": "white",
            "linecolor": "white",
            "ticks": ""
           }
          },
          "scene": {
           "xaxis": {
            "backgroundcolor": "#E5ECF6",
            "gridcolor": "white",
            "gridwidth": 2,
            "linecolor": "white",
            "showbackground": true,
            "ticks": "",
            "zerolinecolor": "white"
           },
           "yaxis": {
            "backgroundcolor": "#E5ECF6",
            "gridcolor": "white",
            "gridwidth": 2,
            "linecolor": "white",
            "showbackground": true,
            "ticks": "",
            "zerolinecolor": "white"
           },
           "zaxis": {
            "backgroundcolor": "#E5ECF6",
            "gridcolor": "white",
            "gridwidth": 2,
            "linecolor": "white",
            "showbackground": true,
            "ticks": "",
            "zerolinecolor": "white"
           }
          },
          "shapedefaults": {
           "line": {
            "color": "#2a3f5f"
           }
          },
          "ternary": {
           "aaxis": {
            "gridcolor": "white",
            "linecolor": "white",
            "ticks": ""
           },
           "baxis": {
            "gridcolor": "white",
            "linecolor": "white",
            "ticks": ""
           },
           "bgcolor": "#E5ECF6",
           "caxis": {
            "gridcolor": "white",
            "linecolor": "white",
            "ticks": ""
           }
          },
          "title": {
           "x": 0.05
          },
          "xaxis": {
           "automargin": true,
           "gridcolor": "white",
           "linecolor": "white",
           "ticks": "",
           "title": {
            "standoff": 15
           },
           "zerolinecolor": "white",
           "zerolinewidth": 2
          },
          "yaxis": {
           "automargin": true,
           "gridcolor": "white",
           "linecolor": "white",
           "ticks": "",
           "title": {
            "standoff": 15
           },
           "zerolinecolor": "white",
           "zerolinewidth": 2
          }
         }
        },
        "title": {
         "text": "2017 - 2019 Revenue vs Transaction Lines per Customer"
        },
        "xaxis": {
         "anchor": "y",
         "domain": [
          0,
          1
         ],
         "title": {
          "text": "transaction_lines"
         }
        },
        "yaxis": {
         "anchor": "x",
         "domain": [
          0,
          1
         ],
         "title": {
          "text": "margin"
         }
        }
       }
      },
      "text/html": [
       "<div>                            <div id=\"62ed3f4c-df31-4a14-84e4-7e060e5c6353\" class=\"plotly-graph-div\" style=\"height:525px; width:100%;\"></div>            <script type=\"text/javascript\">                require([\"plotly\"], function(Plotly) {                    window.PLOTLYENV=window.PLOTLYENV || {};                                    if (document.getElementById(\"62ed3f4c-df31-4a14-84e4-7e060e5c6353\")) {                    Plotly.newPlot(                        \"62ed3f4c-df31-4a14-84e4-7e060e5c6353\",                        [{\"hovertemplate\": \"<b>%{hovertext}</b><br><br>pricing_structure=Premier<br>transaction_lines=%{x}<br>margin=%{y}<extra></extra>\", \"hovertext\": [\"BIG CUSTOMER 1\"], \"legendgroup\": \"Premier\", \"marker\": {\"color\": \"#636efa\", \"symbol\": \"circle\"}, \"mode\": \"markers\", \"name\": \"Premier\", \"orientation\": \"v\", \"showlegend\": true, \"type\": \"scatter\", \"x\": [15041], \"xaxis\": \"x\", \"y\": [991218.1619759953], \"yaxis\": \"y\"}, {\"hovertemplate\": \"<b>%{hovertext}</b><br><br>pricing_structure=Rental<br>transaction_lines=%{x}<br>margin=%{y}<extra></extra>\", \"hovertext\": [\"MEDIUM CUSTOMER 1\", \"MEDIUM CUSTOMER 2\", \"MEDIUM CUSTOMER 3\"], \"legendgroup\": \"Rental\", \"marker\": {\"color\": \"#EF553B\", \"symbol\": \"circle\"}, \"mode\": \"markers\", \"name\": \"Rental\", \"orientation\": \"v\", \"showlegend\": true, \"type\": \"scatter\", \"x\": [306, 2143, 111], \"xaxis\": \"x\", \"y\": [159860.2164576, 207247.29793200013, 26810.478108400002], \"yaxis\": \"y\"}, {\"hovertemplate\": \"<b>%{hovertext}</b><br><br>pricing_structure=Retail<br>transaction_lines=%{x}<br>margin=%{y}<extra></extra>\", \"hovertext\": [\"SMALL CUSTOMER 1\", \"SMALL CUSTOMER 2\", \"SMALL CUSTOMER 3\"], \"legendgroup\": \"Retail\", \"marker\": {\"color\": \"#00cc96\", \"symbol\": \"circle\"}, \"mode\": \"markers\", \"name\": \"Retail\", \"orientation\": \"v\", \"showlegend\": true, \"type\": \"scatter\", \"x\": [54, 337, 232], \"xaxis\": \"x\", \"y\": [12604.529897600001, 138050.33713600016, 78958.52250400004], \"yaxis\": \"y\"}],                        {\"legend\": {\"title\": {\"text\": \"pricing_structure\"}, \"tracegroupgap\": 0}, \"template\": {\"data\": {\"bar\": [{\"error_x\": {\"color\": \"#2a3f5f\"}, \"error_y\": {\"color\": \"#2a3f5f\"}, \"marker\": {\"line\": {\"color\": \"#E5ECF6\", \"width\": 0.5}}, \"type\": \"bar\"}], \"barpolar\": [{\"marker\": {\"line\": {\"color\": \"#E5ECF6\", \"width\": 0.5}}, \"type\": \"barpolar\"}], \"carpet\": [{\"aaxis\": {\"endlinecolor\": \"#2a3f5f\", \"gridcolor\": \"white\", \"linecolor\": \"white\", \"minorgridcolor\": \"white\", \"startlinecolor\": \"#2a3f5f\"}, \"baxis\": {\"endlinecolor\": \"#2a3f5f\", \"gridcolor\": \"white\", \"linecolor\": \"white\", \"minorgridcolor\": \"white\", \"startlinecolor\": \"#2a3f5f\"}, \"type\": \"carpet\"}], \"choropleth\": [{\"colorbar\": {\"outlinewidth\": 0, \"ticks\": \"\"}, \"type\": \"choropleth\"}], \"contour\": [{\"colorbar\": {\"outlinewidth\": 0, \"ticks\": \"\"}, \"colorscale\": [[0.0, \"#0d0887\"], [0.1111111111111111, \"#46039f\"], [0.2222222222222222, \"#7201a8\"], [0.3333333333333333, \"#9c179e\"], [0.4444444444444444, \"#bd3786\"], [0.5555555555555556, \"#d8576b\"], [0.6666666666666666, \"#ed7953\"], [0.7777777777777778, \"#fb9f3a\"], [0.8888888888888888, \"#fdca26\"], [1.0, \"#f0f921\"]], \"type\": \"contour\"}], \"contourcarpet\": [{\"colorbar\": {\"outlinewidth\": 0, \"ticks\": \"\"}, \"type\": \"contourcarpet\"}], \"heatmap\": [{\"colorbar\": {\"outlinewidth\": 0, \"ticks\": \"\"}, \"colorscale\": [[0.0, \"#0d0887\"], [0.1111111111111111, \"#46039f\"], [0.2222222222222222, \"#7201a8\"], [0.3333333333333333, \"#9c179e\"], [0.4444444444444444, \"#bd3786\"], [0.5555555555555556, \"#d8576b\"], [0.6666666666666666, \"#ed7953\"], [0.7777777777777778, \"#fb9f3a\"], [0.8888888888888888, \"#fdca26\"], [1.0, \"#f0f921\"]], \"type\": \"heatmap\"}], \"heatmapgl\": [{\"colorbar\": {\"outlinewidth\": 0, \"ticks\": \"\"}, \"colorscale\": [[0.0, \"#0d0887\"], [0.1111111111111111, \"#46039f\"], [0.2222222222222222, \"#7201a8\"], [0.3333333333333333, \"#9c179e\"], [0.4444444444444444, \"#bd3786\"], [0.5555555555555556, \"#d8576b\"], [0.6666666666666666, \"#ed7953\"], [0.7777777777777778, \"#fb9f3a\"], [0.8888888888888888, \"#fdca26\"], [1.0, \"#f0f921\"]], \"type\": \"heatmapgl\"}], \"histogram\": [{\"marker\": {\"colorbar\": {\"outlinewidth\": 0, \"ticks\": \"\"}}, \"type\": \"histogram\"}], \"histogram2d\": [{\"colorbar\": {\"outlinewidth\": 0, \"ticks\": \"\"}, \"colorscale\": [[0.0, \"#0d0887\"], [0.1111111111111111, \"#46039f\"], [0.2222222222222222, \"#7201a8\"], [0.3333333333333333, \"#9c179e\"], [0.4444444444444444, \"#bd3786\"], [0.5555555555555556, \"#d8576b\"], [0.6666666666666666, \"#ed7953\"], [0.7777777777777778, \"#fb9f3a\"], [0.8888888888888888, \"#fdca26\"], [1.0, \"#f0f921\"]], \"type\": \"histogram2d\"}], \"histogram2dcontour\": [{\"colorbar\": {\"outlinewidth\": 0, \"ticks\": \"\"}, \"colorscale\": [[0.0, \"#0d0887\"], [0.1111111111111111, \"#46039f\"], [0.2222222222222222, \"#7201a8\"], [0.3333333333333333, \"#9c179e\"], [0.4444444444444444, \"#bd3786\"], [0.5555555555555556, \"#d8576b\"], [0.6666666666666666, \"#ed7953\"], [0.7777777777777778, \"#fb9f3a\"], [0.8888888888888888, \"#fdca26\"], [1.0, \"#f0f921\"]], \"type\": \"histogram2dcontour\"}], \"mesh3d\": [{\"colorbar\": {\"outlinewidth\": 0, \"ticks\": \"\"}, \"type\": \"mesh3d\"}], \"parcoords\": [{\"line\": {\"colorbar\": {\"outlinewidth\": 0, \"ticks\": \"\"}}, \"type\": \"parcoords\"}], \"pie\": [{\"automargin\": true, \"type\": \"pie\"}], \"scatter\": [{\"marker\": {\"colorbar\": {\"outlinewidth\": 0, \"ticks\": \"\"}}, \"type\": \"scatter\"}], \"scatter3d\": [{\"line\": {\"colorbar\": {\"outlinewidth\": 0, \"ticks\": \"\"}}, \"marker\": {\"colorbar\": {\"outlinewidth\": 0, \"ticks\": \"\"}}, \"type\": \"scatter3d\"}], \"scattercarpet\": [{\"marker\": {\"colorbar\": {\"outlinewidth\": 0, \"ticks\": \"\"}}, \"type\": \"scattercarpet\"}], \"scattergeo\": [{\"marker\": {\"colorbar\": {\"outlinewidth\": 0, \"ticks\": \"\"}}, \"type\": \"scattergeo\"}], \"scattergl\": [{\"marker\": {\"colorbar\": {\"outlinewidth\": 0, \"ticks\": \"\"}}, \"type\": \"scattergl\"}], \"scattermapbox\": [{\"marker\": {\"colorbar\": {\"outlinewidth\": 0, \"ticks\": \"\"}}, \"type\": \"scattermapbox\"}], \"scatterpolar\": [{\"marker\": {\"colorbar\": {\"outlinewidth\": 0, \"ticks\": \"\"}}, \"type\": \"scatterpolar\"}], \"scatterpolargl\": [{\"marker\": {\"colorbar\": {\"outlinewidth\": 0, \"ticks\": \"\"}}, \"type\": \"scatterpolargl\"}], \"scatterternary\": [{\"marker\": {\"colorbar\": {\"outlinewidth\": 0, \"ticks\": \"\"}}, \"type\": \"scatterternary\"}], \"surface\": [{\"colorbar\": {\"outlinewidth\": 0, \"ticks\": \"\"}, \"colorscale\": [[0.0, \"#0d0887\"], [0.1111111111111111, \"#46039f\"], [0.2222222222222222, \"#7201a8\"], [0.3333333333333333, \"#9c179e\"], [0.4444444444444444, \"#bd3786\"], [0.5555555555555556, \"#d8576b\"], [0.6666666666666666, \"#ed7953\"], [0.7777777777777778, \"#fb9f3a\"], [0.8888888888888888, \"#fdca26\"], [1.0, \"#f0f921\"]], \"type\": \"surface\"}], \"table\": [{\"cells\": {\"fill\": {\"color\": \"#EBF0F8\"}, \"line\": {\"color\": \"white\"}}, \"header\": {\"fill\": {\"color\": \"#C8D4E3\"}, \"line\": {\"color\": \"white\"}}, \"type\": \"table\"}]}, \"layout\": {\"annotationdefaults\": {\"arrowcolor\": \"#2a3f5f\", \"arrowhead\": 0, \"arrowwidth\": 1}, \"coloraxis\": {\"colorbar\": {\"outlinewidth\": 0, \"ticks\": \"\"}}, \"colorscale\": {\"diverging\": [[0, \"#8e0152\"], [0.1, \"#c51b7d\"], [0.2, \"#de77ae\"], [0.3, \"#f1b6da\"], [0.4, \"#fde0ef\"], [0.5, \"#f7f7f7\"], [0.6, \"#e6f5d0\"], [0.7, \"#b8e186\"], [0.8, \"#7fbc41\"], [0.9, \"#4d9221\"], [1, \"#276419\"]], \"sequential\": [[0.0, \"#0d0887\"], [0.1111111111111111, \"#46039f\"], [0.2222222222222222, \"#7201a8\"], [0.3333333333333333, \"#9c179e\"], [0.4444444444444444, \"#bd3786\"], [0.5555555555555556, \"#d8576b\"], [0.6666666666666666, \"#ed7953\"], [0.7777777777777778, \"#fb9f3a\"], [0.8888888888888888, \"#fdca26\"], [1.0, \"#f0f921\"]], \"sequentialminus\": [[0.0, \"#0d0887\"], [0.1111111111111111, \"#46039f\"], [0.2222222222222222, \"#7201a8\"], [0.3333333333333333, \"#9c179e\"], [0.4444444444444444, \"#bd3786\"], [0.5555555555555556, \"#d8576b\"], [0.6666666666666666, \"#ed7953\"], [0.7777777777777778, \"#fb9f3a\"], [0.8888888888888888, \"#fdca26\"], [1.0, \"#f0f921\"]]}, \"colorway\": [\"#636efa\", \"#EF553B\", \"#00cc96\", \"#ab63fa\", \"#FFA15A\", \"#19d3f3\", \"#FF6692\", \"#B6E880\", \"#FF97FF\", \"#FECB52\"], \"font\": {\"color\": \"#2a3f5f\"}, \"geo\": {\"bgcolor\": \"white\", \"lakecolor\": \"white\", \"landcolor\": \"#E5ECF6\", \"showlakes\": true, \"showland\": true, \"subunitcolor\": \"white\"}, \"hoverlabel\": {\"align\": \"left\"}, \"hovermode\": \"closest\", \"mapbox\": {\"style\": \"light\"}, \"paper_bgcolor\": \"white\", \"plot_bgcolor\": \"#E5ECF6\", \"polar\": {\"angularaxis\": {\"gridcolor\": \"white\", \"linecolor\": \"white\", \"ticks\": \"\"}, \"bgcolor\": \"#E5ECF6\", \"radialaxis\": {\"gridcolor\": \"white\", \"linecolor\": \"white\", \"ticks\": \"\"}}, \"scene\": {\"xaxis\": {\"backgroundcolor\": \"#E5ECF6\", \"gridcolor\": \"white\", \"gridwidth\": 2, \"linecolor\": \"white\", \"showbackground\": true, \"ticks\": \"\", \"zerolinecolor\": \"white\"}, \"yaxis\": {\"backgroundcolor\": \"#E5ECF6\", \"gridcolor\": \"white\", \"gridwidth\": 2, \"linecolor\": \"white\", \"showbackground\": true, \"ticks\": \"\", \"zerolinecolor\": \"white\"}, \"zaxis\": {\"backgroundcolor\": \"#E5ECF6\", \"gridcolor\": \"white\", \"gridwidth\": 2, \"linecolor\": \"white\", \"showbackground\": true, \"ticks\": \"\", \"zerolinecolor\": \"white\"}}, \"shapedefaults\": {\"line\": {\"color\": \"#2a3f5f\"}}, \"ternary\": {\"aaxis\": {\"gridcolor\": \"white\", \"linecolor\": \"white\", \"ticks\": \"\"}, \"baxis\": {\"gridcolor\": \"white\", \"linecolor\": \"white\", \"ticks\": \"\"}, \"bgcolor\": \"#E5ECF6\", \"caxis\": {\"gridcolor\": \"white\", \"linecolor\": \"white\", \"ticks\": \"\"}}, \"title\": {\"x\": 0.05}, \"xaxis\": {\"automargin\": true, \"gridcolor\": \"white\", \"linecolor\": \"white\", \"ticks\": \"\", \"title\": {\"standoff\": 15}, \"zerolinecolor\": \"white\", \"zerolinewidth\": 2}, \"yaxis\": {\"automargin\": true, \"gridcolor\": \"white\", \"linecolor\": \"white\", \"ticks\": \"\", \"title\": {\"standoff\": 15}, \"zerolinecolor\": \"white\", \"zerolinewidth\": 2}}}, \"title\": {\"text\": \"2017 - 2019 Revenue vs Transaction Lines per Customer\"}, \"xaxis\": {\"anchor\": \"y\", \"domain\": [0.0, 1.0], \"title\": {\"text\": \"transaction_lines\"}}, \"yaxis\": {\"anchor\": \"x\", \"domain\": [0.0, 1.0], \"title\": {\"text\": \"margin\"}}},                        {\"responsive\": true}                    ).then(function(){\n",
       "                            \n",
       "var gd = document.getElementById('62ed3f4c-df31-4a14-84e4-7e060e5c6353');\n",
       "var x = new MutationObserver(function (mutations, observer) {{\n",
       "        var display = window.getComputedStyle(gd).display;\n",
       "        if (!display || display === 'none') {{\n",
       "            console.log([gd, 'removed!']);\n",
       "            Plotly.purge(gd);\n",
       "            observer.disconnect();\n",
       "        }}\n",
       "}});\n",
       "\n",
       "// Listen for the removal of the full notebook cells\n",
       "var notebookContainer = gd.closest('#notebook-container');\n",
       "if (notebookContainer) {{\n",
       "    x.observe(notebookContainer, {childList: true});\n",
       "}}\n",
       "\n",
       "// Listen for the clearing of the current output cell\n",
       "var outputEl = gd.closest('.output');\n",
       "if (outputEl) {{\n",
       "    x.observe(outputEl, {childList: true});\n",
       "}}\n",
       "\n",
       "                        })                };                });            </script>        </div>"
      ]
     },
     "metadata": {},
     "output_type": "display_data"
    }
   ],
   "source": [
    "fig = px.scatter(customers, x='transaction_lines', y='margin', log_x=False, log_y = False, size_max=100, hover_name = 'customer_name', color='pricing_structure', title='2017 - 2019 Revenue vs Transaction Lines per Customer')\n",
    "fig.show()"
   ]
  },
  {
   "cell_type": "markdown",
   "metadata": {},
   "source": [
    "*hover over each dot for more information*"
   ]
  }
 ],
 "metadata": {
  "kernelspec": {
   "display_name": "Python 3",
   "language": "python",
   "name": "python3"
  },
  "language_info": {
   "codemirror_mode": {
    "name": "ipython",
    "version": 3
   },
   "file_extension": ".py",
   "mimetype": "text/x-python",
   "name": "python",
   "nbconvert_exporter": "python",
   "pygments_lexer": "ipython3",
   "version": "3.7.4"
  }
 },
 "nbformat": 4,
 "nbformat_minor": 2
}
