{
 "cells": [
  {
   "cell_type": "markdown",
   "metadata": {},
   "source": [
    "# <center> ERP TRANSACTIONAL ANALYSIS AND VISUALIZATION WITH PYTHON"
   ]
  },
  {
   "cell_type": "markdown",
   "metadata": {},
   "source": [
    "## OVERVIEW"
   ]
  },
  {
   "cell_type": "markdown",
   "metadata": {},
   "source": [
    "The purpose of this document is to provide an example of data analysis and visualization using Python coding techniques. Manipulating data with code instead of relational spreadsheets such as Excel allows increased computational power, flexibility and superior graphing capability."
   ]
  },
  {
   "cell_type": "code",
   "execution_count": 1,
   "metadata": {},
   "outputs": [
    {
     "data": {
      "text/html": [
       "        <script type=\"text/javascript\">\n",
       "        window.PlotlyConfig = {MathJaxConfig: 'local'};\n",
       "        if (window.MathJax) {MathJax.Hub.Config({SVG: {font: \"STIX-Web\"}});}\n",
       "        if (typeof require !== 'undefined') {\n",
       "        require.undef(\"plotly\");\n",
       "        requirejs.config({\n",
       "            paths: {\n",
       "                'plotly': ['https://cdn.plot.ly/plotly-latest.min']\n",
       "            }\n",
       "        });\n",
       "        require(['plotly'], function(Plotly) {\n",
       "            window._Plotly = Plotly;\n",
       "        });\n",
       "        }\n",
       "        </script>\n",
       "        "
      ]
     },
     "metadata": {},
     "output_type": "display_data"
    }
   ],
   "source": [
    "import numpy as np\n",
    "import pandas as pd\n",
    "import datetime\n",
    "import matplotlib.pyplot as plt\n",
    "import seaborn as sns\n",
    "import plotly.express as px\n",
    "import calendar\n",
    "import csv\n",
    "import random\n",
    "\n",
    "%matplotlib inline\n",
    "sns.set()\n",
    "\n",
    "pd.set_option('display.float_format', lambda x: '%.2f' % x)\n",
    "\n",
    "\n",
    "from plotly.offline import init_notebook_mode,iplot\n",
    "import plotly.graph_objects as go\n",
    "import cufflinks as cf\n",
    "init_notebook_mode(connected=True)\n",
    "import plotly.graph_objects as go\n",
    "\n",
    "from mlxtend.frequent_patterns import apriori, association_rules\n",
    "\n",
    "import requests\n",
    "import io"
   ]
  },
  {
   "cell_type": "code",
   "execution_count": 2,
   "metadata": {},
   "outputs": [
    {
     "data": {
      "text/html": [
       "<script>\n",
       "code_show=true; \n",
       "function code_toggle() {\n",
       " if (code_show){\n",
       " $('div.input').hide();\n",
       " } else {\n",
       " $('div.input').show();\n",
       " }\n",
       " code_show = !code_show\n",
       "} \n",
       "$( document ).ready(code_toggle);\n",
       "</script>\n",
       "The raw code for this IPython notebook is by default hidden for easier reading.\n",
       "To toggle on/off the raw code, click <a href=\"javascript:code_toggle()\">here</a>."
      ],
      "text/plain": [
       "<IPython.core.display.HTML object>"
      ]
     },
     "execution_count": 2,
     "metadata": {},
     "output_type": "execute_result"
    }
   ],
   "source": [
    "from IPython.display import HTML\n",
    "HTML('''<script>\n",
    "code_show=true; \n",
    "function code_toggle() {\n",
    " if (code_show){\n",
    " $('div.input').hide();\n",
    " } else {\n",
    " $('div.input').show();\n",
    " }\n",
    " code_show = !code_show\n",
    "} \n",
    "$( document ).ready(code_toggle);\n",
    "</script>\n",
    "The raw code for this IPython notebook is by default hidden for easier reading.\n",
    "To toggle on/off the raw code, click <a href=\"javascript:code_toggle()\">here</a>.''')"
   ]
  },
  {
   "cell_type": "code",
   "execution_count": 3,
   "metadata": {},
   "outputs": [],
   "source": [
    "df = pd.read_csv('transactions.csv')"
   ]
  },
  {
   "cell_type": "code",
   "execution_count": 4,
   "metadata": {},
   "outputs": [],
   "source": [
    "df['inv_date'] = pd.to_datetime(df['inv_date'])"
   ]
  },
  {
   "cell_type": "code",
   "execution_count": 5,
   "metadata": {},
   "outputs": [],
   "source": [
    "df['year'] = df['inv_date'].dt.year\n",
    "df['month'] = df['inv_date'].dt.month\n",
    "df['month'] = df['month'].apply(lambda x: calendar.month_abbr[x])\n",
    "\n",
    "new = df['disc']\n",
    "new2 = []\n",
    "\n",
    "for n in new:\n",
    "    if n <= 10:\n",
    "        new2.append('3. Retail')\n",
    "    elif (n > 10) and (n < 30):\n",
    "        new2.append(\"2. Mid\")\n",
    "    else:\n",
    "        new2.append('1. Premier')\n",
    "df['pricing_structure'] = new2\n",
    "\n",
    "df = df[df['year'] != 2020] # remove incomplete year"
   ]
  },
  {
   "cell_type": "markdown",
   "metadata": {},
   "source": [
    "## DATA"
   ]
  },
  {
   "cell_type": "markdown",
   "metadata": {},
   "source": [
    "The practice data used in this example was obtained from an open source data [repository](https://www.kaggle.com/) popular with data science students. It consists of 103498 rows of 13 variables representing nearly 10 years worth of parts sales invoices. The data is presented in 'molten' format - each variable has its own column, every observation has its own row, subjects are divided into their component observations and each value has its own cell. <br>\n",
    "This dataset does not provide a comprehensive illustration of a parts supply chain. For a more complete picture we would also need purchase orders and GRV dates, supplier lead time guidance, sales order dates for backorder analysis, DC and ship-to locations to measure logistical efficiency, and goods return data to measure quality and sales accuracy. <br>\n",
    " "
   ]
  },
  {
   "cell_type": "code",
   "execution_count": 6,
   "metadata": {},
   "outputs": [
    {
     "data": {
      "text/html": [
       "<div>\n",
       "<style scoped>\n",
       "    .dataframe tbody tr th:only-of-type {\n",
       "        vertical-align: middle;\n",
       "    }\n",
       "\n",
       "    .dataframe tbody tr th {\n",
       "        vertical-align: top;\n",
       "    }\n",
       "\n",
       "    .dataframe thead th {\n",
       "        text-align: right;\n",
       "    }\n",
       "</style>\n",
       "<table border=\"1\" class=\"dataframe\">\n",
       "  <thead>\n",
       "    <tr style=\"text-align: right;\">\n",
       "      <th></th>\n",
       "      <th>inv_date</th>\n",
       "      <th>invoice_number</th>\n",
       "      <th>account</th>\n",
       "      <th>part_number</th>\n",
       "      <th>qty</th>\n",
       "      <th>sell_price</th>\n",
       "      <th>total_sale_value</th>\n",
       "      <th>disc</th>\n",
       "      <th>cost_price</th>\n",
       "      <th>total_cost_value</th>\n",
       "      <th>profit</th>\n",
       "      <th>year</th>\n",
       "      <th>month</th>\n",
       "      <th>pricing_structure</th>\n",
       "    </tr>\n",
       "  </thead>\n",
       "  <tbody>\n",
       "    <tr>\n",
       "      <td>0</td>\n",
       "      <td>2010-04-01</td>\n",
       "      <td>INV7811696</td>\n",
       "      <td>ELEMERA</td>\n",
       "      <td>P522817</td>\n",
       "      <td>1.00</td>\n",
       "      <td>1232.14</td>\n",
       "      <td>1232.14</td>\n",
       "      <td>36</td>\n",
       "      <td>1059.64</td>\n",
       "      <td>1059.64</td>\n",
       "      <td>172.50</td>\n",
       "      <td>2010</td>\n",
       "      <td>Apr</td>\n",
       "      <td>1. Premier</td>\n",
       "    </tr>\n",
       "    <tr>\n",
       "      <td>1</td>\n",
       "      <td>2010-07-01</td>\n",
       "      <td>INV7811682</td>\n",
       "      <td>ELEMERA</td>\n",
       "      <td>P522817</td>\n",
       "      <td>1.00</td>\n",
       "      <td>788.57</td>\n",
       "      <td>788.57</td>\n",
       "      <td>36</td>\n",
       "      <td>678.17</td>\n",
       "      <td>678.17</td>\n",
       "      <td>110.40</td>\n",
       "      <td>2010</td>\n",
       "      <td>Jul</td>\n",
       "      <td>1. Premier</td>\n",
       "    </tr>\n",
       "    <tr>\n",
       "      <td>2</td>\n",
       "      <td>2010-02-25</td>\n",
       "      <td>INV7811426</td>\n",
       "      <td>ELEMERA</td>\n",
       "      <td>P522817</td>\n",
       "      <td>1.00</td>\n",
       "      <td>788.57</td>\n",
       "      <td>788.57</td>\n",
       "      <td>36</td>\n",
       "      <td>678.17</td>\n",
       "      <td>678.17</td>\n",
       "      <td>110.40</td>\n",
       "      <td>2010</td>\n",
       "      <td>Feb</td>\n",
       "      <td>1. Premier</td>\n",
       "    </tr>\n",
       "    <tr>\n",
       "      <td>3</td>\n",
       "      <td>2010-02-25</td>\n",
       "      <td>INV7811426</td>\n",
       "      <td>ELEMERA</td>\n",
       "      <td>P857011</td>\n",
       "      <td>1.00</td>\n",
       "      <td>63.06</td>\n",
       "      <td>63.06</td>\n",
       "      <td>36</td>\n",
       "      <td>54.24</td>\n",
       "      <td>54.24</td>\n",
       "      <td>8.83</td>\n",
       "      <td>2010</td>\n",
       "      <td>Feb</td>\n",
       "      <td>1. Premier</td>\n",
       "    </tr>\n",
       "    <tr>\n",
       "      <td>4</td>\n",
       "      <td>2010-03-29</td>\n",
       "      <td>INV7811269</td>\n",
       "      <td>ELEMERA</td>\n",
       "      <td>P522817</td>\n",
       "      <td>1.00</td>\n",
       "      <td>788.57</td>\n",
       "      <td>788.57</td>\n",
       "      <td>36</td>\n",
       "      <td>678.17</td>\n",
       "      <td>678.17</td>\n",
       "      <td>110.40</td>\n",
       "      <td>2010</td>\n",
       "      <td>Mar</td>\n",
       "      <td>1. Premier</td>\n",
       "    </tr>\n",
       "    <tr>\n",
       "      <td>...</td>\n",
       "      <td>...</td>\n",
       "      <td>...</td>\n",
       "      <td>...</td>\n",
       "      <td>...</td>\n",
       "      <td>...</td>\n",
       "      <td>...</td>\n",
       "      <td>...</td>\n",
       "      <td>...</td>\n",
       "      <td>...</td>\n",
       "      <td>...</td>\n",
       "      <td>...</td>\n",
       "      <td>...</td>\n",
       "      <td>...</td>\n",
       "      <td>...</td>\n",
       "    </tr>\n",
       "    <tr>\n",
       "      <td>103493</td>\n",
       "      <td>2010-11-24</td>\n",
       "      <td>INV7809808</td>\n",
       "      <td>DAVES CONSTRUCTION EQUIPMENT</td>\n",
       "      <td>P931108</td>\n",
       "      <td>1.00</td>\n",
       "      <td>107.11</td>\n",
       "      <td>107.11</td>\n",
       "      <td>0</td>\n",
       "      <td>53.56</td>\n",
       "      <td>53.56</td>\n",
       "      <td>53.56</td>\n",
       "      <td>2010</td>\n",
       "      <td>Nov</td>\n",
       "      <td>3. Retail</td>\n",
       "    </tr>\n",
       "    <tr>\n",
       "      <td>103494</td>\n",
       "      <td>2010-11-24</td>\n",
       "      <td>INV7809808</td>\n",
       "      <td>DAVES CONSTRUCTION EQUIPMENT</td>\n",
       "      <td>P345492</td>\n",
       "      <td>2.00</td>\n",
       "      <td>75.94</td>\n",
       "      <td>151.88</td>\n",
       "      <td>0</td>\n",
       "      <td>37.97</td>\n",
       "      <td>75.94</td>\n",
       "      <td>75.94</td>\n",
       "      <td>2010</td>\n",
       "      <td>Nov</td>\n",
       "      <td>3. Retail</td>\n",
       "    </tr>\n",
       "    <tr>\n",
       "      <td>103495</td>\n",
       "      <td>2015-12-17</td>\n",
       "      <td>INV7796840</td>\n",
       "      <td>THE RAILROADERS</td>\n",
       "      <td>P599748</td>\n",
       "      <td>1.00</td>\n",
       "      <td>724.13</td>\n",
       "      <td>724.13</td>\n",
       "      <td>0</td>\n",
       "      <td>362.07</td>\n",
       "      <td>362.07</td>\n",
       "      <td>362.07</td>\n",
       "      <td>2015</td>\n",
       "      <td>Dec</td>\n",
       "      <td>3. Retail</td>\n",
       "    </tr>\n",
       "    <tr>\n",
       "      <td>103496</td>\n",
       "      <td>2016-07-03</td>\n",
       "      <td>INV7795983</td>\n",
       "      <td>BOBS SERVICING &amp; DELIVERY</td>\n",
       "      <td>P599748</td>\n",
       "      <td>1.00</td>\n",
       "      <td>957.17</td>\n",
       "      <td>957.17</td>\n",
       "      <td>0</td>\n",
       "      <td>478.59</td>\n",
       "      <td>478.59</td>\n",
       "      <td>478.59</td>\n",
       "      <td>2016</td>\n",
       "      <td>Jul</td>\n",
       "      <td>3. Retail</td>\n",
       "    </tr>\n",
       "    <tr>\n",
       "      <td>103497</td>\n",
       "      <td>2018-02-05</td>\n",
       "      <td>INV7788140</td>\n",
       "      <td>MILLING &amp; ELECTRICS</td>\n",
       "      <td>P777695</td>\n",
       "      <td>1.00</td>\n",
       "      <td>5875.56</td>\n",
       "      <td>5875.56</td>\n",
       "      <td>0</td>\n",
       "      <td>2937.78</td>\n",
       "      <td>2937.78</td>\n",
       "      <td>2937.78</td>\n",
       "      <td>2018</td>\n",
       "      <td>Feb</td>\n",
       "      <td>3. Retail</td>\n",
       "    </tr>\n",
       "  </tbody>\n",
       "</table>\n",
       "<p>93684 rows × 14 columns</p>\n",
       "</div>"
      ],
      "text/plain": [
       "         inv_date invoice_number                       account part_number  \\\n",
       "0      2010-04-01     INV7811696                       ELEMERA     P522817   \n",
       "1      2010-07-01     INV7811682                       ELEMERA     P522817   \n",
       "2      2010-02-25     INV7811426                       ELEMERA     P522817   \n",
       "3      2010-02-25     INV7811426                       ELEMERA     P857011   \n",
       "4      2010-03-29     INV7811269                       ELEMERA     P522817   \n",
       "...           ...            ...                           ...         ...   \n",
       "103493 2010-11-24     INV7809808  DAVES CONSTRUCTION EQUIPMENT     P931108   \n",
       "103494 2010-11-24     INV7809808  DAVES CONSTRUCTION EQUIPMENT     P345492   \n",
       "103495 2015-12-17     INV7796840               THE RAILROADERS     P599748   \n",
       "103496 2016-07-03     INV7795983     BOBS SERVICING & DELIVERY     P599748   \n",
       "103497 2018-02-05     INV7788140           MILLING & ELECTRICS     P777695   \n",
       "\n",
       "        qty  sell_price  total_sale_value  disc  cost_price  total_cost_value  \\\n",
       "0      1.00     1232.14           1232.14    36     1059.64           1059.64   \n",
       "1      1.00      788.57            788.57    36      678.17            678.17   \n",
       "2      1.00      788.57            788.57    36      678.17            678.17   \n",
       "3      1.00       63.06             63.06    36       54.24             54.24   \n",
       "4      1.00      788.57            788.57    36      678.17            678.17   \n",
       "...     ...         ...               ...   ...         ...               ...   \n",
       "103493 1.00      107.11            107.11     0       53.56             53.56   \n",
       "103494 2.00       75.94            151.88     0       37.97             75.94   \n",
       "103495 1.00      724.13            724.13     0      362.07            362.07   \n",
       "103496 1.00      957.17            957.17     0      478.59            478.59   \n",
       "103497 1.00     5875.56           5875.56     0     2937.78           2937.78   \n",
       "\n",
       "        profit  year month pricing_structure  \n",
       "0       172.50  2010   Apr        1. Premier  \n",
       "1       110.40  2010   Jul        1. Premier  \n",
       "2       110.40  2010   Feb        1. Premier  \n",
       "3         8.83  2010   Feb        1. Premier  \n",
       "4       110.40  2010   Mar        1. Premier  \n",
       "...        ...   ...   ...               ...  \n",
       "103493   53.56  2010   Nov         3. Retail  \n",
       "103494   75.94  2010   Nov         3. Retail  \n",
       "103495  362.07  2015   Dec         3. Retail  \n",
       "103496  478.59  2016   Jul         3. Retail  \n",
       "103497 2937.78  2018   Feb         3. Retail  \n",
       "\n",
       "[93684 rows x 14 columns]"
      ]
     },
     "execution_count": 6,
     "metadata": {},
     "output_type": "execute_result"
    }
   ],
   "source": [
    "df"
   ]
  },
  {
   "cell_type": "markdown",
   "metadata": {},
   "source": [
    "## CUSTOMER GROUPING BY PRICE STRUCTURE\n"
   ]
  },
  {
   "cell_type": "markdown",
   "metadata": {},
   "source": [
    "We can factor engineer new values from the original dataset. Creating a visual representation for over 100 different customers is difficult. The stacked bar chart below shows sales activity by customer discount structure. Hover over each bar for more detailed information."
   ]
  },
  {
   "cell_type": "code",
   "execution_count": 7,
   "metadata": {},
   "outputs": [],
   "source": [
    "saleval = pd.pivot_table(df, index = ['year','pricing_structure'], values = ['total_sale_value','profit'], aggfunc = {'total_sale_value':'sum','profit':'sum'})\n",
    "saleval = saleval.reset_index(drop = False)"
   ]
  },
  {
   "cell_type": "code",
   "execution_count": 8,
   "metadata": {},
   "outputs": [
    {
     "data": {
      "application/vnd.plotly.v1+json": {
       "config": {
        "plotlyServerURL": "https://plot.ly"
       },
       "data": [
        {
         "alignmentgroup": "True",
         "hovertemplate": "pricing_structure=1. Premier<br>year=%{x}<br>total_sale_value=%{y}<extra></extra>",
         "legendgroup": "1. Premier",
         "marker": {
          "color": "#636efa"
         },
         "name": "1. Premier",
         "offsetgroup": "1. Premier",
         "orientation": "v",
         "showlegend": true,
         "textposition": "auto",
         "type": "bar",
         "x": [
          2010,
          2011,
          2012,
          2013,
          2014,
          2015,
          2016,
          2017,
          2018,
          2019
         ],
         "xaxis": "x",
         "y": [
          872077.1886000007,
          1080287.5580999982,
          1151708.3756999967,
          1328678.7791399967,
          1436271.7328999974,
          2550607.5626999787,
          2208662.6759999925,
          2241180.7712999885,
          3174868.2390299737,
          3487101.340500028
         ],
         "yaxis": "y"
        },
        {
         "alignmentgroup": "True",
         "hovertemplate": "pricing_structure=2. Mid<br>year=%{x}<br>total_sale_value=%{y}<extra></extra>",
         "legendgroup": "2. Mid",
         "marker": {
          "color": "#EF553B"
         },
         "name": "2. Mid",
         "offsetgroup": "2. Mid",
         "orientation": "v",
         "showlegend": true,
         "textposition": "auto",
         "type": "bar",
         "x": [
          2010,
          2011,
          2012,
          2013,
          2014,
          2015,
          2016,
          2017,
          2018,
          2019
         ],
         "xaxis": "x",
         "y": [
          34565.187600000005,
          19697.81490000001,
          49755.7845,
          131016.26700000002,
          90901.88999999996,
          152239.74390000018,
          411053.04900000046,
          615773.5479000009,
          801579.7880999978,
          842851.0827000017
         ],
         "yaxis": "y"
        },
        {
         "alignmentgroup": "True",
         "hovertemplate": "pricing_structure=3. Retail<br>year=%{x}<br>total_sale_value=%{y}<extra></extra>",
         "legendgroup": "3. Retail",
         "marker": {
          "color": "#00cc96"
         },
         "name": "3. Retail",
         "offsetgroup": "3. Retail",
         "orientation": "v",
         "showlegend": true,
         "textposition": "auto",
         "type": "bar",
         "x": [
          2010,
          2011,
          2012,
          2013,
          2014,
          2015,
          2016,
          2017,
          2018,
          2019
         ],
         "xaxis": "x",
         "y": [
          405762.5654999997,
          423424.43730000046,
          490147.47449999966,
          259798.64130000037,
          238128.2216999997,
          291929.0796000005,
          372764.1654000003,
          311521.50720000034,
          340013.4075000001,
          246871.09259999995
         ],
         "yaxis": "y"
        }
       ],
       "layout": {
        "barmode": "relative",
        "legend": {
         "title": {
          "text": "pricing_structure"
         },
         "tracegroupgap": 0
        },
        "template": {
         "data": {
          "bar": [
           {
            "error_x": {
             "color": "#2a3f5f"
            },
            "error_y": {
             "color": "#2a3f5f"
            },
            "marker": {
             "line": {
              "color": "#E5ECF6",
              "width": 0.5
             }
            },
            "type": "bar"
           }
          ],
          "barpolar": [
           {
            "marker": {
             "line": {
              "color": "#E5ECF6",
              "width": 0.5
             }
            },
            "type": "barpolar"
           }
          ],
          "carpet": [
           {
            "aaxis": {
             "endlinecolor": "#2a3f5f",
             "gridcolor": "white",
             "linecolor": "white",
             "minorgridcolor": "white",
             "startlinecolor": "#2a3f5f"
            },
            "baxis": {
             "endlinecolor": "#2a3f5f",
             "gridcolor": "white",
             "linecolor": "white",
             "minorgridcolor": "white",
             "startlinecolor": "#2a3f5f"
            },
            "type": "carpet"
           }
          ],
          "choropleth": [
           {
            "colorbar": {
             "outlinewidth": 0,
             "ticks": ""
            },
            "type": "choropleth"
           }
          ],
          "contour": [
           {
            "colorbar": {
             "outlinewidth": 0,
             "ticks": ""
            },
            "colorscale": [
             [
              0,
              "#0d0887"
             ],
             [
              0.1111111111111111,
              "#46039f"
             ],
             [
              0.2222222222222222,
              "#7201a8"
             ],
             [
              0.3333333333333333,
              "#9c179e"
             ],
             [
              0.4444444444444444,
              "#bd3786"
             ],
             [
              0.5555555555555556,
              "#d8576b"
             ],
             [
              0.6666666666666666,
              "#ed7953"
             ],
             [
              0.7777777777777778,
              "#fb9f3a"
             ],
             [
              0.8888888888888888,
              "#fdca26"
             ],
             [
              1,
              "#f0f921"
             ]
            ],
            "type": "contour"
           }
          ],
          "contourcarpet": [
           {
            "colorbar": {
             "outlinewidth": 0,
             "ticks": ""
            },
            "type": "contourcarpet"
           }
          ],
          "heatmap": [
           {
            "colorbar": {
             "outlinewidth": 0,
             "ticks": ""
            },
            "colorscale": [
             [
              0,
              "#0d0887"
             ],
             [
              0.1111111111111111,
              "#46039f"
             ],
             [
              0.2222222222222222,
              "#7201a8"
             ],
             [
              0.3333333333333333,
              "#9c179e"
             ],
             [
              0.4444444444444444,
              "#bd3786"
             ],
             [
              0.5555555555555556,
              "#d8576b"
             ],
             [
              0.6666666666666666,
              "#ed7953"
             ],
             [
              0.7777777777777778,
              "#fb9f3a"
             ],
             [
              0.8888888888888888,
              "#fdca26"
             ],
             [
              1,
              "#f0f921"
             ]
            ],
            "type": "heatmap"
           }
          ],
          "heatmapgl": [
           {
            "colorbar": {
             "outlinewidth": 0,
             "ticks": ""
            },
            "colorscale": [
             [
              0,
              "#0d0887"
             ],
             [
              0.1111111111111111,
              "#46039f"
             ],
             [
              0.2222222222222222,
              "#7201a8"
             ],
             [
              0.3333333333333333,
              "#9c179e"
             ],
             [
              0.4444444444444444,
              "#bd3786"
             ],
             [
              0.5555555555555556,
              "#d8576b"
             ],
             [
              0.6666666666666666,
              "#ed7953"
             ],
             [
              0.7777777777777778,
              "#fb9f3a"
             ],
             [
              0.8888888888888888,
              "#fdca26"
             ],
             [
              1,
              "#f0f921"
             ]
            ],
            "type": "heatmapgl"
           }
          ],
          "histogram": [
           {
            "marker": {
             "colorbar": {
              "outlinewidth": 0,
              "ticks": ""
             }
            },
            "type": "histogram"
           }
          ],
          "histogram2d": [
           {
            "colorbar": {
             "outlinewidth": 0,
             "ticks": ""
            },
            "colorscale": [
             [
              0,
              "#0d0887"
             ],
             [
              0.1111111111111111,
              "#46039f"
             ],
             [
              0.2222222222222222,
              "#7201a8"
             ],
             [
              0.3333333333333333,
              "#9c179e"
             ],
             [
              0.4444444444444444,
              "#bd3786"
             ],
             [
              0.5555555555555556,
              "#d8576b"
             ],
             [
              0.6666666666666666,
              "#ed7953"
             ],
             [
              0.7777777777777778,
              "#fb9f3a"
             ],
             [
              0.8888888888888888,
              "#fdca26"
             ],
             [
              1,
              "#f0f921"
             ]
            ],
            "type": "histogram2d"
           }
          ],
          "histogram2dcontour": [
           {
            "colorbar": {
             "outlinewidth": 0,
             "ticks": ""
            },
            "colorscale": [
             [
              0,
              "#0d0887"
             ],
             [
              0.1111111111111111,
              "#46039f"
             ],
             [
              0.2222222222222222,
              "#7201a8"
             ],
             [
              0.3333333333333333,
              "#9c179e"
             ],
             [
              0.4444444444444444,
              "#bd3786"
             ],
             [
              0.5555555555555556,
              "#d8576b"
             ],
             [
              0.6666666666666666,
              "#ed7953"
             ],
             [
              0.7777777777777778,
              "#fb9f3a"
             ],
             [
              0.8888888888888888,
              "#fdca26"
             ],
             [
              1,
              "#f0f921"
             ]
            ],
            "type": "histogram2dcontour"
           }
          ],
          "mesh3d": [
           {
            "colorbar": {
             "outlinewidth": 0,
             "ticks": ""
            },
            "type": "mesh3d"
           }
          ],
          "parcoords": [
           {
            "line": {
             "colorbar": {
              "outlinewidth": 0,
              "ticks": ""
             }
            },
            "type": "parcoords"
           }
          ],
          "pie": [
           {
            "automargin": true,
            "type": "pie"
           }
          ],
          "scatter": [
           {
            "marker": {
             "colorbar": {
              "outlinewidth": 0,
              "ticks": ""
             }
            },
            "type": "scatter"
           }
          ],
          "scatter3d": [
           {
            "line": {
             "colorbar": {
              "outlinewidth": 0,
              "ticks": ""
             }
            },
            "marker": {
             "colorbar": {
              "outlinewidth": 0,
              "ticks": ""
             }
            },
            "type": "scatter3d"
           }
          ],
          "scattercarpet": [
           {
            "marker": {
             "colorbar": {
              "outlinewidth": 0,
              "ticks": ""
             }
            },
            "type": "scattercarpet"
           }
          ],
          "scattergeo": [
           {
            "marker": {
             "colorbar": {
              "outlinewidth": 0,
              "ticks": ""
             }
            },
            "type": "scattergeo"
           }
          ],
          "scattergl": [
           {
            "marker": {
             "colorbar": {
              "outlinewidth": 0,
              "ticks": ""
             }
            },
            "type": "scattergl"
           }
          ],
          "scattermapbox": [
           {
            "marker": {
             "colorbar": {
              "outlinewidth": 0,
              "ticks": ""
             }
            },
            "type": "scattermapbox"
           }
          ],
          "scatterpolar": [
           {
            "marker": {
             "colorbar": {
              "outlinewidth": 0,
              "ticks": ""
             }
            },
            "type": "scatterpolar"
           }
          ],
          "scatterpolargl": [
           {
            "marker": {
             "colorbar": {
              "outlinewidth": 0,
              "ticks": ""
             }
            },
            "type": "scatterpolargl"
           }
          ],
          "scatterternary": [
           {
            "marker": {
             "colorbar": {
              "outlinewidth": 0,
              "ticks": ""
             }
            },
            "type": "scatterternary"
           }
          ],
          "surface": [
           {
            "colorbar": {
             "outlinewidth": 0,
             "ticks": ""
            },
            "colorscale": [
             [
              0,
              "#0d0887"
             ],
             [
              0.1111111111111111,
              "#46039f"
             ],
             [
              0.2222222222222222,
              "#7201a8"
             ],
             [
              0.3333333333333333,
              "#9c179e"
             ],
             [
              0.4444444444444444,
              "#bd3786"
             ],
             [
              0.5555555555555556,
              "#d8576b"
             ],
             [
              0.6666666666666666,
              "#ed7953"
             ],
             [
              0.7777777777777778,
              "#fb9f3a"
             ],
             [
              0.8888888888888888,
              "#fdca26"
             ],
             [
              1,
              "#f0f921"
             ]
            ],
            "type": "surface"
           }
          ],
          "table": [
           {
            "cells": {
             "fill": {
              "color": "#EBF0F8"
             },
             "line": {
              "color": "white"
             }
            },
            "header": {
             "fill": {
              "color": "#C8D4E3"
             },
             "line": {
              "color": "white"
             }
            },
            "type": "table"
           }
          ]
         },
         "layout": {
          "annotationdefaults": {
           "arrowcolor": "#2a3f5f",
           "arrowhead": 0,
           "arrowwidth": 1
          },
          "coloraxis": {
           "colorbar": {
            "outlinewidth": 0,
            "ticks": ""
           }
          },
          "colorscale": {
           "diverging": [
            [
             0,
             "#8e0152"
            ],
            [
             0.1,
             "#c51b7d"
            ],
            [
             0.2,
             "#de77ae"
            ],
            [
             0.3,
             "#f1b6da"
            ],
            [
             0.4,
             "#fde0ef"
            ],
            [
             0.5,
             "#f7f7f7"
            ],
            [
             0.6,
             "#e6f5d0"
            ],
            [
             0.7,
             "#b8e186"
            ],
            [
             0.8,
             "#7fbc41"
            ],
            [
             0.9,
             "#4d9221"
            ],
            [
             1,
             "#276419"
            ]
           ],
           "sequential": [
            [
             0,
             "#0d0887"
            ],
            [
             0.1111111111111111,
             "#46039f"
            ],
            [
             0.2222222222222222,
             "#7201a8"
            ],
            [
             0.3333333333333333,
             "#9c179e"
            ],
            [
             0.4444444444444444,
             "#bd3786"
            ],
            [
             0.5555555555555556,
             "#d8576b"
            ],
            [
             0.6666666666666666,
             "#ed7953"
            ],
            [
             0.7777777777777778,
             "#fb9f3a"
            ],
            [
             0.8888888888888888,
             "#fdca26"
            ],
            [
             1,
             "#f0f921"
            ]
           ],
           "sequentialminus": [
            [
             0,
             "#0d0887"
            ],
            [
             0.1111111111111111,
             "#46039f"
            ],
            [
             0.2222222222222222,
             "#7201a8"
            ],
            [
             0.3333333333333333,
             "#9c179e"
            ],
            [
             0.4444444444444444,
             "#bd3786"
            ],
            [
             0.5555555555555556,
             "#d8576b"
            ],
            [
             0.6666666666666666,
             "#ed7953"
            ],
            [
             0.7777777777777778,
             "#fb9f3a"
            ],
            [
             0.8888888888888888,
             "#fdca26"
            ],
            [
             1,
             "#f0f921"
            ]
           ]
          },
          "colorway": [
           "#636efa",
           "#EF553B",
           "#00cc96",
           "#ab63fa",
           "#FFA15A",
           "#19d3f3",
           "#FF6692",
           "#B6E880",
           "#FF97FF",
           "#FECB52"
          ],
          "font": {
           "color": "#2a3f5f"
          },
          "geo": {
           "bgcolor": "white",
           "lakecolor": "white",
           "landcolor": "#E5ECF6",
           "showlakes": true,
           "showland": true,
           "subunitcolor": "white"
          },
          "hoverlabel": {
           "align": "left"
          },
          "hovermode": "closest",
          "mapbox": {
           "style": "light"
          },
          "paper_bgcolor": "white",
          "plot_bgcolor": "#E5ECF6",
          "polar": {
           "angularaxis": {
            "gridcolor": "white",
            "linecolor": "white",
            "ticks": ""
           },
           "bgcolor": "#E5ECF6",
           "radialaxis": {
            "gridcolor": "white",
            "linecolor": "white",
            "ticks": ""
           }
          },
          "scene": {
           "xaxis": {
            "backgroundcolor": "#E5ECF6",
            "gridcolor": "white",
            "gridwidth": 2,
            "linecolor": "white",
            "showbackground": true,
            "ticks": "",
            "zerolinecolor": "white"
           },
           "yaxis": {
            "backgroundcolor": "#E5ECF6",
            "gridcolor": "white",
            "gridwidth": 2,
            "linecolor": "white",
            "showbackground": true,
            "ticks": "",
            "zerolinecolor": "white"
           },
           "zaxis": {
            "backgroundcolor": "#E5ECF6",
            "gridcolor": "white",
            "gridwidth": 2,
            "linecolor": "white",
            "showbackground": true,
            "ticks": "",
            "zerolinecolor": "white"
           }
          },
          "shapedefaults": {
           "line": {
            "color": "#2a3f5f"
           }
          },
          "ternary": {
           "aaxis": {
            "gridcolor": "white",
            "linecolor": "white",
            "ticks": ""
           },
           "baxis": {
            "gridcolor": "white",
            "linecolor": "white",
            "ticks": ""
           },
           "bgcolor": "#E5ECF6",
           "caxis": {
            "gridcolor": "white",
            "linecolor": "white",
            "ticks": ""
           }
          },
          "title": {
           "x": 0.05
          },
          "xaxis": {
           "automargin": true,
           "gridcolor": "white",
           "linecolor": "white",
           "ticks": "",
           "title": {
            "standoff": 15
           },
           "zerolinecolor": "white",
           "zerolinewidth": 2
          },
          "yaxis": {
           "automargin": true,
           "gridcolor": "white",
           "linecolor": "white",
           "ticks": "",
           "title": {
            "standoff": 15
           },
           "zerolinecolor": "white",
           "zerolinewidth": 2
          }
         }
        },
        "title": {
         "text": "Parts Sales by Customer Discount Structure"
        },
        "xaxis": {
         "anchor": "y",
         "domain": [
          0,
          1
         ],
         "title": {
          "text": "year"
         },
         "type": "category"
        },
        "yaxis": {
         "anchor": "x",
         "domain": [
          0,
          1
         ],
         "title": {
          "text": "total_sale_value"
         }
        }
       }
      },
      "text/html": [
       "<div>                            <div id=\"c5d5fe98-0be8-4044-81c0-eabd230c8c27\" class=\"plotly-graph-div\" style=\"height:525px; width:100%;\"></div>            <script type=\"text/javascript\">                require([\"plotly\"], function(Plotly) {                    window.PLOTLYENV=window.PLOTLYENV || {};                                    if (document.getElementById(\"c5d5fe98-0be8-4044-81c0-eabd230c8c27\")) {                    Plotly.newPlot(                        \"c5d5fe98-0be8-4044-81c0-eabd230c8c27\",                        [{\"alignmentgroup\": \"True\", \"hovertemplate\": \"pricing_structure=1. Premier<br>year=%{x}<br>total_sale_value=%{y}<extra></extra>\", \"legendgroup\": \"1. Premier\", \"marker\": {\"color\": \"#636efa\"}, \"name\": \"1. Premier\", \"offsetgroup\": \"1. Premier\", \"orientation\": \"v\", \"showlegend\": true, \"textposition\": \"auto\", \"type\": \"bar\", \"x\": [2010, 2011, 2012, 2013, 2014, 2015, 2016, 2017, 2018, 2019], \"xaxis\": \"x\", \"y\": [872077.1886000007, 1080287.5580999982, 1151708.3756999967, 1328678.7791399967, 1436271.7328999974, 2550607.5626999787, 2208662.6759999925, 2241180.7712999885, 3174868.2390299737, 3487101.340500028], \"yaxis\": \"y\"}, {\"alignmentgroup\": \"True\", \"hovertemplate\": \"pricing_structure=2. Mid<br>year=%{x}<br>total_sale_value=%{y}<extra></extra>\", \"legendgroup\": \"2. Mid\", \"marker\": {\"color\": \"#EF553B\"}, \"name\": \"2. Mid\", \"offsetgroup\": \"2. Mid\", \"orientation\": \"v\", \"showlegend\": true, \"textposition\": \"auto\", \"type\": \"bar\", \"x\": [2010, 2011, 2012, 2013, 2014, 2015, 2016, 2017, 2018, 2019], \"xaxis\": \"x\", \"y\": [34565.187600000005, 19697.81490000001, 49755.7845, 131016.26700000002, 90901.88999999996, 152239.74390000018, 411053.04900000046, 615773.5479000009, 801579.7880999978, 842851.0827000017], \"yaxis\": \"y\"}, {\"alignmentgroup\": \"True\", \"hovertemplate\": \"pricing_structure=3. Retail<br>year=%{x}<br>total_sale_value=%{y}<extra></extra>\", \"legendgroup\": \"3. Retail\", \"marker\": {\"color\": \"#00cc96\"}, \"name\": \"3. Retail\", \"offsetgroup\": \"3. Retail\", \"orientation\": \"v\", \"showlegend\": true, \"textposition\": \"auto\", \"type\": \"bar\", \"x\": [2010, 2011, 2012, 2013, 2014, 2015, 2016, 2017, 2018, 2019], \"xaxis\": \"x\", \"y\": [405762.5654999997, 423424.43730000046, 490147.47449999966, 259798.64130000037, 238128.2216999997, 291929.0796000005, 372764.1654000003, 311521.50720000034, 340013.4075000001, 246871.09259999995], \"yaxis\": \"y\"}],                        {\"barmode\": \"relative\", \"legend\": {\"title\": {\"text\": \"pricing_structure\"}, \"tracegroupgap\": 0}, \"template\": {\"data\": {\"bar\": [{\"error_x\": {\"color\": \"#2a3f5f\"}, \"error_y\": {\"color\": \"#2a3f5f\"}, \"marker\": {\"line\": {\"color\": \"#E5ECF6\", \"width\": 0.5}}, \"type\": \"bar\"}], \"barpolar\": [{\"marker\": {\"line\": {\"color\": \"#E5ECF6\", \"width\": 0.5}}, \"type\": \"barpolar\"}], \"carpet\": [{\"aaxis\": {\"endlinecolor\": \"#2a3f5f\", \"gridcolor\": \"white\", \"linecolor\": \"white\", \"minorgridcolor\": \"white\", \"startlinecolor\": \"#2a3f5f\"}, \"baxis\": {\"endlinecolor\": \"#2a3f5f\", \"gridcolor\": \"white\", \"linecolor\": \"white\", \"minorgridcolor\": \"white\", \"startlinecolor\": \"#2a3f5f\"}, \"type\": \"carpet\"}], \"choropleth\": [{\"colorbar\": {\"outlinewidth\": 0, \"ticks\": \"\"}, \"type\": \"choropleth\"}], \"contour\": [{\"colorbar\": {\"outlinewidth\": 0, \"ticks\": \"\"}, \"colorscale\": [[0.0, \"#0d0887\"], [0.1111111111111111, \"#46039f\"], [0.2222222222222222, \"#7201a8\"], [0.3333333333333333, \"#9c179e\"], [0.4444444444444444, \"#bd3786\"], [0.5555555555555556, \"#d8576b\"], [0.6666666666666666, \"#ed7953\"], [0.7777777777777778, \"#fb9f3a\"], [0.8888888888888888, \"#fdca26\"], [1.0, \"#f0f921\"]], \"type\": \"contour\"}], \"contourcarpet\": [{\"colorbar\": {\"outlinewidth\": 0, \"ticks\": \"\"}, \"type\": \"contourcarpet\"}], \"heatmap\": [{\"colorbar\": {\"outlinewidth\": 0, \"ticks\": \"\"}, \"colorscale\": [[0.0, \"#0d0887\"], [0.1111111111111111, \"#46039f\"], [0.2222222222222222, \"#7201a8\"], [0.3333333333333333, \"#9c179e\"], [0.4444444444444444, \"#bd3786\"], [0.5555555555555556, \"#d8576b\"], [0.6666666666666666, \"#ed7953\"], [0.7777777777777778, \"#fb9f3a\"], [0.8888888888888888, \"#fdca26\"], [1.0, \"#f0f921\"]], \"type\": \"heatmap\"}], \"heatmapgl\": [{\"colorbar\": {\"outlinewidth\": 0, \"ticks\": \"\"}, \"colorscale\": [[0.0, \"#0d0887\"], [0.1111111111111111, \"#46039f\"], [0.2222222222222222, \"#7201a8\"], [0.3333333333333333, \"#9c179e\"], [0.4444444444444444, \"#bd3786\"], [0.5555555555555556, \"#d8576b\"], [0.6666666666666666, \"#ed7953\"], [0.7777777777777778, \"#fb9f3a\"], [0.8888888888888888, \"#fdca26\"], [1.0, \"#f0f921\"]], \"type\": \"heatmapgl\"}], \"histogram\": [{\"marker\": {\"colorbar\": {\"outlinewidth\": 0, \"ticks\": \"\"}}, \"type\": \"histogram\"}], \"histogram2d\": [{\"colorbar\": {\"outlinewidth\": 0, \"ticks\": \"\"}, \"colorscale\": [[0.0, \"#0d0887\"], [0.1111111111111111, \"#46039f\"], [0.2222222222222222, \"#7201a8\"], [0.3333333333333333, \"#9c179e\"], [0.4444444444444444, \"#bd3786\"], [0.5555555555555556, \"#d8576b\"], [0.6666666666666666, \"#ed7953\"], [0.7777777777777778, \"#fb9f3a\"], [0.8888888888888888, \"#fdca26\"], [1.0, \"#f0f921\"]], \"type\": \"histogram2d\"}], \"histogram2dcontour\": [{\"colorbar\": {\"outlinewidth\": 0, \"ticks\": \"\"}, \"colorscale\": [[0.0, \"#0d0887\"], [0.1111111111111111, \"#46039f\"], [0.2222222222222222, \"#7201a8\"], [0.3333333333333333, \"#9c179e\"], [0.4444444444444444, \"#bd3786\"], [0.5555555555555556, \"#d8576b\"], [0.6666666666666666, \"#ed7953\"], [0.7777777777777778, \"#fb9f3a\"], [0.8888888888888888, \"#fdca26\"], [1.0, \"#f0f921\"]], \"type\": \"histogram2dcontour\"}], \"mesh3d\": [{\"colorbar\": {\"outlinewidth\": 0, \"ticks\": \"\"}, \"type\": \"mesh3d\"}], \"parcoords\": [{\"line\": {\"colorbar\": {\"outlinewidth\": 0, \"ticks\": \"\"}}, \"type\": \"parcoords\"}], \"pie\": [{\"automargin\": true, \"type\": \"pie\"}], \"scatter\": [{\"marker\": {\"colorbar\": {\"outlinewidth\": 0, \"ticks\": \"\"}}, \"type\": \"scatter\"}], \"scatter3d\": [{\"line\": {\"colorbar\": {\"outlinewidth\": 0, \"ticks\": \"\"}}, \"marker\": {\"colorbar\": {\"outlinewidth\": 0, \"ticks\": \"\"}}, \"type\": \"scatter3d\"}], \"scattercarpet\": [{\"marker\": {\"colorbar\": {\"outlinewidth\": 0, \"ticks\": \"\"}}, \"type\": \"scattercarpet\"}], \"scattergeo\": [{\"marker\": {\"colorbar\": {\"outlinewidth\": 0, \"ticks\": \"\"}}, \"type\": \"scattergeo\"}], \"scattergl\": [{\"marker\": {\"colorbar\": {\"outlinewidth\": 0, \"ticks\": \"\"}}, \"type\": \"scattergl\"}], \"scattermapbox\": [{\"marker\": {\"colorbar\": {\"outlinewidth\": 0, \"ticks\": \"\"}}, \"type\": \"scattermapbox\"}], \"scatterpolar\": [{\"marker\": {\"colorbar\": {\"outlinewidth\": 0, \"ticks\": \"\"}}, \"type\": \"scatterpolar\"}], \"scatterpolargl\": [{\"marker\": {\"colorbar\": {\"outlinewidth\": 0, \"ticks\": \"\"}}, \"type\": \"scatterpolargl\"}], \"scatterternary\": [{\"marker\": {\"colorbar\": {\"outlinewidth\": 0, \"ticks\": \"\"}}, \"type\": \"scatterternary\"}], \"surface\": [{\"colorbar\": {\"outlinewidth\": 0, \"ticks\": \"\"}, \"colorscale\": [[0.0, \"#0d0887\"], [0.1111111111111111, \"#46039f\"], [0.2222222222222222, \"#7201a8\"], [0.3333333333333333, \"#9c179e\"], [0.4444444444444444, \"#bd3786\"], [0.5555555555555556, \"#d8576b\"], [0.6666666666666666, \"#ed7953\"], [0.7777777777777778, \"#fb9f3a\"], [0.8888888888888888, \"#fdca26\"], [1.0, \"#f0f921\"]], \"type\": \"surface\"}], \"table\": [{\"cells\": {\"fill\": {\"color\": \"#EBF0F8\"}, \"line\": {\"color\": \"white\"}}, \"header\": {\"fill\": {\"color\": \"#C8D4E3\"}, \"line\": {\"color\": \"white\"}}, \"type\": \"table\"}]}, \"layout\": {\"annotationdefaults\": {\"arrowcolor\": \"#2a3f5f\", \"arrowhead\": 0, \"arrowwidth\": 1}, \"coloraxis\": {\"colorbar\": {\"outlinewidth\": 0, \"ticks\": \"\"}}, \"colorscale\": {\"diverging\": [[0, \"#8e0152\"], [0.1, \"#c51b7d\"], [0.2, \"#de77ae\"], [0.3, \"#f1b6da\"], [0.4, \"#fde0ef\"], [0.5, \"#f7f7f7\"], [0.6, \"#e6f5d0\"], [0.7, \"#b8e186\"], [0.8, \"#7fbc41\"], [0.9, \"#4d9221\"], [1, \"#276419\"]], \"sequential\": [[0.0, \"#0d0887\"], [0.1111111111111111, \"#46039f\"], [0.2222222222222222, \"#7201a8\"], [0.3333333333333333, \"#9c179e\"], [0.4444444444444444, \"#bd3786\"], [0.5555555555555556, \"#d8576b\"], [0.6666666666666666, \"#ed7953\"], [0.7777777777777778, \"#fb9f3a\"], [0.8888888888888888, \"#fdca26\"], [1.0, \"#f0f921\"]], \"sequentialminus\": [[0.0, \"#0d0887\"], [0.1111111111111111, \"#46039f\"], [0.2222222222222222, \"#7201a8\"], [0.3333333333333333, \"#9c179e\"], [0.4444444444444444, \"#bd3786\"], [0.5555555555555556, \"#d8576b\"], [0.6666666666666666, \"#ed7953\"], [0.7777777777777778, \"#fb9f3a\"], [0.8888888888888888, \"#fdca26\"], [1.0, \"#f0f921\"]]}, \"colorway\": [\"#636efa\", \"#EF553B\", \"#00cc96\", \"#ab63fa\", \"#FFA15A\", \"#19d3f3\", \"#FF6692\", \"#B6E880\", \"#FF97FF\", \"#FECB52\"], \"font\": {\"color\": \"#2a3f5f\"}, \"geo\": {\"bgcolor\": \"white\", \"lakecolor\": \"white\", \"landcolor\": \"#E5ECF6\", \"showlakes\": true, \"showland\": true, \"subunitcolor\": \"white\"}, \"hoverlabel\": {\"align\": \"left\"}, \"hovermode\": \"closest\", \"mapbox\": {\"style\": \"light\"}, \"paper_bgcolor\": \"white\", \"plot_bgcolor\": \"#E5ECF6\", \"polar\": {\"angularaxis\": {\"gridcolor\": \"white\", \"linecolor\": \"white\", \"ticks\": \"\"}, \"bgcolor\": \"#E5ECF6\", \"radialaxis\": {\"gridcolor\": \"white\", \"linecolor\": \"white\", \"ticks\": \"\"}}, \"scene\": {\"xaxis\": {\"backgroundcolor\": \"#E5ECF6\", \"gridcolor\": \"white\", \"gridwidth\": 2, \"linecolor\": \"white\", \"showbackground\": true, \"ticks\": \"\", \"zerolinecolor\": \"white\"}, \"yaxis\": {\"backgroundcolor\": \"#E5ECF6\", \"gridcolor\": \"white\", \"gridwidth\": 2, \"linecolor\": \"white\", \"showbackground\": true, \"ticks\": \"\", \"zerolinecolor\": \"white\"}, \"zaxis\": {\"backgroundcolor\": \"#E5ECF6\", \"gridcolor\": \"white\", \"gridwidth\": 2, \"linecolor\": \"white\", \"showbackground\": true, \"ticks\": \"\", \"zerolinecolor\": \"white\"}}, \"shapedefaults\": {\"line\": {\"color\": \"#2a3f5f\"}}, \"ternary\": {\"aaxis\": {\"gridcolor\": \"white\", \"linecolor\": \"white\", \"ticks\": \"\"}, \"baxis\": {\"gridcolor\": \"white\", \"linecolor\": \"white\", \"ticks\": \"\"}, \"bgcolor\": \"#E5ECF6\", \"caxis\": {\"gridcolor\": \"white\", \"linecolor\": \"white\", \"ticks\": \"\"}}, \"title\": {\"x\": 0.05}, \"xaxis\": {\"automargin\": true, \"gridcolor\": \"white\", \"linecolor\": \"white\", \"ticks\": \"\", \"title\": {\"standoff\": 15}, \"zerolinecolor\": \"white\", \"zerolinewidth\": 2}, \"yaxis\": {\"automargin\": true, \"gridcolor\": \"white\", \"linecolor\": \"white\", \"ticks\": \"\", \"title\": {\"standoff\": 15}, \"zerolinecolor\": \"white\", \"zerolinewidth\": 2}}}, \"title\": {\"text\": \"Parts Sales by Customer Discount Structure\"}, \"xaxis\": {\"anchor\": \"y\", \"domain\": [0.0, 1.0], \"title\": {\"text\": \"year\"}, \"type\": \"category\"}, \"yaxis\": {\"anchor\": \"x\", \"domain\": [0.0, 1.0], \"title\": {\"text\": \"total_sale_value\"}}},                        {\"responsive\": true}                    ).then(function(){\n",
       "                            \n",
       "var gd = document.getElementById('c5d5fe98-0be8-4044-81c0-eabd230c8c27');\n",
       "var x = new MutationObserver(function (mutations, observer) {{\n",
       "        var display = window.getComputedStyle(gd).display;\n",
       "        if (!display || display === 'none') {{\n",
       "            console.log([gd, 'removed!']);\n",
       "            Plotly.purge(gd);\n",
       "            observer.disconnect();\n",
       "        }}\n",
       "}});\n",
       "\n",
       "// Listen for the removal of the full notebook cells\n",
       "var notebookContainer = gd.closest('#notebook-container');\n",
       "if (notebookContainer) {{\n",
       "    x.observe(notebookContainer, {childList: true});\n",
       "}}\n",
       "\n",
       "// Listen for the clearing of the current output cell\n",
       "var outputEl = gd.closest('.output');\n",
       "if (outputEl) {{\n",
       "    x.observe(outputEl, {childList: true});\n",
       "}}\n",
       "\n",
       "                        })                };                });            </script>        </div>"
      ]
     },
     "metadata": {},
     "output_type": "display_data"
    }
   ],
   "source": [
    "fig = px.bar(saleval, x = 'year', y = 'total_sale_value', color = 'pricing_structure', title='Parts Sales by Customer Discount Structure')\n",
    "fig.update_xaxes(type='category') # fix x axis to make the years look nice\n",
    "fig.show()"
   ]
  },
  {
   "cell_type": "markdown",
   "metadata": {},
   "source": [
    "Sales growth has been underpinned by consistently increasing sales to premier customers. Midrange sales have also increased, possibly indicating a change in pricing strategy."
   ]
  },
  {
   "cell_type": "markdown",
   "metadata": {},
   "source": [
    "## CUSTOMER ACTIVITY ANALYSIS"
   ]
  },
  {
   "cell_type": "markdown",
   "metadata": {},
   "source": [
    "Scatter plots are designed to visualize the relationship between two values. It is important to confirm that a customer sales activity justifies their discount structure. The graph below measures each customers sales activity by aggregate line items sold against total profit generated. <br>\n",
    "Scatter plots can also be used for inventory profitability analysis."
   ]
  },
  {
   "cell_type": "code",
   "execution_count": 9,
   "metadata": {},
   "outputs": [],
   "source": [
    "customers = pd.pivot_table(df, index = ['account'], values = ['invoice_number','part_number','total_sale_value','profit','pricing_structure'], aggfunc = {'invoice_number':'count','part_number':'count','total_sale_value':'sum','profit':'sum','pricing_structure':'first'})\n",
    "customers = customers.rename(columns = {'invoice_number':'total_invoices', 'part_number':'transaction_lines'})\n",
    "customers = customers[['total_invoices','transaction_lines','total_sale_value','profit','pricing_structure']]\n",
    "customers = customers.reset_index(drop=False)\n",
    "customers = customers.sort_values(by=['pricing_structure'], ascending = True)"
   ]
  },
  {
   "cell_type": "code",
   "execution_count": 10,
   "metadata": {},
   "outputs": [
    {
     "data": {
      "application/vnd.plotly.v1+json": {
       "config": {
        "plotlyServerURL": "https://plot.ly"
       },
       "data": [
        {
         "hovertemplate": "<b>%{hovertext}</b><br><br>pricing_structure=1. Premier<br>transaction_lines=%{x}<br>profit=%{y}<extra></extra>",
         "hovertext": [
          "TENPIPES",
          "ALLSECTOR",
          "MAIN ASPECT",
          "INSTAGES",
          "ELEMERA",
          "RIGFACTORY"
         ],
         "legendgroup": "1. Premier",
         "marker": {
          "color": "#636efa",
          "symbol": "circle"
         },
         "mode": "markers",
         "name": "1. Premier",
         "orientation": "v",
         "showlegend": true,
         "type": "scatter",
         "x": [
          120,
          825,
          14868,
          1428,
          49525,
          260
         ],
         "xaxis": "x",
         "y": [
          5752.630665000001,
          29305.353284999936,
          444618.8322300027,
          36644.194827000065,
          2019455.8272000074,
          12081.916080000003
         ],
         "yaxis": "y"
        },
        {
         "hovertemplate": "<b>%{hovertext}</b><br><br>pricing_structure=2. Mid<br>transaction_lines=%{x}<br>profit=%{y}<extra></extra>",
         "hovertext": [
          "ZONOLOGY",
          "EXOPARTS",
          "SKITORY",
          "GFORCE HIRE",
          "SEGMENS",
          "INFINITE HORSEPOWER",
          "KEYTENET",
          "PARTSLAB",
          "WORKHOOK",
          "PARTICUS",
          "GRANT & ATTRACTORS",
          "DISTICS",
          "NATICS",
          "CENTRAL ASPECT",
          "COGFACTOR"
         ],
         "legendgroup": "2. Mid",
         "marker": {
          "color": "#EF553B",
          "symbol": "circle"
         },
         "mode": "markers",
         "name": "2. Mid",
         "orientation": "v",
         "showlegend": true,
         "type": "scatter",
         "x": [
          261,
          143,
          630,
          163,
          1175,
          26,
          805,
          5541,
          50,
          345,
          92,
          2121,
          1261,
          528,
          354
         ],
         "xaxis": "x",
         "y": [
          24141.959550000003,
          11628.442890000004,
          46317.087360000056,
          25148.892195000004,
          51739.84620000003,
          2467.4718599999997,
          99457.32950999991,
          231427.47982499943,
          3613.2684749999994,
          20193.342119999983,
          3021.5751300000006,
          132628.01467500013,
          166203.82790999988,
          52217.86216500001,
          40280.60610000003
         ],
         "yaxis": "y"
        },
        {
         "hovertemplate": "<b>%{hovertext}</b><br><br>pricing_structure=3. Retail<br>transaction_lines=%{x}<br>profit=%{y}<extra></extra>",
         "hovertext": [
          "SUNRISE PARTS",
          "READY RECRUITS",
          "TPARTS",
          "TRIBAL MACHINERY",
          "TRICOLOR SERVICE PARTNERS",
          "PRINCIPLE MACHINERY",
          "PRIMARY SOLUTIONS",
          "PREAUTHORIZED SOLUTIONS",
          "POWERCRUIT",
          "POLDEN & WRITE",
          "TRUCK SERVICE & SPARES",
          "WESTSIDE MACHINERY & PARTS",
          "PARTSBASE",
          "WHITE HORSE HIRE",
          "WORK BUCKET",
          "PART SMART DIESEL ENGINE REPAIR SERVICE",
          "OBJECTRIC",
          "NORTH SHORE HIRE",
          "RED SEA HIRE",
          "RENEGADE PTY LTD",
          "RENTED GEAR 4 U",
          "THE REPAIRMAN",
          "SUBSTRUCTURE PTY",
          "SUPPLY SECTOR SERVICES PTY LTD",
          "SUBMODIES",
          "STRUCTURAL PTY LTD",
          "STEEL WHEELS",
          "SYSNIA",
          "STAVS BRICKLAYING",
          "STACKBUILD",
          "SPARKIES SHED",
          "NATIONWIDE REFRIGERATED TRANSPORT",
          "SOUTHLAND",
          "SOUTHERN STOCKYARDS MACHINES & SERVICE",
          "THE DIESEL ENGINE PLACE",
          "SHADOW CONSTRUCTION",
          "THE HIGHLANDER EQUIPMENT SERVICE",
          "THE RAILROADERS",
          "SAFARI SOLUTIONS",
          "SUPER CONSTRUCTION EQUIPMENT",
          "SPARES PTY LTD",
          "ACTIVATION PTY LTD",
          "MOTORS PTY",
          "ELEMENTIZE",
          "EASY STREET MACHINERY SOLUTIONS",
          "DIVIXA",
          "DEPLOY",
          "DEMOLITO PTY LTD",
          "DAVES CONSTRUCTION EQUIPMENT",
          "DANGELO AND DONELLY MACHINE REPAIRMAN",
          "CONSTRUCT BY DESIGN",
          "CONCRETE.COM.AU",
          "ENABLER MACHINERY SOLUTIONS",
          "CHUNKS AUTO WRECKERS",
          "CANDID PARTS & SERVICE",
          "CALIBRE CONSTRUCTION COMPANY",
          "BRONIES WORKPLACE SOLUTIONS",
          "BOORTZ PARTS DIESEL ENGINE REPAIR SERVICE",
          "BOBS SERVICING & DELIVERY",
          "BLUE PLANET CONSTRUCTION",
          "BLACK HILLS HIRE",
          "ANYVEHICLE REPAIRS",
          "ADERN & CO",
          "CERTIFIED HIRE",
          "EXCHANGE CONSTRUCTION",
          "FACTORY DIRECT",
          "FARMGISTICS",
          "MONUMENTAL",
          "MODELICS",
          "MILLING & ELECTRICS",
          "MERCENARY MACHINERY SOLUTIONS",
          "MASONRY & MORE",
          "MAD PROPS PTY LTD",
          "MACHINERY TOOLING SOLUTIONS",
          "MACHINEJACK",
          "LINKED MACHINES",
          "KINGFISH REGIONAL SERVICES",
          "INCENTIVIZED WORKPLACE PARTNERS",
          "HIRESPACE",
          "HIRELINE",
          "HIREHAUS",
          "HEAVY DUTY CONSTRUCTION",
          "HEADHUNTERS ENGINEERING",
          "GOHIRE",
          "FUTURISTIC",
          "FORMIDABLE ENGINEERING",
          "FOR HIRE",
          "FIRST RATE CONSTRUCTION TRADES",
          "MULTICS",
          "METAL FUEL"
         ],
         "legendgroup": "3. Retail",
         "marker": {
          "color": "#00cc96",
          "symbol": "circle"
         },
         "mode": "markers",
         "name": "3. Retail",
         "orientation": "v",
         "showlegend": true,
         "type": "scatter",
         "x": [
          5,
          52,
          2270,
          8,
          1,
          44,
          24,
          3,
          19,
          48,
          10,
          5,
          1828,
          79,
          2,
          4,
          478,
          104,
          61,
          53,
          3,
          20,
          3,
          3,
          3935,
          16,
          10,
          216,
          1,
          12,
          4,
          1,
          123,
          1,
          5,
          61,
          6,
          1,
          2,
          6,
          1,
          1,
          2,
          1081,
          42,
          294,
          69,
          12,
          7,
          4,
          29,
          7,
          19,
          1,
          34,
          27,
          1,
          6,
          1,
          51,
          124,
          1,
          20,
          84,
          36,
          2,
          9,
          18,
          181,
          1,
          18,
          3,
          11,
          7,
          12,
          117,
          1,
          13,
          153,
          115,
          136,
          2,
          23,
          97,
          5,
          13,
          2,
          19,
          713,
          11
         ],
         "xaxis": "x",
         "y": [
          931.5737999999999,
          3986.309249999999,
          150898.2659999999,
          244.22220000000002,
          58.9095,
          10215.215100000001,
          2779.11765,
          302.4648,
          7361.4987,
          16966.143765,
          3069.78345,
          277.61850000000004,
          287962.23870000045,
          13291.522200000003,
          62.6202,
          167.80229999999997,
          76826.29005,
          9644.365799999994,
          10141.103700000003,
          5165.855280000001,
          153.60930000000002,
          1627.7575500000003,
          428.8851,
          1644.6267,
          349777.45620000025,
          978.5304,
          3162.14055,
          18654.89445,
          341.99145,
          2920.58595,
          2033.40375,
          265.7511,
          12153.510359999998,
          321.0012,
          41341.7124,
          14236.211700000002,
          82.03724999999999,
          362.06685,
          742.9779,
          4805.7155999999995,
          73.55565,
          38.2356,
          877.572,
          118458.99144,
          1644.2505,
          35535.05685000001,
          7195.3038,
          1183.6107000000002,
          575.5005,
          3619.61685,
          4932.443700000002,
          323.34389999999996,
          4002.38325,
          165.84435,
          2771.5765499999998,
          1633.93236,
          135.21825,
          1284.86835,
          478.58625,
          6229.680480000002,
          14543.396100000002,
          534.8025,
          2728.9890000000005,
          5425.479450000001,
          6557.1147,
          315.495,
          567.0018,
          2773.4148,
          34902.878399999994,
          2937.78,
          3094.3903499999997,
          80.74619999999999,
          463.00815000000006,
          845.3556,
          1058.40792,
          15818.5944,
          45.20385,
          1566.2574000000002,
          65762.8893,
          7310.574900000001,
          8632.401479999999,
          52.1379,
          3561.5743200000006,
          20892.480750000006,
          630.5454,
          2000.14425,
          63.32984999999999,
          2318.11875,
          104254.07444999999,
          3951.7074000000002
         ],
         "yaxis": "y"
        }
       ],
       "layout": {
        "legend": {
         "title": {
          "text": "pricing_structure"
         },
         "tracegroupgap": 0
        },
        "template": {
         "data": {
          "bar": [
           {
            "error_x": {
             "color": "#2a3f5f"
            },
            "error_y": {
             "color": "#2a3f5f"
            },
            "marker": {
             "line": {
              "color": "#E5ECF6",
              "width": 0.5
             }
            },
            "type": "bar"
           }
          ],
          "barpolar": [
           {
            "marker": {
             "line": {
              "color": "#E5ECF6",
              "width": 0.5
             }
            },
            "type": "barpolar"
           }
          ],
          "carpet": [
           {
            "aaxis": {
             "endlinecolor": "#2a3f5f",
             "gridcolor": "white",
             "linecolor": "white",
             "minorgridcolor": "white",
             "startlinecolor": "#2a3f5f"
            },
            "baxis": {
             "endlinecolor": "#2a3f5f",
             "gridcolor": "white",
             "linecolor": "white",
             "minorgridcolor": "white",
             "startlinecolor": "#2a3f5f"
            },
            "type": "carpet"
           }
          ],
          "choropleth": [
           {
            "colorbar": {
             "outlinewidth": 0,
             "ticks": ""
            },
            "type": "choropleth"
           }
          ],
          "contour": [
           {
            "colorbar": {
             "outlinewidth": 0,
             "ticks": ""
            },
            "colorscale": [
             [
              0,
              "#0d0887"
             ],
             [
              0.1111111111111111,
              "#46039f"
             ],
             [
              0.2222222222222222,
              "#7201a8"
             ],
             [
              0.3333333333333333,
              "#9c179e"
             ],
             [
              0.4444444444444444,
              "#bd3786"
             ],
             [
              0.5555555555555556,
              "#d8576b"
             ],
             [
              0.6666666666666666,
              "#ed7953"
             ],
             [
              0.7777777777777778,
              "#fb9f3a"
             ],
             [
              0.8888888888888888,
              "#fdca26"
             ],
             [
              1,
              "#f0f921"
             ]
            ],
            "type": "contour"
           }
          ],
          "contourcarpet": [
           {
            "colorbar": {
             "outlinewidth": 0,
             "ticks": ""
            },
            "type": "contourcarpet"
           }
          ],
          "heatmap": [
           {
            "colorbar": {
             "outlinewidth": 0,
             "ticks": ""
            },
            "colorscale": [
             [
              0,
              "#0d0887"
             ],
             [
              0.1111111111111111,
              "#46039f"
             ],
             [
              0.2222222222222222,
              "#7201a8"
             ],
             [
              0.3333333333333333,
              "#9c179e"
             ],
             [
              0.4444444444444444,
              "#bd3786"
             ],
             [
              0.5555555555555556,
              "#d8576b"
             ],
             [
              0.6666666666666666,
              "#ed7953"
             ],
             [
              0.7777777777777778,
              "#fb9f3a"
             ],
             [
              0.8888888888888888,
              "#fdca26"
             ],
             [
              1,
              "#f0f921"
             ]
            ],
            "type": "heatmap"
           }
          ],
          "heatmapgl": [
           {
            "colorbar": {
             "outlinewidth": 0,
             "ticks": ""
            },
            "colorscale": [
             [
              0,
              "#0d0887"
             ],
             [
              0.1111111111111111,
              "#46039f"
             ],
             [
              0.2222222222222222,
              "#7201a8"
             ],
             [
              0.3333333333333333,
              "#9c179e"
             ],
             [
              0.4444444444444444,
              "#bd3786"
             ],
             [
              0.5555555555555556,
              "#d8576b"
             ],
             [
              0.6666666666666666,
              "#ed7953"
             ],
             [
              0.7777777777777778,
              "#fb9f3a"
             ],
             [
              0.8888888888888888,
              "#fdca26"
             ],
             [
              1,
              "#f0f921"
             ]
            ],
            "type": "heatmapgl"
           }
          ],
          "histogram": [
           {
            "marker": {
             "colorbar": {
              "outlinewidth": 0,
              "ticks": ""
             }
            },
            "type": "histogram"
           }
          ],
          "histogram2d": [
           {
            "colorbar": {
             "outlinewidth": 0,
             "ticks": ""
            },
            "colorscale": [
             [
              0,
              "#0d0887"
             ],
             [
              0.1111111111111111,
              "#46039f"
             ],
             [
              0.2222222222222222,
              "#7201a8"
             ],
             [
              0.3333333333333333,
              "#9c179e"
             ],
             [
              0.4444444444444444,
              "#bd3786"
             ],
             [
              0.5555555555555556,
              "#d8576b"
             ],
             [
              0.6666666666666666,
              "#ed7953"
             ],
             [
              0.7777777777777778,
              "#fb9f3a"
             ],
             [
              0.8888888888888888,
              "#fdca26"
             ],
             [
              1,
              "#f0f921"
             ]
            ],
            "type": "histogram2d"
           }
          ],
          "histogram2dcontour": [
           {
            "colorbar": {
             "outlinewidth": 0,
             "ticks": ""
            },
            "colorscale": [
             [
              0,
              "#0d0887"
             ],
             [
              0.1111111111111111,
              "#46039f"
             ],
             [
              0.2222222222222222,
              "#7201a8"
             ],
             [
              0.3333333333333333,
              "#9c179e"
             ],
             [
              0.4444444444444444,
              "#bd3786"
             ],
             [
              0.5555555555555556,
              "#d8576b"
             ],
             [
              0.6666666666666666,
              "#ed7953"
             ],
             [
              0.7777777777777778,
              "#fb9f3a"
             ],
             [
              0.8888888888888888,
              "#fdca26"
             ],
             [
              1,
              "#f0f921"
             ]
            ],
            "type": "histogram2dcontour"
           }
          ],
          "mesh3d": [
           {
            "colorbar": {
             "outlinewidth": 0,
             "ticks": ""
            },
            "type": "mesh3d"
           }
          ],
          "parcoords": [
           {
            "line": {
             "colorbar": {
              "outlinewidth": 0,
              "ticks": ""
             }
            },
            "type": "parcoords"
           }
          ],
          "pie": [
           {
            "automargin": true,
            "type": "pie"
           }
          ],
          "scatter": [
           {
            "marker": {
             "colorbar": {
              "outlinewidth": 0,
              "ticks": ""
             }
            },
            "type": "scatter"
           }
          ],
          "scatter3d": [
           {
            "line": {
             "colorbar": {
              "outlinewidth": 0,
              "ticks": ""
             }
            },
            "marker": {
             "colorbar": {
              "outlinewidth": 0,
              "ticks": ""
             }
            },
            "type": "scatter3d"
           }
          ],
          "scattercarpet": [
           {
            "marker": {
             "colorbar": {
              "outlinewidth": 0,
              "ticks": ""
             }
            },
            "type": "scattercarpet"
           }
          ],
          "scattergeo": [
           {
            "marker": {
             "colorbar": {
              "outlinewidth": 0,
              "ticks": ""
             }
            },
            "type": "scattergeo"
           }
          ],
          "scattergl": [
           {
            "marker": {
             "colorbar": {
              "outlinewidth": 0,
              "ticks": ""
             }
            },
            "type": "scattergl"
           }
          ],
          "scattermapbox": [
           {
            "marker": {
             "colorbar": {
              "outlinewidth": 0,
              "ticks": ""
             }
            },
            "type": "scattermapbox"
           }
          ],
          "scatterpolar": [
           {
            "marker": {
             "colorbar": {
              "outlinewidth": 0,
              "ticks": ""
             }
            },
            "type": "scatterpolar"
           }
          ],
          "scatterpolargl": [
           {
            "marker": {
             "colorbar": {
              "outlinewidth": 0,
              "ticks": ""
             }
            },
            "type": "scatterpolargl"
           }
          ],
          "scatterternary": [
           {
            "marker": {
             "colorbar": {
              "outlinewidth": 0,
              "ticks": ""
             }
            },
            "type": "scatterternary"
           }
          ],
          "surface": [
           {
            "colorbar": {
             "outlinewidth": 0,
             "ticks": ""
            },
            "colorscale": [
             [
              0,
              "#0d0887"
             ],
             [
              0.1111111111111111,
              "#46039f"
             ],
             [
              0.2222222222222222,
              "#7201a8"
             ],
             [
              0.3333333333333333,
              "#9c179e"
             ],
             [
              0.4444444444444444,
              "#bd3786"
             ],
             [
              0.5555555555555556,
              "#d8576b"
             ],
             [
              0.6666666666666666,
              "#ed7953"
             ],
             [
              0.7777777777777778,
              "#fb9f3a"
             ],
             [
              0.8888888888888888,
              "#fdca26"
             ],
             [
              1,
              "#f0f921"
             ]
            ],
            "type": "surface"
           }
          ],
          "table": [
           {
            "cells": {
             "fill": {
              "color": "#EBF0F8"
             },
             "line": {
              "color": "white"
             }
            },
            "header": {
             "fill": {
              "color": "#C8D4E3"
             },
             "line": {
              "color": "white"
             }
            },
            "type": "table"
           }
          ]
         },
         "layout": {
          "annotationdefaults": {
           "arrowcolor": "#2a3f5f",
           "arrowhead": 0,
           "arrowwidth": 1
          },
          "coloraxis": {
           "colorbar": {
            "outlinewidth": 0,
            "ticks": ""
           }
          },
          "colorscale": {
           "diverging": [
            [
             0,
             "#8e0152"
            ],
            [
             0.1,
             "#c51b7d"
            ],
            [
             0.2,
             "#de77ae"
            ],
            [
             0.3,
             "#f1b6da"
            ],
            [
             0.4,
             "#fde0ef"
            ],
            [
             0.5,
             "#f7f7f7"
            ],
            [
             0.6,
             "#e6f5d0"
            ],
            [
             0.7,
             "#b8e186"
            ],
            [
             0.8,
             "#7fbc41"
            ],
            [
             0.9,
             "#4d9221"
            ],
            [
             1,
             "#276419"
            ]
           ],
           "sequential": [
            [
             0,
             "#0d0887"
            ],
            [
             0.1111111111111111,
             "#46039f"
            ],
            [
             0.2222222222222222,
             "#7201a8"
            ],
            [
             0.3333333333333333,
             "#9c179e"
            ],
            [
             0.4444444444444444,
             "#bd3786"
            ],
            [
             0.5555555555555556,
             "#d8576b"
            ],
            [
             0.6666666666666666,
             "#ed7953"
            ],
            [
             0.7777777777777778,
             "#fb9f3a"
            ],
            [
             0.8888888888888888,
             "#fdca26"
            ],
            [
             1,
             "#f0f921"
            ]
           ],
           "sequentialminus": [
            [
             0,
             "#0d0887"
            ],
            [
             0.1111111111111111,
             "#46039f"
            ],
            [
             0.2222222222222222,
             "#7201a8"
            ],
            [
             0.3333333333333333,
             "#9c179e"
            ],
            [
             0.4444444444444444,
             "#bd3786"
            ],
            [
             0.5555555555555556,
             "#d8576b"
            ],
            [
             0.6666666666666666,
             "#ed7953"
            ],
            [
             0.7777777777777778,
             "#fb9f3a"
            ],
            [
             0.8888888888888888,
             "#fdca26"
            ],
            [
             1,
             "#f0f921"
            ]
           ]
          },
          "colorway": [
           "#636efa",
           "#EF553B",
           "#00cc96",
           "#ab63fa",
           "#FFA15A",
           "#19d3f3",
           "#FF6692",
           "#B6E880",
           "#FF97FF",
           "#FECB52"
          ],
          "font": {
           "color": "#2a3f5f"
          },
          "geo": {
           "bgcolor": "white",
           "lakecolor": "white",
           "landcolor": "#E5ECF6",
           "showlakes": true,
           "showland": true,
           "subunitcolor": "white"
          },
          "hoverlabel": {
           "align": "left"
          },
          "hovermode": "closest",
          "mapbox": {
           "style": "light"
          },
          "paper_bgcolor": "white",
          "plot_bgcolor": "#E5ECF6",
          "polar": {
           "angularaxis": {
            "gridcolor": "white",
            "linecolor": "white",
            "ticks": ""
           },
           "bgcolor": "#E5ECF6",
           "radialaxis": {
            "gridcolor": "white",
            "linecolor": "white",
            "ticks": ""
           }
          },
          "scene": {
           "xaxis": {
            "backgroundcolor": "#E5ECF6",
            "gridcolor": "white",
            "gridwidth": 2,
            "linecolor": "white",
            "showbackground": true,
            "ticks": "",
            "zerolinecolor": "white"
           },
           "yaxis": {
            "backgroundcolor": "#E5ECF6",
            "gridcolor": "white",
            "gridwidth": 2,
            "linecolor": "white",
            "showbackground": true,
            "ticks": "",
            "zerolinecolor": "white"
           },
           "zaxis": {
            "backgroundcolor": "#E5ECF6",
            "gridcolor": "white",
            "gridwidth": 2,
            "linecolor": "white",
            "showbackground": true,
            "ticks": "",
            "zerolinecolor": "white"
           }
          },
          "shapedefaults": {
           "line": {
            "color": "#2a3f5f"
           }
          },
          "ternary": {
           "aaxis": {
            "gridcolor": "white",
            "linecolor": "white",
            "ticks": ""
           },
           "baxis": {
            "gridcolor": "white",
            "linecolor": "white",
            "ticks": ""
           },
           "bgcolor": "#E5ECF6",
           "caxis": {
            "gridcolor": "white",
            "linecolor": "white",
            "ticks": ""
           }
          },
          "title": {
           "x": 0.05
          },
          "xaxis": {
           "automargin": true,
           "gridcolor": "white",
           "linecolor": "white",
           "ticks": "",
           "title": {
            "standoff": 15
           },
           "zerolinecolor": "white",
           "zerolinewidth": 2
          },
          "yaxis": {
           "automargin": true,
           "gridcolor": "white",
           "linecolor": "white",
           "ticks": "",
           "title": {
            "standoff": 15
           },
           "zerolinecolor": "white",
           "zerolinewidth": 2
          }
         }
        },
        "title": {
         "text": "Total Revenue vs Transaction Lines per Customer"
        },
        "xaxis": {
         "anchor": "y",
         "domain": [
          0,
          1
         ],
         "title": {
          "text": "transaction_lines"
         },
         "type": "log"
        },
        "yaxis": {
         "anchor": "x",
         "domain": [
          0,
          1
         ],
         "title": {
          "text": "profit"
         },
         "type": "log"
        }
       }
      },
      "text/html": [
       "<div>                            <div id=\"f2c20952-f7fc-4dc7-8507-e4aa06543047\" class=\"plotly-graph-div\" style=\"height:525px; width:100%;\"></div>            <script type=\"text/javascript\">                require([\"plotly\"], function(Plotly) {                    window.PLOTLYENV=window.PLOTLYENV || {};                                    if (document.getElementById(\"f2c20952-f7fc-4dc7-8507-e4aa06543047\")) {                    Plotly.newPlot(                        \"f2c20952-f7fc-4dc7-8507-e4aa06543047\",                        [{\"hovertemplate\": \"<b>%{hovertext}</b><br><br>pricing_structure=1. Premier<br>transaction_lines=%{x}<br>profit=%{y}<extra></extra>\", \"hovertext\": [\"TENPIPES\", \"ALLSECTOR\", \"MAIN ASPECT\", \"INSTAGES\", \"ELEMERA\", \"RIGFACTORY\"], \"legendgroup\": \"1. Premier\", \"marker\": {\"color\": \"#636efa\", \"symbol\": \"circle\"}, \"mode\": \"markers\", \"name\": \"1. Premier\", \"orientation\": \"v\", \"showlegend\": true, \"type\": \"scatter\", \"x\": [120, 825, 14868, 1428, 49525, 260], \"xaxis\": \"x\", \"y\": [5752.630665000001, 29305.353284999936, 444618.8322300027, 36644.194827000065, 2019455.8272000074, 12081.916080000003], \"yaxis\": \"y\"}, {\"hovertemplate\": \"<b>%{hovertext}</b><br><br>pricing_structure=2. Mid<br>transaction_lines=%{x}<br>profit=%{y}<extra></extra>\", \"hovertext\": [\"ZONOLOGY\", \"EXOPARTS\", \"SKITORY\", \"GFORCE HIRE\", \"SEGMENS\", \"INFINITE HORSEPOWER\", \"KEYTENET\", \"PARTSLAB\", \"WORKHOOK\", \"PARTICUS\", \"GRANT & ATTRACTORS\", \"DISTICS\", \"NATICS\", \"CENTRAL ASPECT\", \"COGFACTOR\"], \"legendgroup\": \"2. Mid\", \"marker\": {\"color\": \"#EF553B\", \"symbol\": \"circle\"}, \"mode\": \"markers\", \"name\": \"2. Mid\", \"orientation\": \"v\", \"showlegend\": true, \"type\": \"scatter\", \"x\": [261, 143, 630, 163, 1175, 26, 805, 5541, 50, 345, 92, 2121, 1261, 528, 354], \"xaxis\": \"x\", \"y\": [24141.959550000003, 11628.442890000004, 46317.087360000056, 25148.892195000004, 51739.84620000003, 2467.4718599999997, 99457.32950999991, 231427.47982499943, 3613.2684749999994, 20193.342119999983, 3021.5751300000006, 132628.01467500013, 166203.82790999988, 52217.86216500001, 40280.60610000003], \"yaxis\": \"y\"}, {\"hovertemplate\": \"<b>%{hovertext}</b><br><br>pricing_structure=3. Retail<br>transaction_lines=%{x}<br>profit=%{y}<extra></extra>\", \"hovertext\": [\"SUNRISE PARTS\", \"READY RECRUITS\", \"TPARTS\", \"TRIBAL MACHINERY\", \"TRICOLOR SERVICE PARTNERS\", \"PRINCIPLE MACHINERY\", \"PRIMARY SOLUTIONS\", \"PREAUTHORIZED SOLUTIONS\", \"POWERCRUIT\", \"POLDEN & WRITE\", \"TRUCK SERVICE & SPARES\", \"WESTSIDE MACHINERY & PARTS\", \"PARTSBASE\", \"WHITE HORSE HIRE\", \"WORK BUCKET\", \"PART SMART DIESEL ENGINE REPAIR SERVICE\", \"OBJECTRIC\", \"NORTH SHORE HIRE\", \"RED SEA HIRE\", \"RENEGADE PTY LTD\", \"RENTED GEAR 4 U\", \"THE REPAIRMAN\", \"SUBSTRUCTURE PTY\", \"SUPPLY SECTOR SERVICES PTY LTD\", \"SUBMODIES\", \"STRUCTURAL PTY LTD\", \"STEEL WHEELS\", \"SYSNIA\", \"STAVS BRICKLAYING\", \"STACKBUILD\", \"SPARKIES SHED\", \"NATIONWIDE REFRIGERATED TRANSPORT\", \"SOUTHLAND\", \"SOUTHERN STOCKYARDS MACHINES & SERVICE\", \"THE DIESEL ENGINE PLACE\", \"SHADOW CONSTRUCTION\", \"THE HIGHLANDER EQUIPMENT SERVICE\", \"THE RAILROADERS\", \"SAFARI SOLUTIONS\", \"SUPER CONSTRUCTION EQUIPMENT\", \"SPARES PTY LTD\", \"ACTIVATION PTY LTD\", \"MOTORS PTY\", \"ELEMENTIZE\", \"EASY STREET MACHINERY SOLUTIONS\", \"DIVIXA\", \"DEPLOY\", \"DEMOLITO PTY LTD\", \"DAVES CONSTRUCTION EQUIPMENT\", \"DANGELO AND DONELLY MACHINE REPAIRMAN\", \"CONSTRUCT BY DESIGN\", \"CONCRETE.COM.AU\", \"ENABLER MACHINERY SOLUTIONS\", \"CHUNKS AUTO WRECKERS\", \"CANDID PARTS & SERVICE\", \"CALIBRE CONSTRUCTION COMPANY\", \"BRONIES WORKPLACE SOLUTIONS\", \"BOORTZ PARTS DIESEL ENGINE REPAIR SERVICE\", \"BOBS SERVICING & DELIVERY\", \"BLUE PLANET CONSTRUCTION\", \"BLACK HILLS HIRE\", \"ANYVEHICLE REPAIRS\", \"ADERN & CO\", \"CERTIFIED HIRE\", \"EXCHANGE CONSTRUCTION\", \"FACTORY DIRECT\", \"FARMGISTICS\", \"MONUMENTAL\", \"MODELICS\", \"MILLING & ELECTRICS\", \"MERCENARY MACHINERY SOLUTIONS\", \"MASONRY & MORE\", \"MAD PROPS PTY LTD\", \"MACHINERY TOOLING SOLUTIONS\", \"MACHINEJACK\", \"LINKED MACHINES\", \"KINGFISH REGIONAL SERVICES\", \"INCENTIVIZED WORKPLACE PARTNERS\", \"HIRESPACE\", \"HIRELINE\", \"HIREHAUS\", \"HEAVY DUTY CONSTRUCTION\", \"HEADHUNTERS ENGINEERING\", \"GOHIRE\", \"FUTURISTIC\", \"FORMIDABLE ENGINEERING\", \"FOR HIRE\", \"FIRST RATE CONSTRUCTION TRADES\", \"MULTICS\", \"METAL FUEL\"], \"legendgroup\": \"3. Retail\", \"marker\": {\"color\": \"#00cc96\", \"symbol\": \"circle\"}, \"mode\": \"markers\", \"name\": \"3. Retail\", \"orientation\": \"v\", \"showlegend\": true, \"type\": \"scatter\", \"x\": [5, 52, 2270, 8, 1, 44, 24, 3, 19, 48, 10, 5, 1828, 79, 2, 4, 478, 104, 61, 53, 3, 20, 3, 3, 3935, 16, 10, 216, 1, 12, 4, 1, 123, 1, 5, 61, 6, 1, 2, 6, 1, 1, 2, 1081, 42, 294, 69, 12, 7, 4, 29, 7, 19, 1, 34, 27, 1, 6, 1, 51, 124, 1, 20, 84, 36, 2, 9, 18, 181, 1, 18, 3, 11, 7, 12, 117, 1, 13, 153, 115, 136, 2, 23, 97, 5, 13, 2, 19, 713, 11], \"xaxis\": \"x\", \"y\": [931.5737999999999, 3986.309249999999, 150898.2659999999, 244.22220000000002, 58.9095, 10215.215100000001, 2779.11765, 302.4648, 7361.4987, 16966.143765, 3069.78345, 277.61850000000004, 287962.23870000045, 13291.522200000003, 62.6202, 167.80229999999997, 76826.29005, 9644.365799999994, 10141.103700000003, 5165.855280000001, 153.60930000000002, 1627.7575500000003, 428.8851, 1644.6267, 349777.45620000025, 978.5304, 3162.14055, 18654.89445, 341.99145, 2920.58595, 2033.40375, 265.7511, 12153.510359999998, 321.0012, 41341.7124, 14236.211700000002, 82.03724999999999, 362.06685, 742.9779, 4805.7155999999995, 73.55565, 38.2356, 877.572, 118458.99144, 1644.2505, 35535.05685000001, 7195.3038, 1183.6107000000002, 575.5005, 3619.61685, 4932.443700000002, 323.34389999999996, 4002.38325, 165.84435, 2771.5765499999998, 1633.93236, 135.21825, 1284.86835, 478.58625, 6229.680480000002, 14543.396100000002, 534.8025, 2728.9890000000005, 5425.479450000001, 6557.1147, 315.495, 567.0018, 2773.4148, 34902.878399999994, 2937.78, 3094.3903499999997, 80.74619999999999, 463.00815000000006, 845.3556, 1058.40792, 15818.5944, 45.20385, 1566.2574000000002, 65762.8893, 7310.574900000001, 8632.401479999999, 52.1379, 3561.5743200000006, 20892.480750000006, 630.5454, 2000.14425, 63.32984999999999, 2318.11875, 104254.07444999999, 3951.7074000000002], \"yaxis\": \"y\"}],                        {\"legend\": {\"title\": {\"text\": \"pricing_structure\"}, \"tracegroupgap\": 0}, \"template\": {\"data\": {\"bar\": [{\"error_x\": {\"color\": \"#2a3f5f\"}, \"error_y\": {\"color\": \"#2a3f5f\"}, \"marker\": {\"line\": {\"color\": \"#E5ECF6\", \"width\": 0.5}}, \"type\": \"bar\"}], \"barpolar\": [{\"marker\": {\"line\": {\"color\": \"#E5ECF6\", \"width\": 0.5}}, \"type\": \"barpolar\"}], \"carpet\": [{\"aaxis\": {\"endlinecolor\": \"#2a3f5f\", \"gridcolor\": \"white\", \"linecolor\": \"white\", \"minorgridcolor\": \"white\", \"startlinecolor\": \"#2a3f5f\"}, \"baxis\": {\"endlinecolor\": \"#2a3f5f\", \"gridcolor\": \"white\", \"linecolor\": \"white\", \"minorgridcolor\": \"white\", \"startlinecolor\": \"#2a3f5f\"}, \"type\": \"carpet\"}], \"choropleth\": [{\"colorbar\": {\"outlinewidth\": 0, \"ticks\": \"\"}, \"type\": \"choropleth\"}], \"contour\": [{\"colorbar\": {\"outlinewidth\": 0, \"ticks\": \"\"}, \"colorscale\": [[0.0, \"#0d0887\"], [0.1111111111111111, \"#46039f\"], [0.2222222222222222, \"#7201a8\"], [0.3333333333333333, \"#9c179e\"], [0.4444444444444444, \"#bd3786\"], [0.5555555555555556, \"#d8576b\"], [0.6666666666666666, \"#ed7953\"], [0.7777777777777778, \"#fb9f3a\"], [0.8888888888888888, \"#fdca26\"], [1.0, \"#f0f921\"]], \"type\": \"contour\"}], \"contourcarpet\": [{\"colorbar\": {\"outlinewidth\": 0, \"ticks\": \"\"}, \"type\": \"contourcarpet\"}], \"heatmap\": [{\"colorbar\": {\"outlinewidth\": 0, \"ticks\": \"\"}, \"colorscale\": [[0.0, \"#0d0887\"], [0.1111111111111111, \"#46039f\"], [0.2222222222222222, \"#7201a8\"], [0.3333333333333333, \"#9c179e\"], [0.4444444444444444, \"#bd3786\"], [0.5555555555555556, \"#d8576b\"], [0.6666666666666666, \"#ed7953\"], [0.7777777777777778, \"#fb9f3a\"], [0.8888888888888888, \"#fdca26\"], [1.0, \"#f0f921\"]], \"type\": \"heatmap\"}], \"heatmapgl\": [{\"colorbar\": {\"outlinewidth\": 0, \"ticks\": \"\"}, \"colorscale\": [[0.0, \"#0d0887\"], [0.1111111111111111, \"#46039f\"], [0.2222222222222222, \"#7201a8\"], [0.3333333333333333, \"#9c179e\"], [0.4444444444444444, \"#bd3786\"], [0.5555555555555556, \"#d8576b\"], [0.6666666666666666, \"#ed7953\"], [0.7777777777777778, \"#fb9f3a\"], [0.8888888888888888, \"#fdca26\"], [1.0, \"#f0f921\"]], \"type\": \"heatmapgl\"}], \"histogram\": [{\"marker\": {\"colorbar\": {\"outlinewidth\": 0, \"ticks\": \"\"}}, \"type\": \"histogram\"}], \"histogram2d\": [{\"colorbar\": {\"outlinewidth\": 0, \"ticks\": \"\"}, \"colorscale\": [[0.0, \"#0d0887\"], [0.1111111111111111, \"#46039f\"], [0.2222222222222222, \"#7201a8\"], [0.3333333333333333, \"#9c179e\"], [0.4444444444444444, \"#bd3786\"], [0.5555555555555556, \"#d8576b\"], [0.6666666666666666, \"#ed7953\"], [0.7777777777777778, \"#fb9f3a\"], [0.8888888888888888, \"#fdca26\"], [1.0, \"#f0f921\"]], \"type\": \"histogram2d\"}], \"histogram2dcontour\": [{\"colorbar\": {\"outlinewidth\": 0, \"ticks\": \"\"}, \"colorscale\": [[0.0, \"#0d0887\"], [0.1111111111111111, \"#46039f\"], [0.2222222222222222, \"#7201a8\"], [0.3333333333333333, \"#9c179e\"], [0.4444444444444444, \"#bd3786\"], [0.5555555555555556, \"#d8576b\"], [0.6666666666666666, \"#ed7953\"], [0.7777777777777778, \"#fb9f3a\"], [0.8888888888888888, \"#fdca26\"], [1.0, \"#f0f921\"]], \"type\": \"histogram2dcontour\"}], \"mesh3d\": [{\"colorbar\": {\"outlinewidth\": 0, \"ticks\": \"\"}, \"type\": \"mesh3d\"}], \"parcoords\": [{\"line\": {\"colorbar\": {\"outlinewidth\": 0, \"ticks\": \"\"}}, \"type\": \"parcoords\"}], \"pie\": [{\"automargin\": true, \"type\": \"pie\"}], \"scatter\": [{\"marker\": {\"colorbar\": {\"outlinewidth\": 0, \"ticks\": \"\"}}, \"type\": \"scatter\"}], \"scatter3d\": [{\"line\": {\"colorbar\": {\"outlinewidth\": 0, \"ticks\": \"\"}}, \"marker\": {\"colorbar\": {\"outlinewidth\": 0, \"ticks\": \"\"}}, \"type\": \"scatter3d\"}], \"scattercarpet\": [{\"marker\": {\"colorbar\": {\"outlinewidth\": 0, \"ticks\": \"\"}}, \"type\": \"scattercarpet\"}], \"scattergeo\": [{\"marker\": {\"colorbar\": {\"outlinewidth\": 0, \"ticks\": \"\"}}, \"type\": \"scattergeo\"}], \"scattergl\": [{\"marker\": {\"colorbar\": {\"outlinewidth\": 0, \"ticks\": \"\"}}, \"type\": \"scattergl\"}], \"scattermapbox\": [{\"marker\": {\"colorbar\": {\"outlinewidth\": 0, \"ticks\": \"\"}}, \"type\": \"scattermapbox\"}], \"scatterpolar\": [{\"marker\": {\"colorbar\": {\"outlinewidth\": 0, \"ticks\": \"\"}}, \"type\": \"scatterpolar\"}], \"scatterpolargl\": [{\"marker\": {\"colorbar\": {\"outlinewidth\": 0, \"ticks\": \"\"}}, \"type\": \"scatterpolargl\"}], \"scatterternary\": [{\"marker\": {\"colorbar\": {\"outlinewidth\": 0, \"ticks\": \"\"}}, \"type\": \"scatterternary\"}], \"surface\": [{\"colorbar\": {\"outlinewidth\": 0, \"ticks\": \"\"}, \"colorscale\": [[0.0, \"#0d0887\"], [0.1111111111111111, \"#46039f\"], [0.2222222222222222, \"#7201a8\"], [0.3333333333333333, \"#9c179e\"], [0.4444444444444444, \"#bd3786\"], [0.5555555555555556, \"#d8576b\"], [0.6666666666666666, \"#ed7953\"], [0.7777777777777778, \"#fb9f3a\"], [0.8888888888888888, \"#fdca26\"], [1.0, \"#f0f921\"]], \"type\": \"surface\"}], \"table\": [{\"cells\": {\"fill\": {\"color\": \"#EBF0F8\"}, \"line\": {\"color\": \"white\"}}, \"header\": {\"fill\": {\"color\": \"#C8D4E3\"}, \"line\": {\"color\": \"white\"}}, \"type\": \"table\"}]}, \"layout\": {\"annotationdefaults\": {\"arrowcolor\": \"#2a3f5f\", \"arrowhead\": 0, \"arrowwidth\": 1}, \"coloraxis\": {\"colorbar\": {\"outlinewidth\": 0, \"ticks\": \"\"}}, \"colorscale\": {\"diverging\": [[0, \"#8e0152\"], [0.1, \"#c51b7d\"], [0.2, \"#de77ae\"], [0.3, \"#f1b6da\"], [0.4, \"#fde0ef\"], [0.5, \"#f7f7f7\"], [0.6, \"#e6f5d0\"], [0.7, \"#b8e186\"], [0.8, \"#7fbc41\"], [0.9, \"#4d9221\"], [1, \"#276419\"]], \"sequential\": [[0.0, \"#0d0887\"], [0.1111111111111111, \"#46039f\"], [0.2222222222222222, \"#7201a8\"], [0.3333333333333333, \"#9c179e\"], [0.4444444444444444, \"#bd3786\"], [0.5555555555555556, \"#d8576b\"], [0.6666666666666666, \"#ed7953\"], [0.7777777777777778, \"#fb9f3a\"], [0.8888888888888888, \"#fdca26\"], [1.0, \"#f0f921\"]], \"sequentialminus\": [[0.0, \"#0d0887\"], [0.1111111111111111, \"#46039f\"], [0.2222222222222222, \"#7201a8\"], [0.3333333333333333, \"#9c179e\"], [0.4444444444444444, \"#bd3786\"], [0.5555555555555556, \"#d8576b\"], [0.6666666666666666, \"#ed7953\"], [0.7777777777777778, \"#fb9f3a\"], [0.8888888888888888, \"#fdca26\"], [1.0, \"#f0f921\"]]}, \"colorway\": [\"#636efa\", \"#EF553B\", \"#00cc96\", \"#ab63fa\", \"#FFA15A\", \"#19d3f3\", \"#FF6692\", \"#B6E880\", \"#FF97FF\", \"#FECB52\"], \"font\": {\"color\": \"#2a3f5f\"}, \"geo\": {\"bgcolor\": \"white\", \"lakecolor\": \"white\", \"landcolor\": \"#E5ECF6\", \"showlakes\": true, \"showland\": true, \"subunitcolor\": \"white\"}, \"hoverlabel\": {\"align\": \"left\"}, \"hovermode\": \"closest\", \"mapbox\": {\"style\": \"light\"}, \"paper_bgcolor\": \"white\", \"plot_bgcolor\": \"#E5ECF6\", \"polar\": {\"angularaxis\": {\"gridcolor\": \"white\", \"linecolor\": \"white\", \"ticks\": \"\"}, \"bgcolor\": \"#E5ECF6\", \"radialaxis\": {\"gridcolor\": \"white\", \"linecolor\": \"white\", \"ticks\": \"\"}}, \"scene\": {\"xaxis\": {\"backgroundcolor\": \"#E5ECF6\", \"gridcolor\": \"white\", \"gridwidth\": 2, \"linecolor\": \"white\", \"showbackground\": true, \"ticks\": \"\", \"zerolinecolor\": \"white\"}, \"yaxis\": {\"backgroundcolor\": \"#E5ECF6\", \"gridcolor\": \"white\", \"gridwidth\": 2, \"linecolor\": \"white\", \"showbackground\": true, \"ticks\": \"\", \"zerolinecolor\": \"white\"}, \"zaxis\": {\"backgroundcolor\": \"#E5ECF6\", \"gridcolor\": \"white\", \"gridwidth\": 2, \"linecolor\": \"white\", \"showbackground\": true, \"ticks\": \"\", \"zerolinecolor\": \"white\"}}, \"shapedefaults\": {\"line\": {\"color\": \"#2a3f5f\"}}, \"ternary\": {\"aaxis\": {\"gridcolor\": \"white\", \"linecolor\": \"white\", \"ticks\": \"\"}, \"baxis\": {\"gridcolor\": \"white\", \"linecolor\": \"white\", \"ticks\": \"\"}, \"bgcolor\": \"#E5ECF6\", \"caxis\": {\"gridcolor\": \"white\", \"linecolor\": \"white\", \"ticks\": \"\"}}, \"title\": {\"x\": 0.05}, \"xaxis\": {\"automargin\": true, \"gridcolor\": \"white\", \"linecolor\": \"white\", \"ticks\": \"\", \"title\": {\"standoff\": 15}, \"zerolinecolor\": \"white\", \"zerolinewidth\": 2}, \"yaxis\": {\"automargin\": true, \"gridcolor\": \"white\", \"linecolor\": \"white\", \"ticks\": \"\", \"title\": {\"standoff\": 15}, \"zerolinecolor\": \"white\", \"zerolinewidth\": 2}}}, \"title\": {\"text\": \"Total Revenue vs Transaction Lines per Customer\"}, \"xaxis\": {\"anchor\": \"y\", \"domain\": [0.0, 1.0], \"title\": {\"text\": \"transaction_lines\"}, \"type\": \"log\"}, \"yaxis\": {\"anchor\": \"x\", \"domain\": [0.0, 1.0], \"title\": {\"text\": \"profit\"}, \"type\": \"log\"}},                        {\"responsive\": true}                    ).then(function(){\n",
       "                            \n",
       "var gd = document.getElementById('f2c20952-f7fc-4dc7-8507-e4aa06543047');\n",
       "var x = new MutationObserver(function (mutations, observer) {{\n",
       "        var display = window.getComputedStyle(gd).display;\n",
       "        if (!display || display === 'none') {{\n",
       "            console.log([gd, 'removed!']);\n",
       "            Plotly.purge(gd);\n",
       "            observer.disconnect();\n",
       "        }}\n",
       "}});\n",
       "\n",
       "// Listen for the removal of the full notebook cells\n",
       "var notebookContainer = gd.closest('#notebook-container');\n",
       "if (notebookContainer) {{\n",
       "    x.observe(notebookContainer, {childList: true});\n",
       "}}\n",
       "\n",
       "// Listen for the clearing of the current output cell\n",
       "var outputEl = gd.closest('.output');\n",
       "if (outputEl) {{\n",
       "    x.observe(outputEl, {childList: true});\n",
       "}}\n",
       "\n",
       "                        })                };                });            </script>        </div>"
      ]
     },
     "metadata": {},
     "output_type": "display_data"
    }
   ],
   "source": [
    "fig = px.scatter(customers, x='transaction_lines', y='profit', log_x=True, log_y = True, size_max=100, hover_name = 'account', color='pricing_structure', title='Total Revenue vs Transaction Lines per Customer')\n",
    "fig.show()"
   ]
  },
  {
   "cell_type": "markdown",
   "metadata": {},
   "source": [
    "Retail customers exclusively inhabit the lower volume space, but several customers on higher discounts appear to be spending less than expected. Further research is required to see if some accounts can justify their negotiated pricing."
   ]
  },
  {
   "cell_type": "markdown",
   "metadata": {},
   "source": [
    "## TARGETED CUSTOMER INSIGHTS"
   ]
  },
  {
   "cell_type": "markdown",
   "metadata": {},
   "source": [
    "The stacked bar chart below a breakdown of sales results for each premier customer by month. Use the range finder to zoom in on any period of interest."
   ]
  },
  {
   "cell_type": "code",
   "execution_count": 11,
   "metadata": {},
   "outputs": [],
   "source": [
    "saleval_premier = df.drop(df[df.pricing_structure != '1. Premier'].index) # only investigate premier customers\n",
    "saleval_premier['mth'] = saleval_premier['inv_date'].dt.month # add numerical month value\n",
    "\n",
    "saleval_premier = pd.pivot_table(saleval_premier, index = ['year','mth', 'account'], values = ['total_sale_value','profit'], aggfunc = {'total_sale_value':'sum','profit':'sum'})\n",
    "saleval_premier = saleval_premier.reset_index(drop = False)\n",
    "\n",
    "saleval_premier['year'] = saleval_premier['year'].astype(str)\n",
    "saleval_premier['mth'] = saleval_premier['mth'].astype(str)\n",
    "saleval_premier['month_year'] = saleval_premier['year'] + '_' + saleval_premier['mth']"
   ]
  },
  {
   "cell_type": "code",
   "execution_count": 12,
   "metadata": {},
   "outputs": [
    {
     "data": {
      "application/vnd.plotly.v1+json": {
       "config": {
        "plotlyServerURL": "https://plot.ly"
       },
       "data": [
        {
         "alignmentgroup": "True",
         "hovertemplate": "account=ELEMERA<br>month_year=%{x}<br>total_sale_value=%{y}<extra></extra>",
         "legendgroup": "ELEMERA",
         "marker": {
          "color": "#636efa"
         },
         "name": "ELEMERA",
         "offsetgroup": "ELEMERA",
         "orientation": "v",
         "showlegend": true,
         "textposition": "auto",
         "type": "bar",
         "x": [
          "2010_1",
          "2010_2",
          "2010_3",
          "2010_4",
          "2010_5",
          "2010_6",
          "2010_7",
          "2010_8",
          "2010_9",
          "2010_10",
          "2010_11",
          "2010_12",
          "2011_1",
          "2011_2",
          "2011_3",
          "2011_4",
          "2011_5",
          "2011_6",
          "2011_7",
          "2011_8",
          "2011_9",
          "2011_10",
          "2011_11",
          "2011_12",
          "2012_1",
          "2012_2",
          "2012_3",
          "2012_4",
          "2012_5",
          "2012_6",
          "2012_7",
          "2012_8",
          "2012_9",
          "2012_10",
          "2012_11",
          "2012_12",
          "2013_1",
          "2013_2",
          "2013_3",
          "2013_4",
          "2013_5",
          "2013_6",
          "2013_7",
          "2013_8",
          "2013_9",
          "2013_10",
          "2013_11",
          "2013_12",
          "2014_1",
          "2014_2",
          "2014_3",
          "2014_4",
          "2014_5",
          "2014_6",
          "2014_7",
          "2014_8",
          "2014_9",
          "2014_10",
          "2014_11",
          "2014_12",
          "2015_1",
          "2015_2",
          "2015_3",
          "2015_4",
          "2015_5",
          "2015_6",
          "2015_7",
          "2015_8",
          "2015_9",
          "2015_10",
          "2015_11",
          "2015_12",
          "2016_1",
          "2016_2",
          "2016_3",
          "2016_4",
          "2016_5",
          "2016_6",
          "2016_7",
          "2016_8",
          "2016_9",
          "2016_10",
          "2016_11",
          "2016_12",
          "2017_1",
          "2017_2",
          "2017_3",
          "2017_4",
          "2017_5",
          "2017_6",
          "2017_7",
          "2017_8",
          "2017_9",
          "2017_10",
          "2017_11",
          "2017_12",
          "2018_1",
          "2018_2",
          "2018_3",
          "2018_4",
          "2018_5",
          "2018_6",
          "2018_7",
          "2018_8",
          "2018_9",
          "2018_10",
          "2018_11",
          "2018_12",
          "2019_1",
          "2019_2",
          "2019_3",
          "2019_4",
          "2019_5",
          "2019_6",
          "2019_7",
          "2019_8",
          "2019_9",
          "2019_10",
          "2019_11",
          "2019_12"
         ],
         "xaxis": "x",
         "y": [
          44298.08009999999,
          60910.4907,
          61577.595900000015,
          63759.06000000001,
          48564.80369999999,
          50866.92540000001,
          79003.29960000001,
          74946.68369999986,
          74467.45619999997,
          84042.84059999998,
          53869.08689999998,
          72055.19340000002,
          68591.8107,
          96688.97459999999,
          75001.89959999998,
          63164.64690000001,
          98658.70650000007,
          73131.87779999996,
          86744.00790000007,
          69160.14629999996,
          69939.7695,
          66564.02429999998,
          101612.08170000013,
          55900.293300000005,
          56871.62460000001,
          83902.68900000003,
          64295.19630000002,
          62697.81689999999,
          66700.56779999998,
          79235.14139999986,
          81802.26180000004,
          73970.15400000004,
          61360.97309999998,
          100321.8354,
          79859.94120000003,
          50341.9554,
          50896.696499999984,
          80671.06259999996,
          91782.04409999994,
          79765.65179999998,
          108580.17780000005,
          82135.96830000001,
          136468.60199999996,
          106922.67479999992,
          55191.10500000003,
          51486.18480000005,
          73283.09309999998,
          63176.634,
          82131.07770000002,
          61531.71659999999,
          121202.98739999987,
          93233.56050000002,
          123043.10130000002,
          104349.44969999998,
          113539.72499999992,
          92873.67389999997,
          77572.13220000004,
          82861.93170000002,
          94092.32250000013,
          96769.63530000001,
          69667.05869999995,
          142224.12000000008,
          99627.3531,
          145674.07919999998,
          112367.17799999997,
          134884.0305,
          150608.26710000006,
          146230.0686,
          171098.4960000001,
          272666.2374000001,
          212775.06059999997,
          166662.90989999988,
          177394.08329999997,
          105765.85980000006,
          114157.83869999998,
          143746.4304,
          166557.5055,
          136725.1703999999,
          128338.49250000002,
          198288.79559999992,
          183063.50279999993,
          130174.55369999999,
          161415.48420000015,
          82749.24270000002,
          129492.38339999995,
          129817.64249999996,
          171115.0146000001,
          127821.09780000006,
          132759.01349999997,
          236831.8707,
          218730.69990000007,
          149502.51269999993,
          179533.5326999999,
          143241.27930000005,
          191747.13929999992,
          98240.54310000004,
          137801.78640000007,
          283100.09310000006,
          178023.80789999987,
          175839.98400000005,
          244271.8584,
          233740.07100000003,
          145324.52100000004,
          202660.2396000001,
          191428.51499999998,
          172960.24140000003,
          171980.99279999992,
          127441.87109999997,
          244532.97540000008,
          157206.13110000006,
          214292.60009999972,
          103500.81090000004,
          221185.5588,
          182922.10289999988,
          199355.57909999997,
          175834.2726000001,
          143339.99760000003,
          147477.34260000003,
          139486.25610000006,
          90841.20209999998
         ],
         "yaxis": "y"
        },
        {
         "alignmentgroup": "True",
         "hovertemplate": "account=INSTAGES<br>month_year=%{x}<br>total_sale_value=%{y}<extra></extra>",
         "legendgroup": "INSTAGES",
         "marker": {
          "color": "#EF553B"
         },
         "name": "INSTAGES",
         "offsetgroup": "INSTAGES",
         "orientation": "v",
         "showlegend": true,
         "textposition": "auto",
         "type": "bar",
         "x": [
          "2010_1",
          "2010_5",
          "2010_6",
          "2010_7",
          "2010_8",
          "2010_10",
          "2010_12",
          "2011_7",
          "2011_10",
          "2011_11",
          "2012_3",
          "2012_4",
          "2012_5",
          "2012_6",
          "2012_7",
          "2012_10",
          "2013_1",
          "2013_2",
          "2013_4",
          "2013_5",
          "2013_6",
          "2013_7",
          "2013_8",
          "2013_9",
          "2013_10",
          "2013_11",
          "2014_1",
          "2014_2",
          "2014_3",
          "2014_4",
          "2014_5",
          "2014_6",
          "2014_7",
          "2014_8",
          "2014_9",
          "2014_10",
          "2014_11",
          "2014_12",
          "2015_1",
          "2015_2",
          "2015_3",
          "2015_4",
          "2015_5",
          "2015_6",
          "2015_8",
          "2015_9",
          "2015_10",
          "2015_11",
          "2016_1",
          "2016_2",
          "2016_3",
          "2016_4",
          "2016_5",
          "2016_6",
          "2016_7",
          "2016_8",
          "2016_9",
          "2016_10",
          "2016_11",
          "2016_12",
          "2017_1",
          "2017_2",
          "2017_3",
          "2017_4",
          "2017_5",
          "2017_6",
          "2017_7",
          "2017_8",
          "2017_9",
          "2017_10",
          "2017_11",
          "2017_12",
          "2018_1",
          "2018_2",
          "2018_3",
          "2018_4",
          "2018_5",
          "2018_6",
          "2018_7",
          "2018_8",
          "2018_9",
          "2018_10",
          "2018_11",
          "2018_12",
          "2019_1",
          "2019_2",
          "2019_3",
          "2019_4",
          "2019_5",
          "2019_6",
          "2019_7",
          "2019_8",
          "2019_9",
          "2019_10",
          "2019_11",
          "2019_12"
         ],
         "xaxis": "x",
         "y": [
          0,
          193.9311,
          0,
          0,
          0,
          724.5099,
          0,
          4027.05,
          1413.315,
          420.5403,
          4411.8,
          150.3774,
          121.7178,
          190.7505,
          236.3562,
          3327.5915999999997,
          772.0137000000001,
          25.3764,
          71.96364,
          974.4948,
          55.4382,
          292.923,
          774.4931999999999,
          3606.5952,
          1465.299,
          9723.470399999998,
          3625.9865999999997,
          1050.0084,
          7373.9133,
          6242.816699999999,
          1997.8101000000001,
          2472.6086999999998,
          4162.2426000000005,
          2679.9804,
          598.4486999999999,
          985.7978999999999,
          3150.5382,
          1688.3343,
          669.6017999999999,
          2785.1112,
          2391.2810999999997,
          16044.9984,
          597.8331000000001,
          1186.398,
          65.8692,
          10180.2798,
          6365.9538,
          4068.5859,
          13493.268,
          241.9137,
          510.8283,
          4885.812,
          1101.3768,
          2813.1552,
          1956.9069000000002,
          919.2959999999999,
          5742.5562,
          831.2652,
          1499.2938,
          13618.2861,
          2418.7095000000004,
          4788.649799999999,
          1142.8784999999996,
          3079.6245000000004,
          2129.6511,
          4407.388199999999,
          6310.8234,
          7304.6412,
          4158.685799999999,
          3566.5641000000005,
          6312.516300000001,
          2879.9135999999994,
          386.4258,
          3323.4192,
          7667.7768,
          4150.836899999999,
          10191.326400000002,
          16591.382729999998,
          3861.5048999999995,
          7311.019499999999,
          11237.2137,
          8417.9196,
          7414.0983,
          9702.9333,
          8014.9752,
          6747.5574,
          16482.5361,
          3751.7742000000007,
          1612.6668,
          3695.5665,
          8924.216400000001,
          2715.7365,
          4301.9838,
          5356.5921,
          1720.1232,
          3383.9532
         ],
         "yaxis": "y"
        },
        {
         "alignmentgroup": "True",
         "hovertemplate": "account=MAIN ASPECT<br>month_year=%{x}<br>total_sale_value=%{y}<extra></extra>",
         "legendgroup": "MAIN ASPECT",
         "marker": {
          "color": "#00cc96"
         },
         "name": "MAIN ASPECT",
         "offsetgroup": "MAIN ASPECT",
         "orientation": "v",
         "showlegend": true,
         "textposition": "auto",
         "type": "bar",
         "x": [
          "2010_1",
          "2010_2",
          "2010_3",
          "2010_4",
          "2010_5",
          "2010_6",
          "2010_7",
          "2010_8",
          "2010_9",
          "2010_10",
          "2010_11",
          "2010_12",
          "2011_1",
          "2011_2",
          "2011_3",
          "2011_4",
          "2011_5",
          "2011_6",
          "2011_7",
          "2011_8",
          "2011_9",
          "2011_10",
          "2011_11",
          "2011_12",
          "2012_1",
          "2012_2",
          "2012_3",
          "2012_4",
          "2012_5",
          "2012_6",
          "2012_7",
          "2012_8",
          "2012_9",
          "2012_10",
          "2012_11",
          "2012_12",
          "2013_1",
          "2013_2",
          "2013_3",
          "2013_4",
          "2013_5",
          "2013_6",
          "2013_7",
          "2013_8",
          "2013_9",
          "2013_10",
          "2013_11",
          "2013_12",
          "2014_1",
          "2014_2",
          "2014_3",
          "2014_4",
          "2014_5",
          "2014_6",
          "2014_7",
          "2014_8",
          "2014_9",
          "2014_10",
          "2014_11",
          "2014_12",
          "2015_1",
          "2015_2",
          "2015_3",
          "2015_4",
          "2015_5",
          "2015_6",
          "2015_7",
          "2015_8",
          "2015_9",
          "2015_10",
          "2015_11",
          "2015_12",
          "2016_1",
          "2016_2",
          "2016_3",
          "2016_4",
          "2016_5",
          "2016_6",
          "2016_7",
          "2016_8",
          "2016_9",
          "2016_10",
          "2016_11",
          "2016_12",
          "2017_1",
          "2017_2",
          "2017_3",
          "2017_4",
          "2017_5",
          "2017_6",
          "2017_7",
          "2017_8",
          "2017_9",
          "2017_10",
          "2017_11",
          "2017_12",
          "2018_1",
          "2018_2",
          "2018_3",
          "2018_4",
          "2018_5",
          "2018_6",
          "2018_7",
          "2018_8",
          "2018_9",
          "2018_10",
          "2018_11",
          "2018_12",
          "2019_1",
          "2019_2",
          "2019_3",
          "2019_4",
          "2019_5",
          "2019_6",
          "2019_7",
          "2019_8",
          "2019_9",
          "2019_10",
          "2019_11",
          "2019_12"
         ],
         "xaxis": "x",
         "y": [
          523.6361999999999,
          5805.7065,
          3158.9343,
          25664.1075,
          8103.177,
          12018.170700000002,
          6022.3976999999995,
          12015.537300000002,
          6738.1182,
          9654.3351,
          6032.8287,
          7060.282200000001,
          14175.626400000001,
          8708.7051,
          5690.7603,
          18370.0854,
          14694.320699999998,
          24435.113400000002,
          19800.1242,
          9605.5146,
          11153.782799999999,
          6007.7771999999995,
          10316.5155,
          6310.0881,
          2685.3497999999995,
          14222.976300000002,
          21969.3105,
          17298.428399999997,
          17588.7351,
          19691.351099999993,
          43056.80820000001,
          20732.9463,
          12806.326800000003,
          45645.269400000005,
          53432.64360000001,
          12779.479800000001,
          32387.536799999994,
          12667.7484,
          40729.686299999994,
          31798.424700000003,
          41112.2646,
          42620.4162,
          32834.9583,
          21979.2285,
          36798.687,
          15708.060000000001,
          6567.4601999999995,
          15352.3458,
          17808.743700000003,
          7719.0597,
          25602.496199999998,
          18404.456400000003,
          11994.1281,
          23730.080400000003,
          28447.217999999993,
          26686.379700000005,
          23045.7555,
          28463.514300000003,
          22183.5222,
          22956.578999999998,
          21534.1155,
          35337.440700000014,
          30429.142199999995,
          34083.3438,
          45071.564399999996,
          39827.5587,
          67568.32439999997,
          53641.31490000001,
          48156.9003,
          37951.6887,
          20371.845599999997,
          52424.530199999994,
          4816.0953,
          75791.7144,
          39759.3126,
          39398.2974,
          27274.3119,
          67487.97150000001,
          32831.67510000001,
          16730.0586,
          44309.8962,
          36246.0663,
          24754.57559999999,
          15515.5995,
          20109.1896,
          20110.164300000004,
          37474.3251,
          20379.6774,
          24019.8741,
          25129.4418,
          13681.2141,
          16635.8376,
          19813.5819,
          12701.708999999999,
          16927.5636,
          19477.6353,
          26860.5432,
          25676.436599999997,
          35173.0926,
          23845.009500000004,
          28544.636700000006,
          56341.1142,
          135803.36069999996,
          93203.19089999991,
          80576.96129999994,
          127699.9956,
          96176.70989999989,
          61033.662000000004,
          141964.90109999996,
          123696.91979999997,
          138391.80479999998,
          144653.7393,
          116336.51550000001,
          102011.02470000007,
          92846.17710000009,
          118886.07420000002,
          89256.42540000007,
          103428.75150000006,
          116844.7275000001,
          87588.9702
         ],
         "yaxis": "y"
        },
        {
         "alignmentgroup": "True",
         "hovertemplate": "account=ALLSECTOR<br>month_year=%{x}<br>total_sale_value=%{y}<extra></extra>",
         "legendgroup": "ALLSECTOR",
         "marker": {
          "color": "#ab63fa"
         },
         "name": "ALLSECTOR",
         "offsetgroup": "ALLSECTOR",
         "orientation": "v",
         "showlegend": true,
         "textposition": "auto",
         "type": "bar",
         "x": [
          "2015_3",
          "2015_4",
          "2015_5",
          "2015_6",
          "2015_7",
          "2015_8",
          "2015_10",
          "2015_11",
          "2015_12"
         ],
         "xaxis": "x",
         "y": [
          4191.1758,
          657.8711999999999,
          1988.4905999999999,
          6133.889699999999,
          92089.87829999997,
          75499.28729999998,
          3057.7023000000004,
          8476.2135,
          3274.5132
         ],
         "yaxis": "y"
        },
        {
         "alignmentgroup": "True",
         "hovertemplate": "account=TENPIPES<br>month_year=%{x}<br>total_sale_value=%{y}<extra></extra>",
         "legendgroup": "TENPIPES",
         "marker": {
          "color": "#FFA15A"
         },
         "name": "TENPIPES",
         "offsetgroup": "TENPIPES",
         "orientation": "v",
         "showlegend": true,
         "textposition": "auto",
         "type": "bar",
         "x": [
          "2016_2",
          "2016_4",
          "2016_7",
          "2016_8",
          "2016_10",
          "2017_1",
          "2017_2",
          "2017_3",
          "2017_5",
          "2017_6",
          "2017_7",
          "2017_8",
          "2017_9",
          "2017_10",
          "2017_12",
          "2018_1",
          "2018_3",
          "2018_4",
          "2018_6",
          "2018_7",
          "2018_8",
          "2018_9",
          "2018_10",
          "2018_11",
          "2018_12",
          "2019_1",
          "2019_2",
          "2019_3",
          "2019_4",
          "2019_5",
          "2019_6",
          "2019_7",
          "2019_8",
          "2019_10",
          "2019_11",
          "2019_12"
         ],
         "xaxis": "x",
         "y": [
          615.7368,
          542.1042,
          1760.2740000000001,
          218.9142,
          922.1517,
          1897.6212,
          1309.347,
          304.2261,
          138.9204,
          1174.6845,
          1227.1302,
          608.4522,
          33.9948,
          728.289,
          615.7368,
          898.776,
          1694.1825,
          736.2405,
          1896.5268,
          253.62720000000002,
          2306.1744,
          304.2261,
          1098.1278,
          657.5634,
          881.6247,
          432.0144,
          51.2316,
          1771.2522,
          608.4522,
          1470.0528,
          2680.9551,
          3378.0537000000004,
          230.78159999999997,
          1594.8827999999999,
          407.7666,
          2900.7756
         ],
         "yaxis": "y"
        },
        {
         "alignmentgroup": "True",
         "hovertemplate": "account=RIGFACTORY<br>month_year=%{x}<br>total_sale_value=%{y}<extra></extra>",
         "legendgroup": "RIGFACTORY",
         "marker": {
          "color": "#19d3f3"
         },
         "name": "RIGFACTORY",
         "offsetgroup": "RIGFACTORY",
         "orientation": "v",
         "showlegend": true,
         "textposition": "auto",
         "type": "bar",
         "x": [
          "2016_3",
          "2016_5",
          "2016_6",
          "2016_8",
          "2016_11",
          "2016_12",
          "2017_1",
          "2017_2",
          "2017_3",
          "2017_4",
          "2017_5",
          "2017_6",
          "2017_7",
          "2017_8",
          "2017_9",
          "2017_10",
          "2017_11",
          "2017_12",
          "2018_1",
          "2018_2",
          "2018_3",
          "2018_4",
          "2018_5",
          "2018_6",
          "2018_7",
          "2018_8",
          "2018_9",
          "2018_11",
          "2019_1",
          "2019_2",
          "2019_3",
          "2019_5",
          "2019_6",
          "2019_7",
          "2019_8",
          "2019_9",
          "2019_10",
          "2019_11"
         ],
         "xaxis": "x",
         "y": [
          22.1274,
          1562.5125,
          36.542699999999996,
          421.2243,
          556.2288,
          1098.3672,
          9440.345700000002,
          715.8744,
          2107.8828,
          5291.3556,
          773.3133,
          762.7626,
          463.40999999999997,
          42.1002,
          1096.794,
          1876.212,
          6396.973200000001,
          382.356,
          423.1395,
          1941.5169,
          174.7278,
          666.7632,
          3971.7657,
          2589.6753000000003,
          182.286,
          2042.0819999999999,
          160.3125,
          6224.3487000000005,
          1732.8969,
          62.8425,
          237.861,
          208.17540000000002,
          2715.4629,
          1122.3926999999999,
          2131.686,
          272.1465,
          200.5146,
          302.6016
         ],
         "yaxis": "y"
        }
       ],
       "layout": {
        "barmode": "relative",
        "legend": {
         "title": {
          "text": "account"
         },
         "tracegroupgap": 0
        },
        "template": {
         "data": {
          "bar": [
           {
            "error_x": {
             "color": "#2a3f5f"
            },
            "error_y": {
             "color": "#2a3f5f"
            },
            "marker": {
             "line": {
              "color": "#E5ECF6",
              "width": 0.5
             }
            },
            "type": "bar"
           }
          ],
          "barpolar": [
           {
            "marker": {
             "line": {
              "color": "#E5ECF6",
              "width": 0.5
             }
            },
            "type": "barpolar"
           }
          ],
          "carpet": [
           {
            "aaxis": {
             "endlinecolor": "#2a3f5f",
             "gridcolor": "white",
             "linecolor": "white",
             "minorgridcolor": "white",
             "startlinecolor": "#2a3f5f"
            },
            "baxis": {
             "endlinecolor": "#2a3f5f",
             "gridcolor": "white",
             "linecolor": "white",
             "minorgridcolor": "white",
             "startlinecolor": "#2a3f5f"
            },
            "type": "carpet"
           }
          ],
          "choropleth": [
           {
            "colorbar": {
             "outlinewidth": 0,
             "ticks": ""
            },
            "type": "choropleth"
           }
          ],
          "contour": [
           {
            "colorbar": {
             "outlinewidth": 0,
             "ticks": ""
            },
            "colorscale": [
             [
              0,
              "#0d0887"
             ],
             [
              0.1111111111111111,
              "#46039f"
             ],
             [
              0.2222222222222222,
              "#7201a8"
             ],
             [
              0.3333333333333333,
              "#9c179e"
             ],
             [
              0.4444444444444444,
              "#bd3786"
             ],
             [
              0.5555555555555556,
              "#d8576b"
             ],
             [
              0.6666666666666666,
              "#ed7953"
             ],
             [
              0.7777777777777778,
              "#fb9f3a"
             ],
             [
              0.8888888888888888,
              "#fdca26"
             ],
             [
              1,
              "#f0f921"
             ]
            ],
            "type": "contour"
           }
          ],
          "contourcarpet": [
           {
            "colorbar": {
             "outlinewidth": 0,
             "ticks": ""
            },
            "type": "contourcarpet"
           }
          ],
          "heatmap": [
           {
            "colorbar": {
             "outlinewidth": 0,
             "ticks": ""
            },
            "colorscale": [
             [
              0,
              "#0d0887"
             ],
             [
              0.1111111111111111,
              "#46039f"
             ],
             [
              0.2222222222222222,
              "#7201a8"
             ],
             [
              0.3333333333333333,
              "#9c179e"
             ],
             [
              0.4444444444444444,
              "#bd3786"
             ],
             [
              0.5555555555555556,
              "#d8576b"
             ],
             [
              0.6666666666666666,
              "#ed7953"
             ],
             [
              0.7777777777777778,
              "#fb9f3a"
             ],
             [
              0.8888888888888888,
              "#fdca26"
             ],
             [
              1,
              "#f0f921"
             ]
            ],
            "type": "heatmap"
           }
          ],
          "heatmapgl": [
           {
            "colorbar": {
             "outlinewidth": 0,
             "ticks": ""
            },
            "colorscale": [
             [
              0,
              "#0d0887"
             ],
             [
              0.1111111111111111,
              "#46039f"
             ],
             [
              0.2222222222222222,
              "#7201a8"
             ],
             [
              0.3333333333333333,
              "#9c179e"
             ],
             [
              0.4444444444444444,
              "#bd3786"
             ],
             [
              0.5555555555555556,
              "#d8576b"
             ],
             [
              0.6666666666666666,
              "#ed7953"
             ],
             [
              0.7777777777777778,
              "#fb9f3a"
             ],
             [
              0.8888888888888888,
              "#fdca26"
             ],
             [
              1,
              "#f0f921"
             ]
            ],
            "type": "heatmapgl"
           }
          ],
          "histogram": [
           {
            "marker": {
             "colorbar": {
              "outlinewidth": 0,
              "ticks": ""
             }
            },
            "type": "histogram"
           }
          ],
          "histogram2d": [
           {
            "colorbar": {
             "outlinewidth": 0,
             "ticks": ""
            },
            "colorscale": [
             [
              0,
              "#0d0887"
             ],
             [
              0.1111111111111111,
              "#46039f"
             ],
             [
              0.2222222222222222,
              "#7201a8"
             ],
             [
              0.3333333333333333,
              "#9c179e"
             ],
             [
              0.4444444444444444,
              "#bd3786"
             ],
             [
              0.5555555555555556,
              "#d8576b"
             ],
             [
              0.6666666666666666,
              "#ed7953"
             ],
             [
              0.7777777777777778,
              "#fb9f3a"
             ],
             [
              0.8888888888888888,
              "#fdca26"
             ],
             [
              1,
              "#f0f921"
             ]
            ],
            "type": "histogram2d"
           }
          ],
          "histogram2dcontour": [
           {
            "colorbar": {
             "outlinewidth": 0,
             "ticks": ""
            },
            "colorscale": [
             [
              0,
              "#0d0887"
             ],
             [
              0.1111111111111111,
              "#46039f"
             ],
             [
              0.2222222222222222,
              "#7201a8"
             ],
             [
              0.3333333333333333,
              "#9c179e"
             ],
             [
              0.4444444444444444,
              "#bd3786"
             ],
             [
              0.5555555555555556,
              "#d8576b"
             ],
             [
              0.6666666666666666,
              "#ed7953"
             ],
             [
              0.7777777777777778,
              "#fb9f3a"
             ],
             [
              0.8888888888888888,
              "#fdca26"
             ],
             [
              1,
              "#f0f921"
             ]
            ],
            "type": "histogram2dcontour"
           }
          ],
          "mesh3d": [
           {
            "colorbar": {
             "outlinewidth": 0,
             "ticks": ""
            },
            "type": "mesh3d"
           }
          ],
          "parcoords": [
           {
            "line": {
             "colorbar": {
              "outlinewidth": 0,
              "ticks": ""
             }
            },
            "type": "parcoords"
           }
          ],
          "pie": [
           {
            "automargin": true,
            "type": "pie"
           }
          ],
          "scatter": [
           {
            "marker": {
             "colorbar": {
              "outlinewidth": 0,
              "ticks": ""
             }
            },
            "type": "scatter"
           }
          ],
          "scatter3d": [
           {
            "line": {
             "colorbar": {
              "outlinewidth": 0,
              "ticks": ""
             }
            },
            "marker": {
             "colorbar": {
              "outlinewidth": 0,
              "ticks": ""
             }
            },
            "type": "scatter3d"
           }
          ],
          "scattercarpet": [
           {
            "marker": {
             "colorbar": {
              "outlinewidth": 0,
              "ticks": ""
             }
            },
            "type": "scattercarpet"
           }
          ],
          "scattergeo": [
           {
            "marker": {
             "colorbar": {
              "outlinewidth": 0,
              "ticks": ""
             }
            },
            "type": "scattergeo"
           }
          ],
          "scattergl": [
           {
            "marker": {
             "colorbar": {
              "outlinewidth": 0,
              "ticks": ""
             }
            },
            "type": "scattergl"
           }
          ],
          "scattermapbox": [
           {
            "marker": {
             "colorbar": {
              "outlinewidth": 0,
              "ticks": ""
             }
            },
            "type": "scattermapbox"
           }
          ],
          "scatterpolar": [
           {
            "marker": {
             "colorbar": {
              "outlinewidth": 0,
              "ticks": ""
             }
            },
            "type": "scatterpolar"
           }
          ],
          "scatterpolargl": [
           {
            "marker": {
             "colorbar": {
              "outlinewidth": 0,
              "ticks": ""
             }
            },
            "type": "scatterpolargl"
           }
          ],
          "scatterternary": [
           {
            "marker": {
             "colorbar": {
              "outlinewidth": 0,
              "ticks": ""
             }
            },
            "type": "scatterternary"
           }
          ],
          "surface": [
           {
            "colorbar": {
             "outlinewidth": 0,
             "ticks": ""
            },
            "colorscale": [
             [
              0,
              "#0d0887"
             ],
             [
              0.1111111111111111,
              "#46039f"
             ],
             [
              0.2222222222222222,
              "#7201a8"
             ],
             [
              0.3333333333333333,
              "#9c179e"
             ],
             [
              0.4444444444444444,
              "#bd3786"
             ],
             [
              0.5555555555555556,
              "#d8576b"
             ],
             [
              0.6666666666666666,
              "#ed7953"
             ],
             [
              0.7777777777777778,
              "#fb9f3a"
             ],
             [
              0.8888888888888888,
              "#fdca26"
             ],
             [
              1,
              "#f0f921"
             ]
            ],
            "type": "surface"
           }
          ],
          "table": [
           {
            "cells": {
             "fill": {
              "color": "#EBF0F8"
             },
             "line": {
              "color": "white"
             }
            },
            "header": {
             "fill": {
              "color": "#C8D4E3"
             },
             "line": {
              "color": "white"
             }
            },
            "type": "table"
           }
          ]
         },
         "layout": {
          "annotationdefaults": {
           "arrowcolor": "#2a3f5f",
           "arrowhead": 0,
           "arrowwidth": 1
          },
          "coloraxis": {
           "colorbar": {
            "outlinewidth": 0,
            "ticks": ""
           }
          },
          "colorscale": {
           "diverging": [
            [
             0,
             "#8e0152"
            ],
            [
             0.1,
             "#c51b7d"
            ],
            [
             0.2,
             "#de77ae"
            ],
            [
             0.3,
             "#f1b6da"
            ],
            [
             0.4,
             "#fde0ef"
            ],
            [
             0.5,
             "#f7f7f7"
            ],
            [
             0.6,
             "#e6f5d0"
            ],
            [
             0.7,
             "#b8e186"
            ],
            [
             0.8,
             "#7fbc41"
            ],
            [
             0.9,
             "#4d9221"
            ],
            [
             1,
             "#276419"
            ]
           ],
           "sequential": [
            [
             0,
             "#0d0887"
            ],
            [
             0.1111111111111111,
             "#46039f"
            ],
            [
             0.2222222222222222,
             "#7201a8"
            ],
            [
             0.3333333333333333,
             "#9c179e"
            ],
            [
             0.4444444444444444,
             "#bd3786"
            ],
            [
             0.5555555555555556,
             "#d8576b"
            ],
            [
             0.6666666666666666,
             "#ed7953"
            ],
            [
             0.7777777777777778,
             "#fb9f3a"
            ],
            [
             0.8888888888888888,
             "#fdca26"
            ],
            [
             1,
             "#f0f921"
            ]
           ],
           "sequentialminus": [
            [
             0,
             "#0d0887"
            ],
            [
             0.1111111111111111,
             "#46039f"
            ],
            [
             0.2222222222222222,
             "#7201a8"
            ],
            [
             0.3333333333333333,
             "#9c179e"
            ],
            [
             0.4444444444444444,
             "#bd3786"
            ],
            [
             0.5555555555555556,
             "#d8576b"
            ],
            [
             0.6666666666666666,
             "#ed7953"
            ],
            [
             0.7777777777777778,
             "#fb9f3a"
            ],
            [
             0.8888888888888888,
             "#fdca26"
            ],
            [
             1,
             "#f0f921"
            ]
           ]
          },
          "colorway": [
           "#636efa",
           "#EF553B",
           "#00cc96",
           "#ab63fa",
           "#FFA15A",
           "#19d3f3",
           "#FF6692",
           "#B6E880",
           "#FF97FF",
           "#FECB52"
          ],
          "font": {
           "color": "#2a3f5f"
          },
          "geo": {
           "bgcolor": "white",
           "lakecolor": "white",
           "landcolor": "#E5ECF6",
           "showlakes": true,
           "showland": true,
           "subunitcolor": "white"
          },
          "hoverlabel": {
           "align": "left"
          },
          "hovermode": "closest",
          "mapbox": {
           "style": "light"
          },
          "paper_bgcolor": "white",
          "plot_bgcolor": "#E5ECF6",
          "polar": {
           "angularaxis": {
            "gridcolor": "white",
            "linecolor": "white",
            "ticks": ""
           },
           "bgcolor": "#E5ECF6",
           "radialaxis": {
            "gridcolor": "white",
            "linecolor": "white",
            "ticks": ""
           }
          },
          "scene": {
           "xaxis": {
            "backgroundcolor": "#E5ECF6",
            "gridcolor": "white",
            "gridwidth": 2,
            "linecolor": "white",
            "showbackground": true,
            "ticks": "",
            "zerolinecolor": "white"
           },
           "yaxis": {
            "backgroundcolor": "#E5ECF6",
            "gridcolor": "white",
            "gridwidth": 2,
            "linecolor": "white",
            "showbackground": true,
            "ticks": "",
            "zerolinecolor": "white"
           },
           "zaxis": {
            "backgroundcolor": "#E5ECF6",
            "gridcolor": "white",
            "gridwidth": 2,
            "linecolor": "white",
            "showbackground": true,
            "ticks": "",
            "zerolinecolor": "white"
           }
          },
          "shapedefaults": {
           "line": {
            "color": "#2a3f5f"
           }
          },
          "ternary": {
           "aaxis": {
            "gridcolor": "white",
            "linecolor": "white",
            "ticks": ""
           },
           "baxis": {
            "gridcolor": "white",
            "linecolor": "white",
            "ticks": ""
           },
           "bgcolor": "#E5ECF6",
           "caxis": {
            "gridcolor": "white",
            "linecolor": "white",
            "ticks": ""
           }
          },
          "title": {
           "x": 0.05
          },
          "xaxis": {
           "automargin": true,
           "gridcolor": "white",
           "linecolor": "white",
           "ticks": "",
           "title": {
            "standoff": 15
           },
           "zerolinecolor": "white",
           "zerolinewidth": 2
          },
          "yaxis": {
           "automargin": true,
           "gridcolor": "white",
           "linecolor": "white",
           "ticks": "",
           "title": {
            "standoff": 15
           },
           "zerolinecolor": "white",
           "zerolinewidth": 2
          }
         }
        },
        "title": {
         "text": "Premier Account Monthly Sales"
        },
        "xaxis": {
         "anchor": "y",
         "domain": [
          0,
          1
         ],
         "rangeslider": {
          "visible": true
         },
         "title": {
          "text": "month_year"
         }
        },
        "yaxis": {
         "anchor": "x",
         "domain": [
          0,
          1
         ],
         "title": {
          "text": "total_sale_value"
         }
        }
       }
      },
      "text/html": [
       "<div>                            <div id=\"d5fbab09-6def-40bb-b51e-c826b3cc57dd\" class=\"plotly-graph-div\" style=\"height:525px; width:100%;\"></div>            <script type=\"text/javascript\">                require([\"plotly\"], function(Plotly) {                    window.PLOTLYENV=window.PLOTLYENV || {};                                    if (document.getElementById(\"d5fbab09-6def-40bb-b51e-c826b3cc57dd\")) {                    Plotly.newPlot(                        \"d5fbab09-6def-40bb-b51e-c826b3cc57dd\",                        [{\"alignmentgroup\": \"True\", \"hovertemplate\": \"account=ELEMERA<br>month_year=%{x}<br>total_sale_value=%{y}<extra></extra>\", \"legendgroup\": \"ELEMERA\", \"marker\": {\"color\": \"#636efa\"}, \"name\": \"ELEMERA\", \"offsetgroup\": \"ELEMERA\", \"orientation\": \"v\", \"showlegend\": true, \"textposition\": \"auto\", \"type\": \"bar\", \"x\": [\"2010_1\", \"2010_2\", \"2010_3\", \"2010_4\", \"2010_5\", \"2010_6\", \"2010_7\", \"2010_8\", \"2010_9\", \"2010_10\", \"2010_11\", \"2010_12\", \"2011_1\", \"2011_2\", \"2011_3\", \"2011_4\", \"2011_5\", \"2011_6\", \"2011_7\", \"2011_8\", \"2011_9\", \"2011_10\", \"2011_11\", \"2011_12\", \"2012_1\", \"2012_2\", \"2012_3\", \"2012_4\", \"2012_5\", \"2012_6\", \"2012_7\", \"2012_8\", \"2012_9\", \"2012_10\", \"2012_11\", \"2012_12\", \"2013_1\", \"2013_2\", \"2013_3\", \"2013_4\", \"2013_5\", \"2013_6\", \"2013_7\", \"2013_8\", \"2013_9\", \"2013_10\", \"2013_11\", \"2013_12\", \"2014_1\", \"2014_2\", \"2014_3\", \"2014_4\", \"2014_5\", \"2014_6\", \"2014_7\", \"2014_8\", \"2014_9\", \"2014_10\", \"2014_11\", \"2014_12\", \"2015_1\", \"2015_2\", \"2015_3\", \"2015_4\", \"2015_5\", \"2015_6\", \"2015_7\", \"2015_8\", \"2015_9\", \"2015_10\", \"2015_11\", \"2015_12\", \"2016_1\", \"2016_2\", \"2016_3\", \"2016_4\", \"2016_5\", \"2016_6\", \"2016_7\", \"2016_8\", \"2016_9\", \"2016_10\", \"2016_11\", \"2016_12\", \"2017_1\", \"2017_2\", \"2017_3\", \"2017_4\", \"2017_5\", \"2017_6\", \"2017_7\", \"2017_8\", \"2017_9\", \"2017_10\", \"2017_11\", \"2017_12\", \"2018_1\", \"2018_2\", \"2018_3\", \"2018_4\", \"2018_5\", \"2018_6\", \"2018_7\", \"2018_8\", \"2018_9\", \"2018_10\", \"2018_11\", \"2018_12\", \"2019_1\", \"2019_2\", \"2019_3\", \"2019_4\", \"2019_5\", \"2019_6\", \"2019_7\", \"2019_8\", \"2019_9\", \"2019_10\", \"2019_11\", \"2019_12\"], \"xaxis\": \"x\", \"y\": [44298.08009999999, 60910.4907, 61577.595900000015, 63759.06000000001, 48564.80369999999, 50866.92540000001, 79003.29960000001, 74946.68369999986, 74467.45619999997, 84042.84059999998, 53869.08689999998, 72055.19340000002, 68591.8107, 96688.97459999999, 75001.89959999998, 63164.64690000001, 98658.70650000007, 73131.87779999996, 86744.00790000007, 69160.14629999996, 69939.7695, 66564.02429999998, 101612.08170000013, 55900.293300000005, 56871.62460000001, 83902.68900000003, 64295.19630000002, 62697.81689999999, 66700.56779999998, 79235.14139999986, 81802.26180000004, 73970.15400000004, 61360.97309999998, 100321.8354, 79859.94120000003, 50341.9554, 50896.696499999984, 80671.06259999996, 91782.04409999994, 79765.65179999998, 108580.17780000005, 82135.96830000001, 136468.60199999996, 106922.67479999992, 55191.10500000003, 51486.18480000005, 73283.09309999998, 63176.634, 82131.07770000002, 61531.71659999999, 121202.98739999987, 93233.56050000002, 123043.10130000002, 104349.44969999998, 113539.72499999992, 92873.67389999997, 77572.13220000004, 82861.93170000002, 94092.32250000013, 96769.63530000001, 69667.05869999995, 142224.12000000008, 99627.3531, 145674.07919999998, 112367.17799999997, 134884.0305, 150608.26710000006, 146230.0686, 171098.4960000001, 272666.2374000001, 212775.06059999997, 166662.90989999988, 177394.08329999997, 105765.85980000006, 114157.83869999998, 143746.4304, 166557.5055, 136725.1703999999, 128338.49250000002, 198288.79559999992, 183063.50279999993, 130174.55369999999, 161415.48420000015, 82749.24270000002, 129492.38339999995, 129817.64249999996, 171115.0146000001, 127821.09780000006, 132759.01349999997, 236831.8707, 218730.69990000007, 149502.51269999993, 179533.5326999999, 143241.27930000005, 191747.13929999992, 98240.54310000004, 137801.78640000007, 283100.09310000006, 178023.80789999987, 175839.98400000005, 244271.8584, 233740.07100000003, 145324.52100000004, 202660.2396000001, 191428.51499999998, 172960.24140000003, 171980.99279999992, 127441.87109999997, 244532.97540000008, 157206.13110000006, 214292.60009999972, 103500.81090000004, 221185.5588, 182922.10289999988, 199355.57909999997, 175834.2726000001, 143339.99760000003, 147477.34260000003, 139486.25610000006, 90841.20209999998], \"yaxis\": \"y\"}, {\"alignmentgroup\": \"True\", \"hovertemplate\": \"account=INSTAGES<br>month_year=%{x}<br>total_sale_value=%{y}<extra></extra>\", \"legendgroup\": \"INSTAGES\", \"marker\": {\"color\": \"#EF553B\"}, \"name\": \"INSTAGES\", \"offsetgroup\": \"INSTAGES\", \"orientation\": \"v\", \"showlegend\": true, \"textposition\": \"auto\", \"type\": \"bar\", \"x\": [\"2010_1\", \"2010_5\", \"2010_6\", \"2010_7\", \"2010_8\", \"2010_10\", \"2010_12\", \"2011_7\", \"2011_10\", \"2011_11\", \"2012_3\", \"2012_4\", \"2012_5\", \"2012_6\", \"2012_7\", \"2012_10\", \"2013_1\", \"2013_2\", \"2013_4\", \"2013_5\", \"2013_6\", \"2013_7\", \"2013_8\", \"2013_9\", \"2013_10\", \"2013_11\", \"2014_1\", \"2014_2\", \"2014_3\", \"2014_4\", \"2014_5\", \"2014_6\", \"2014_7\", \"2014_8\", \"2014_9\", \"2014_10\", \"2014_11\", \"2014_12\", \"2015_1\", \"2015_2\", \"2015_3\", \"2015_4\", \"2015_5\", \"2015_6\", \"2015_8\", \"2015_9\", \"2015_10\", \"2015_11\", \"2016_1\", \"2016_2\", \"2016_3\", \"2016_4\", \"2016_5\", \"2016_6\", \"2016_7\", \"2016_8\", \"2016_9\", \"2016_10\", \"2016_11\", \"2016_12\", \"2017_1\", \"2017_2\", \"2017_3\", \"2017_4\", \"2017_5\", \"2017_6\", \"2017_7\", \"2017_8\", \"2017_9\", \"2017_10\", \"2017_11\", \"2017_12\", \"2018_1\", \"2018_2\", \"2018_3\", \"2018_4\", \"2018_5\", \"2018_6\", \"2018_7\", \"2018_8\", \"2018_9\", \"2018_10\", \"2018_11\", \"2018_12\", \"2019_1\", \"2019_2\", \"2019_3\", \"2019_4\", \"2019_5\", \"2019_6\", \"2019_7\", \"2019_8\", \"2019_9\", \"2019_10\", \"2019_11\", \"2019_12\"], \"xaxis\": \"x\", \"y\": [0.0, 193.9311, 0.0, 0.0, 0.0, 724.5099, 0.0, 4027.05, 1413.315, 420.5403, 4411.8, 150.3774, 121.7178, 190.7505, 236.3562, 3327.5915999999997, 772.0137000000001, 25.3764, 71.96364, 974.4948, 55.4382, 292.923, 774.4931999999999, 3606.5952, 1465.299, 9723.470399999998, 3625.9865999999997, 1050.0084, 7373.9133, 6242.816699999999, 1997.8101000000001, 2472.6086999999998, 4162.2426000000005, 2679.9804, 598.4486999999999, 985.7978999999999, 3150.5382, 1688.3343, 669.6017999999999, 2785.1112, 2391.2810999999997, 16044.9984, 597.8331000000001, 1186.398, 65.8692, 10180.2798, 6365.9538, 4068.5859, 13493.268, 241.9137, 510.8283, 4885.812, 1101.3768, 2813.1552, 1956.9069000000002, 919.2959999999999, 5742.5562, 831.2652, 1499.2938, 13618.2861, 2418.7095000000004, 4788.649799999999, 1142.8784999999996, 3079.6245000000004, 2129.6511, 4407.388199999999, 6310.8234, 7304.6412, 4158.685799999999, 3566.5641000000005, 6312.516300000001, 2879.9135999999994, 386.4258, 3323.4192, 7667.7768, 4150.836899999999, 10191.326400000002, 16591.382729999998, 3861.5048999999995, 7311.019499999999, 11237.2137, 8417.9196, 7414.0983, 9702.9333, 8014.9752, 6747.5574, 16482.5361, 3751.7742000000007, 1612.6668, 3695.5665, 8924.216400000001, 2715.7365, 4301.9838, 5356.5921, 1720.1232, 3383.9532], \"yaxis\": \"y\"}, {\"alignmentgroup\": \"True\", \"hovertemplate\": \"account=MAIN ASPECT<br>month_year=%{x}<br>total_sale_value=%{y}<extra></extra>\", \"legendgroup\": \"MAIN ASPECT\", \"marker\": {\"color\": \"#00cc96\"}, \"name\": \"MAIN ASPECT\", \"offsetgroup\": \"MAIN ASPECT\", \"orientation\": \"v\", \"showlegend\": true, \"textposition\": \"auto\", \"type\": \"bar\", \"x\": [\"2010_1\", \"2010_2\", \"2010_3\", \"2010_4\", \"2010_5\", \"2010_6\", \"2010_7\", \"2010_8\", \"2010_9\", \"2010_10\", \"2010_11\", \"2010_12\", \"2011_1\", \"2011_2\", \"2011_3\", \"2011_4\", \"2011_5\", \"2011_6\", \"2011_7\", \"2011_8\", \"2011_9\", \"2011_10\", \"2011_11\", \"2011_12\", \"2012_1\", \"2012_2\", \"2012_3\", \"2012_4\", \"2012_5\", \"2012_6\", \"2012_7\", \"2012_8\", \"2012_9\", \"2012_10\", \"2012_11\", \"2012_12\", \"2013_1\", \"2013_2\", \"2013_3\", \"2013_4\", \"2013_5\", \"2013_6\", \"2013_7\", \"2013_8\", \"2013_9\", \"2013_10\", \"2013_11\", \"2013_12\", \"2014_1\", \"2014_2\", \"2014_3\", \"2014_4\", \"2014_5\", \"2014_6\", \"2014_7\", \"2014_8\", \"2014_9\", \"2014_10\", \"2014_11\", \"2014_12\", \"2015_1\", \"2015_2\", \"2015_3\", \"2015_4\", \"2015_5\", \"2015_6\", \"2015_7\", \"2015_8\", \"2015_9\", \"2015_10\", \"2015_11\", \"2015_12\", \"2016_1\", \"2016_2\", \"2016_3\", \"2016_4\", \"2016_5\", \"2016_6\", \"2016_7\", \"2016_8\", \"2016_9\", \"2016_10\", \"2016_11\", \"2016_12\", \"2017_1\", \"2017_2\", \"2017_3\", \"2017_4\", \"2017_5\", \"2017_6\", \"2017_7\", \"2017_8\", \"2017_9\", \"2017_10\", \"2017_11\", \"2017_12\", \"2018_1\", \"2018_2\", \"2018_3\", \"2018_4\", \"2018_5\", \"2018_6\", \"2018_7\", \"2018_8\", \"2018_9\", \"2018_10\", \"2018_11\", \"2018_12\", \"2019_1\", \"2019_2\", \"2019_3\", \"2019_4\", \"2019_5\", \"2019_6\", \"2019_7\", \"2019_8\", \"2019_9\", \"2019_10\", \"2019_11\", \"2019_12\"], \"xaxis\": \"x\", \"y\": [523.6361999999999, 5805.7065, 3158.9343, 25664.1075, 8103.177, 12018.170700000002, 6022.3976999999995, 12015.537300000002, 6738.1182, 9654.3351, 6032.8287, 7060.282200000001, 14175.626400000001, 8708.7051, 5690.7603, 18370.0854, 14694.320699999998, 24435.113400000002, 19800.1242, 9605.5146, 11153.782799999999, 6007.7771999999995, 10316.5155, 6310.0881, 2685.3497999999995, 14222.976300000002, 21969.3105, 17298.428399999997, 17588.7351, 19691.351099999993, 43056.80820000001, 20732.9463, 12806.326800000003, 45645.269400000005, 53432.64360000001, 12779.479800000001, 32387.536799999994, 12667.7484, 40729.686299999994, 31798.424700000003, 41112.2646, 42620.4162, 32834.9583, 21979.2285, 36798.687, 15708.060000000001, 6567.4601999999995, 15352.3458, 17808.743700000003, 7719.0597, 25602.496199999998, 18404.456400000003, 11994.1281, 23730.080400000003, 28447.217999999993, 26686.379700000005, 23045.7555, 28463.514300000003, 22183.5222, 22956.578999999998, 21534.1155, 35337.440700000014, 30429.142199999995, 34083.3438, 45071.564399999996, 39827.5587, 67568.32439999997, 53641.31490000001, 48156.9003, 37951.6887, 20371.845599999997, 52424.530199999994, 4816.0953, 75791.7144, 39759.3126, 39398.2974, 27274.3119, 67487.97150000001, 32831.67510000001, 16730.0586, 44309.8962, 36246.0663, 24754.57559999999, 15515.5995, 20109.1896, 20110.164300000004, 37474.3251, 20379.6774, 24019.8741, 25129.4418, 13681.2141, 16635.8376, 19813.5819, 12701.708999999999, 16927.5636, 19477.6353, 26860.5432, 25676.436599999997, 35173.0926, 23845.009500000004, 28544.636700000006, 56341.1142, 135803.36069999996, 93203.19089999991, 80576.96129999994, 127699.9956, 96176.70989999989, 61033.662000000004, 141964.90109999996, 123696.91979999997, 138391.80479999998, 144653.7393, 116336.51550000001, 102011.02470000007, 92846.17710000009, 118886.07420000002, 89256.42540000007, 103428.75150000006, 116844.7275000001, 87588.9702], \"yaxis\": \"y\"}, {\"alignmentgroup\": \"True\", \"hovertemplate\": \"account=ALLSECTOR<br>month_year=%{x}<br>total_sale_value=%{y}<extra></extra>\", \"legendgroup\": \"ALLSECTOR\", \"marker\": {\"color\": \"#ab63fa\"}, \"name\": \"ALLSECTOR\", \"offsetgroup\": \"ALLSECTOR\", \"orientation\": \"v\", \"showlegend\": true, \"textposition\": \"auto\", \"type\": \"bar\", \"x\": [\"2015_3\", \"2015_4\", \"2015_5\", \"2015_6\", \"2015_7\", \"2015_8\", \"2015_10\", \"2015_11\", \"2015_12\"], \"xaxis\": \"x\", \"y\": [4191.1758, 657.8711999999999, 1988.4905999999999, 6133.889699999999, 92089.87829999997, 75499.28729999998, 3057.7023000000004, 8476.2135, 3274.5132], \"yaxis\": \"y\"}, {\"alignmentgroup\": \"True\", \"hovertemplate\": \"account=TENPIPES<br>month_year=%{x}<br>total_sale_value=%{y}<extra></extra>\", \"legendgroup\": \"TENPIPES\", \"marker\": {\"color\": \"#FFA15A\"}, \"name\": \"TENPIPES\", \"offsetgroup\": \"TENPIPES\", \"orientation\": \"v\", \"showlegend\": true, \"textposition\": \"auto\", \"type\": \"bar\", \"x\": [\"2016_2\", \"2016_4\", \"2016_7\", \"2016_8\", \"2016_10\", \"2017_1\", \"2017_2\", \"2017_3\", \"2017_5\", \"2017_6\", \"2017_7\", \"2017_8\", \"2017_9\", \"2017_10\", \"2017_12\", \"2018_1\", \"2018_3\", \"2018_4\", \"2018_6\", \"2018_7\", \"2018_8\", \"2018_9\", \"2018_10\", \"2018_11\", \"2018_12\", \"2019_1\", \"2019_2\", \"2019_3\", \"2019_4\", \"2019_5\", \"2019_6\", \"2019_7\", \"2019_8\", \"2019_10\", \"2019_11\", \"2019_12\"], \"xaxis\": \"x\", \"y\": [615.7368, 542.1042, 1760.2740000000001, 218.9142, 922.1517, 1897.6212, 1309.347, 304.2261, 138.9204, 1174.6845, 1227.1302, 608.4522, 33.9948, 728.289, 615.7368, 898.776, 1694.1825, 736.2405, 1896.5268, 253.62720000000002, 2306.1744, 304.2261, 1098.1278, 657.5634, 881.6247, 432.0144, 51.2316, 1771.2522, 608.4522, 1470.0528, 2680.9551, 3378.0537000000004, 230.78159999999997, 1594.8827999999999, 407.7666, 2900.7756], \"yaxis\": \"y\"}, {\"alignmentgroup\": \"True\", \"hovertemplate\": \"account=RIGFACTORY<br>month_year=%{x}<br>total_sale_value=%{y}<extra></extra>\", \"legendgroup\": \"RIGFACTORY\", \"marker\": {\"color\": \"#19d3f3\"}, \"name\": \"RIGFACTORY\", \"offsetgroup\": \"RIGFACTORY\", \"orientation\": \"v\", \"showlegend\": true, \"textposition\": \"auto\", \"type\": \"bar\", \"x\": [\"2016_3\", \"2016_5\", \"2016_6\", \"2016_8\", \"2016_11\", \"2016_12\", \"2017_1\", \"2017_2\", \"2017_3\", \"2017_4\", \"2017_5\", \"2017_6\", \"2017_7\", \"2017_8\", \"2017_9\", \"2017_10\", \"2017_11\", \"2017_12\", \"2018_1\", \"2018_2\", \"2018_3\", \"2018_4\", \"2018_5\", \"2018_6\", \"2018_7\", \"2018_8\", \"2018_9\", \"2018_11\", \"2019_1\", \"2019_2\", \"2019_3\", \"2019_5\", \"2019_6\", \"2019_7\", \"2019_8\", \"2019_9\", \"2019_10\", \"2019_11\"], \"xaxis\": \"x\", \"y\": [22.1274, 1562.5125, 36.542699999999996, 421.2243, 556.2288, 1098.3672, 9440.345700000002, 715.8744, 2107.8828, 5291.3556, 773.3133, 762.7626, 463.40999999999997, 42.1002, 1096.794, 1876.212, 6396.973200000001, 382.356, 423.1395, 1941.5169, 174.7278, 666.7632, 3971.7657, 2589.6753000000003, 182.286, 2042.0819999999999, 160.3125, 6224.3487000000005, 1732.8969, 62.8425, 237.861, 208.17540000000002, 2715.4629, 1122.3926999999999, 2131.686, 272.1465, 200.5146, 302.6016], \"yaxis\": \"y\"}],                        {\"barmode\": \"relative\", \"legend\": {\"title\": {\"text\": \"account\"}, \"tracegroupgap\": 0}, \"template\": {\"data\": {\"bar\": [{\"error_x\": {\"color\": \"#2a3f5f\"}, \"error_y\": {\"color\": \"#2a3f5f\"}, \"marker\": {\"line\": {\"color\": \"#E5ECF6\", \"width\": 0.5}}, \"type\": \"bar\"}], \"barpolar\": [{\"marker\": {\"line\": {\"color\": \"#E5ECF6\", \"width\": 0.5}}, \"type\": \"barpolar\"}], \"carpet\": [{\"aaxis\": {\"endlinecolor\": \"#2a3f5f\", \"gridcolor\": \"white\", \"linecolor\": \"white\", \"minorgridcolor\": \"white\", \"startlinecolor\": \"#2a3f5f\"}, \"baxis\": {\"endlinecolor\": \"#2a3f5f\", \"gridcolor\": \"white\", \"linecolor\": \"white\", \"minorgridcolor\": \"white\", \"startlinecolor\": \"#2a3f5f\"}, \"type\": \"carpet\"}], \"choropleth\": [{\"colorbar\": {\"outlinewidth\": 0, \"ticks\": \"\"}, \"type\": \"choropleth\"}], \"contour\": [{\"colorbar\": {\"outlinewidth\": 0, \"ticks\": \"\"}, \"colorscale\": [[0.0, \"#0d0887\"], [0.1111111111111111, \"#46039f\"], [0.2222222222222222, \"#7201a8\"], [0.3333333333333333, \"#9c179e\"], [0.4444444444444444, \"#bd3786\"], [0.5555555555555556, \"#d8576b\"], [0.6666666666666666, \"#ed7953\"], [0.7777777777777778, \"#fb9f3a\"], [0.8888888888888888, \"#fdca26\"], [1.0, \"#f0f921\"]], \"type\": \"contour\"}], \"contourcarpet\": [{\"colorbar\": {\"outlinewidth\": 0, \"ticks\": \"\"}, \"type\": \"contourcarpet\"}], \"heatmap\": [{\"colorbar\": {\"outlinewidth\": 0, \"ticks\": \"\"}, \"colorscale\": [[0.0, \"#0d0887\"], [0.1111111111111111, \"#46039f\"], [0.2222222222222222, \"#7201a8\"], [0.3333333333333333, \"#9c179e\"], [0.4444444444444444, \"#bd3786\"], [0.5555555555555556, \"#d8576b\"], [0.6666666666666666, \"#ed7953\"], [0.7777777777777778, \"#fb9f3a\"], [0.8888888888888888, \"#fdca26\"], [1.0, \"#f0f921\"]], \"type\": \"heatmap\"}], \"heatmapgl\": [{\"colorbar\": {\"outlinewidth\": 0, \"ticks\": \"\"}, \"colorscale\": [[0.0, \"#0d0887\"], [0.1111111111111111, \"#46039f\"], [0.2222222222222222, \"#7201a8\"], [0.3333333333333333, \"#9c179e\"], [0.4444444444444444, \"#bd3786\"], [0.5555555555555556, \"#d8576b\"], [0.6666666666666666, \"#ed7953\"], [0.7777777777777778, \"#fb9f3a\"], [0.8888888888888888, \"#fdca26\"], [1.0, \"#f0f921\"]], \"type\": \"heatmapgl\"}], \"histogram\": [{\"marker\": {\"colorbar\": {\"outlinewidth\": 0, \"ticks\": \"\"}}, \"type\": \"histogram\"}], \"histogram2d\": [{\"colorbar\": {\"outlinewidth\": 0, \"ticks\": \"\"}, \"colorscale\": [[0.0, \"#0d0887\"], [0.1111111111111111, \"#46039f\"], [0.2222222222222222, \"#7201a8\"], [0.3333333333333333, \"#9c179e\"], [0.4444444444444444, \"#bd3786\"], [0.5555555555555556, \"#d8576b\"], [0.6666666666666666, \"#ed7953\"], [0.7777777777777778, \"#fb9f3a\"], [0.8888888888888888, \"#fdca26\"], [1.0, \"#f0f921\"]], \"type\": \"histogram2d\"}], \"histogram2dcontour\": [{\"colorbar\": {\"outlinewidth\": 0, \"ticks\": \"\"}, \"colorscale\": [[0.0, \"#0d0887\"], [0.1111111111111111, \"#46039f\"], [0.2222222222222222, \"#7201a8\"], [0.3333333333333333, \"#9c179e\"], [0.4444444444444444, \"#bd3786\"], [0.5555555555555556, \"#d8576b\"], [0.6666666666666666, \"#ed7953\"], [0.7777777777777778, \"#fb9f3a\"], [0.8888888888888888, \"#fdca26\"], [1.0, \"#f0f921\"]], \"type\": \"histogram2dcontour\"}], \"mesh3d\": [{\"colorbar\": {\"outlinewidth\": 0, \"ticks\": \"\"}, \"type\": \"mesh3d\"}], \"parcoords\": [{\"line\": {\"colorbar\": {\"outlinewidth\": 0, \"ticks\": \"\"}}, \"type\": \"parcoords\"}], \"pie\": [{\"automargin\": true, \"type\": \"pie\"}], \"scatter\": [{\"marker\": {\"colorbar\": {\"outlinewidth\": 0, \"ticks\": \"\"}}, \"type\": \"scatter\"}], \"scatter3d\": [{\"line\": {\"colorbar\": {\"outlinewidth\": 0, \"ticks\": \"\"}}, \"marker\": {\"colorbar\": {\"outlinewidth\": 0, \"ticks\": \"\"}}, \"type\": \"scatter3d\"}], \"scattercarpet\": [{\"marker\": {\"colorbar\": {\"outlinewidth\": 0, \"ticks\": \"\"}}, \"type\": \"scattercarpet\"}], \"scattergeo\": [{\"marker\": {\"colorbar\": {\"outlinewidth\": 0, \"ticks\": \"\"}}, \"type\": \"scattergeo\"}], \"scattergl\": [{\"marker\": {\"colorbar\": {\"outlinewidth\": 0, \"ticks\": \"\"}}, \"type\": \"scattergl\"}], \"scattermapbox\": [{\"marker\": {\"colorbar\": {\"outlinewidth\": 0, \"ticks\": \"\"}}, \"type\": \"scattermapbox\"}], \"scatterpolar\": [{\"marker\": {\"colorbar\": {\"outlinewidth\": 0, \"ticks\": \"\"}}, \"type\": \"scatterpolar\"}], \"scatterpolargl\": [{\"marker\": {\"colorbar\": {\"outlinewidth\": 0, \"ticks\": \"\"}}, \"type\": \"scatterpolargl\"}], \"scatterternary\": [{\"marker\": {\"colorbar\": {\"outlinewidth\": 0, \"ticks\": \"\"}}, \"type\": \"scatterternary\"}], \"surface\": [{\"colorbar\": {\"outlinewidth\": 0, \"ticks\": \"\"}, \"colorscale\": [[0.0, \"#0d0887\"], [0.1111111111111111, \"#46039f\"], [0.2222222222222222, \"#7201a8\"], [0.3333333333333333, \"#9c179e\"], [0.4444444444444444, \"#bd3786\"], [0.5555555555555556, \"#d8576b\"], [0.6666666666666666, \"#ed7953\"], [0.7777777777777778, \"#fb9f3a\"], [0.8888888888888888, \"#fdca26\"], [1.0, \"#f0f921\"]], \"type\": \"surface\"}], \"table\": [{\"cells\": {\"fill\": {\"color\": \"#EBF0F8\"}, \"line\": {\"color\": \"white\"}}, \"header\": {\"fill\": {\"color\": \"#C8D4E3\"}, \"line\": {\"color\": \"white\"}}, \"type\": \"table\"}]}, \"layout\": {\"annotationdefaults\": {\"arrowcolor\": \"#2a3f5f\", \"arrowhead\": 0, \"arrowwidth\": 1}, \"coloraxis\": {\"colorbar\": {\"outlinewidth\": 0, \"ticks\": \"\"}}, \"colorscale\": {\"diverging\": [[0, \"#8e0152\"], [0.1, \"#c51b7d\"], [0.2, \"#de77ae\"], [0.3, \"#f1b6da\"], [0.4, \"#fde0ef\"], [0.5, \"#f7f7f7\"], [0.6, \"#e6f5d0\"], [0.7, \"#b8e186\"], [0.8, \"#7fbc41\"], [0.9, \"#4d9221\"], [1, \"#276419\"]], \"sequential\": [[0.0, \"#0d0887\"], [0.1111111111111111, \"#46039f\"], [0.2222222222222222, \"#7201a8\"], [0.3333333333333333, \"#9c179e\"], [0.4444444444444444, \"#bd3786\"], [0.5555555555555556, \"#d8576b\"], [0.6666666666666666, \"#ed7953\"], [0.7777777777777778, \"#fb9f3a\"], [0.8888888888888888, \"#fdca26\"], [1.0, \"#f0f921\"]], \"sequentialminus\": [[0.0, \"#0d0887\"], [0.1111111111111111, \"#46039f\"], [0.2222222222222222, \"#7201a8\"], [0.3333333333333333, \"#9c179e\"], [0.4444444444444444, \"#bd3786\"], [0.5555555555555556, \"#d8576b\"], [0.6666666666666666, \"#ed7953\"], [0.7777777777777778, \"#fb9f3a\"], [0.8888888888888888, \"#fdca26\"], [1.0, \"#f0f921\"]]}, \"colorway\": [\"#636efa\", \"#EF553B\", \"#00cc96\", \"#ab63fa\", \"#FFA15A\", \"#19d3f3\", \"#FF6692\", \"#B6E880\", \"#FF97FF\", \"#FECB52\"], \"font\": {\"color\": \"#2a3f5f\"}, \"geo\": {\"bgcolor\": \"white\", \"lakecolor\": \"white\", \"landcolor\": \"#E5ECF6\", \"showlakes\": true, \"showland\": true, \"subunitcolor\": \"white\"}, \"hoverlabel\": {\"align\": \"left\"}, \"hovermode\": \"closest\", \"mapbox\": {\"style\": \"light\"}, \"paper_bgcolor\": \"white\", \"plot_bgcolor\": \"#E5ECF6\", \"polar\": {\"angularaxis\": {\"gridcolor\": \"white\", \"linecolor\": \"white\", \"ticks\": \"\"}, \"bgcolor\": \"#E5ECF6\", \"radialaxis\": {\"gridcolor\": \"white\", \"linecolor\": \"white\", \"ticks\": \"\"}}, \"scene\": {\"xaxis\": {\"backgroundcolor\": \"#E5ECF6\", \"gridcolor\": \"white\", \"gridwidth\": 2, \"linecolor\": \"white\", \"showbackground\": true, \"ticks\": \"\", \"zerolinecolor\": \"white\"}, \"yaxis\": {\"backgroundcolor\": \"#E5ECF6\", \"gridcolor\": \"white\", \"gridwidth\": 2, \"linecolor\": \"white\", \"showbackground\": true, \"ticks\": \"\", \"zerolinecolor\": \"white\"}, \"zaxis\": {\"backgroundcolor\": \"#E5ECF6\", \"gridcolor\": \"white\", \"gridwidth\": 2, \"linecolor\": \"white\", \"showbackground\": true, \"ticks\": \"\", \"zerolinecolor\": \"white\"}}, \"shapedefaults\": {\"line\": {\"color\": \"#2a3f5f\"}}, \"ternary\": {\"aaxis\": {\"gridcolor\": \"white\", \"linecolor\": \"white\", \"ticks\": \"\"}, \"baxis\": {\"gridcolor\": \"white\", \"linecolor\": \"white\", \"ticks\": \"\"}, \"bgcolor\": \"#E5ECF6\", \"caxis\": {\"gridcolor\": \"white\", \"linecolor\": \"white\", \"ticks\": \"\"}}, \"title\": {\"x\": 0.05}, \"xaxis\": {\"automargin\": true, \"gridcolor\": \"white\", \"linecolor\": \"white\", \"ticks\": \"\", \"title\": {\"standoff\": 15}, \"zerolinecolor\": \"white\", \"zerolinewidth\": 2}, \"yaxis\": {\"automargin\": true, \"gridcolor\": \"white\", \"linecolor\": \"white\", \"ticks\": \"\", \"title\": {\"standoff\": 15}, \"zerolinecolor\": \"white\", \"zerolinewidth\": 2}}}, \"title\": {\"text\": \"Premier Account Monthly Sales\"}, \"xaxis\": {\"anchor\": \"y\", \"domain\": [0.0, 1.0], \"rangeslider\": {\"visible\": true}, \"title\": {\"text\": \"month_year\"}}, \"yaxis\": {\"anchor\": \"x\", \"domain\": [0.0, 1.0], \"title\": {\"text\": \"total_sale_value\"}}},                        {\"responsive\": true}                    ).then(function(){\n",
       "                            \n",
       "var gd = document.getElementById('d5fbab09-6def-40bb-b51e-c826b3cc57dd');\n",
       "var x = new MutationObserver(function (mutations, observer) {{\n",
       "        var display = window.getComputedStyle(gd).display;\n",
       "        if (!display || display === 'none') {{\n",
       "            console.log([gd, 'removed!']);\n",
       "            Plotly.purge(gd);\n",
       "            observer.disconnect();\n",
       "        }}\n",
       "}});\n",
       "\n",
       "// Listen for the removal of the full notebook cells\n",
       "var notebookContainer = gd.closest('#notebook-container');\n",
       "if (notebookContainer) {{\n",
       "    x.observe(notebookContainer, {childList: true});\n",
       "}}\n",
       "\n",
       "// Listen for the clearing of the current output cell\n",
       "var outputEl = gd.closest('.output');\n",
       "if (outputEl) {{\n",
       "    x.observe(outputEl, {childList: true});\n",
       "}}\n",
       "\n",
       "                        })                };                });            </script>        </div>"
      ]
     },
     "metadata": {},
     "output_type": "display_data"
    }
   ],
   "source": [
    "fig = px.bar(saleval_premier, x='month_year', y='total_sale_value', color = 'account', title='Premier Account Monthly Sales')\n",
    "\n",
    "\n",
    "fig.update_xaxes(rangeslider_visible=True)\n",
    "fig.show()"
   ]
  },
  {
   "cell_type": "markdown",
   "metadata": {},
   "source": [
    "A more in depth assessment of sales figures reveals consistently two key accounts with consistently high volumes. Four accounts have a favourable pricing structure that is not supported by recent sales activity."
   ]
  },
  {
   "cell_type": "markdown",
   "metadata": {},
   "source": [
    "## CONCLUSION & FURTHER RECOMMENDATIONS FOR FURTHER ANALYSIS"
   ]
  },
  {
   "cell_type": "markdown",
   "metadata": {},
   "source": [
    "This document provides a brief introduction to the potential of analysis and presentations with Python programming. I look forward to utilizing these skills in a real life environment."
   ]
  }
 ],
 "metadata": {
  "kernelspec": {
   "display_name": "Python 3",
   "language": "python",
   "name": "python3"
  },
  "language_info": {
   "codemirror_mode": {
    "name": "ipython",
    "version": 3
   },
   "file_extension": ".py",
   "mimetype": "text/x-python",
   "name": "python",
   "nbconvert_exporter": "python",
   "pygments_lexer": "ipython3",
   "version": "3.7.4"
  }
 },
 "nbformat": 4,
 "nbformat_minor": 2
}
